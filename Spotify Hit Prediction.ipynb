{
 "cells": [
  {
   "cell_type": "code",
   "execution_count": 1,
   "metadata": {},
   "outputs": [],
   "source": [
    "%matplotlib inline\n",
    "\n",
    "import numpy as np\n",
    "import pandas as pd\n",
    "import matplotlib.pyplot as plt"
   ]
  },
  {
   "cell_type": "code",
   "execution_count": 2,
   "metadata": {},
   "outputs": [],
   "source": [
    "#pip install -U scikit-learn\n",
    "import sklearn"
   ]
  },
  {
   "cell_type": "code",
   "execution_count": 3,
   "metadata": {
    "scrolled": true
   },
   "outputs": [
    {
     "data": {
      "text/plain": [
       "'0.23.1'"
      ]
     },
     "execution_count": 3,
     "metadata": {},
     "output_type": "execute_result"
    }
   ],
   "source": [
    "sklearn.__version__ #tiene que ser scikit-learn>=0.23 para que imblearn funcione"
   ]
  },
  {
   "cell_type": "markdown",
   "metadata": {},
   "source": [
    "# ÍNDICE\n",
    "\n",
    "1. Descripción datasets\n",
    "        1.1. Artistas musicales `df_artistas`\n",
    "        1.2. Canciones de Spotify `df_canciones`\n",
    "2. Pre-processing de los datos\n",
    "        2.1. Tratamiento valores ausente (missings)\n",
    "        2.2. Creación y modificación variables\n",
    "             - Modificación variable 'Genres' de `df_artistas`\n",
    "             - Creación variable 'featuring' en `df_canciones`\n",
    "             - Creación variable 'main artist' en `df_canciones`\n",
    "        2.3. Merge de `df_artistas` y `df_canciones`\n",
    "        2.4. Tratamiento datos atípicos (outliers)\n",
    "        2.4. Conversión de variables categóricas a variables dummy\n",
    "        2.5. Definición del dataset final\n",
    "3. Análisis descriptivo de los datos\n",
    "\n",
    "4. Aplicación modelos\n",
    "        4.1. Problemática datos desbalanceados\n",
    "        4.2. Modelo con parámetro 'balanced'\n",
    "        4.3. RobustScaler\n",
    "        4.4. RobustScaler y reducción dimesionalidad (PCA)\n",
    "        4.5. Selección del mejor modelo\n",
    "5. Conclusiones"
   ]
  },
  {
   "cell_type": "code",
   "execution_count": null,
   "metadata": {},
   "outputs": [],
   "source": []
  },
  {
   "cell_type": "markdown",
   "metadata": {},
   "source": [
    "# 1. DESCRIPCIÓN DATASETS"
   ]
  },
  {
   "cell_type": "markdown",
   "metadata": {},
   "source": [
    "Se han tomado dos datasets diferentes:\n",
    "- **Un dataset de canciones de Spotify**, que contiene un listado de canciones en Spotify de la de decada de los 10's, desde el 1 de enero de 2010 hasta el 31 de diciembre de 2019, obtenidas a través de la API de Spotify Web. Presenta un desglose detallado de cómo son y cómo suenan \"técnicamente\" estas canciones. Además, viene incluida la variable 'target', que será nuestro objeto a estudiar: vale 1 si la canción fue un éxito (hit), ó 0 si la canción no fue popular (no hit). El hecho de que se etiquete como 1 ó 0 sigue un criterio subjetivo que el propio autor del dataset explica:\n",
    "\n",
    "> target: The target variable for the track. It can be either '0' or '1'. '1' implies that this song has featured in the weekly list (Issued by Billboards) of Hot-100 tracks in that decade at least once and is therefore a 'hit'. '0' Implies that the track is a 'flop'. The author's condition of a track being 'flop' is as follows:\n",
    ">- The track must not appear in the 'hit' list of that decade.\n",
    ">- The track's artist must not appear in the 'hit' list of that decade.\n",
    ">- The track must belong to a genre that could be considered non-mainstream and / or avant-garde. \n",
    ">- The track's genre must not have a song in the 'hit' list.\n",
    ">- The track must have 'US' as one of its markets.\n",
    "\n",
    "- **Un dataset de artistas musicales**:\n",
    "\n",
    "> Data on tenured Billboard artists who appeared on Billboard between July 1999 and July 2019, released at least 3 albums, and released their first album no later than 2012. These are artists to be considered tenured popular artists. The file has demographic, genre, and history data on them\n",
    "\n",
    "La idea es ampliar el dataset de las canciones de Spotify con características propias de los artistas, y no únicamente de lo \"bien o mal\" que suenan las canciones. De esta forma, podemos estudiar si hay alguna relación causal entre las características musicales y personales del artista con el hecho de que una canción se convierta en un 'hit'.\n",
    "\n",
    "La **aplicación** de este modelo en el mundo real está enfocado en las discográficas, de tal forma que puedan predecir de antemano (antes de firmar un contrato discográfico con un artista desconocido, por ejemplo) si sus canciones pueden convertirse en un 'hit' o no vayan a ser populares.\n",
    "\n",
    "**Nota**: como el dataset de artistas musicales está compuesto por artistas que ya tienen una trayectoria, seguramente muchas de las canciones 'no hit' no encontrarán su cruce en el dataset de los artistas musicales, por lo que lidiaremos con ello más adelante."
   ]
  },
  {
   "cell_type": "markdown",
   "metadata": {},
   "source": [
    "## 1.1. Artistas musicales"
   ]
  },
  {
   "cell_type": "markdown",
   "metadata": {},
   "source": [
    "https://www.kaggle.com/danield2255/data-on-songs-from-billboard-19992019\n",
    "\n",
    "Las variables del dataset que se han seleccionado son:\n",
    "\n",
    "- **Genres**: los géneros musicales que canta el artista\n",
    "- **Gender**: el sexo de éste\n",
    "- **Group.Solo**: 'Group' cuando es una banda, 'Solo' cuando canta en solitario"
   ]
  },
  {
   "cell_type": "code",
   "execution_count": 4,
   "metadata": {
    "scrolled": true
   },
   "outputs": [
    {
     "data": {
      "text/html": [
       "<div>\n",
       "<style scoped>\n",
       "    .dataframe tbody tr th:only-of-type {\n",
       "        vertical-align: middle;\n",
       "    }\n",
       "\n",
       "    .dataframe tbody tr th {\n",
       "        vertical-align: top;\n",
       "    }\n",
       "\n",
       "    .dataframe thead th {\n",
       "        text-align: right;\n",
       "    }\n",
       "</style>\n",
       "<table border=\"1\" class=\"dataframe\">\n",
       "  <thead>\n",
       "    <tr style=\"text-align: right;\">\n",
       "      <th></th>\n",
       "      <th>Artist</th>\n",
       "      <th>Genres</th>\n",
       "      <th>Gender</th>\n",
       "      <th>Group.Solo</th>\n",
       "    </tr>\n",
       "  </thead>\n",
       "  <tbody>\n",
       "    <tr>\n",
       "      <td>0</td>\n",
       "      <td>Ed Sheeran</td>\n",
       "      <td>pop,uk pop</td>\n",
       "      <td>M</td>\n",
       "      <td>Solo</td>\n",
       "    </tr>\n",
       "    <tr>\n",
       "      <td>1</td>\n",
       "      <td>Justin Bieber</td>\n",
       "      <td>canadian pop,dance pop,pop,post-teen pop</td>\n",
       "      <td>M</td>\n",
       "      <td>Solo</td>\n",
       "    </tr>\n",
       "    <tr>\n",
       "      <td>2</td>\n",
       "      <td>Jonas Brothers</td>\n",
       "      <td>boy band,dance pop,pop,post-teen pop</td>\n",
       "      <td>M</td>\n",
       "      <td>Group</td>\n",
       "    </tr>\n",
       "    <tr>\n",
       "      <td>3</td>\n",
       "      <td>Drake</td>\n",
       "      <td>canadian hip hop,canadian pop,hip hop,pop rap,...</td>\n",
       "      <td>M</td>\n",
       "      <td>Solo</td>\n",
       "    </tr>\n",
       "    <tr>\n",
       "      <td>4</td>\n",
       "      <td>Chris Brown</td>\n",
       "      <td>dance pop,pop,pop rap,r&amp;b,rap</td>\n",
       "      <td>M</td>\n",
       "      <td>Solo</td>\n",
       "    </tr>\n",
       "    <tr>\n",
       "      <td>...</td>\n",
       "      <td>...</td>\n",
       "      <td>...</td>\n",
       "      <td>...</td>\n",
       "      <td>...</td>\n",
       "    </tr>\n",
       "    <tr>\n",
       "      <td>1030</td>\n",
       "      <td>Dwight Yoakam</td>\n",
       "      <td>country,country rock,nashville sound,outlaw co...</td>\n",
       "      <td>M</td>\n",
       "      <td>Solo</td>\n",
       "    </tr>\n",
       "    <tr>\n",
       "      <td>1031</td>\n",
       "      <td>Jordan Knight</td>\n",
       "      <td>NaN</td>\n",
       "      <td>M</td>\n",
       "      <td>Solo</td>\n",
       "    </tr>\n",
       "    <tr>\n",
       "      <td>1032</td>\n",
       "      <td>Lila McCann</td>\n",
       "      <td>contemporary country,country,country dawn</td>\n",
       "      <td>F</td>\n",
       "      <td>Solo</td>\n",
       "    </tr>\n",
       "    <tr>\n",
       "      <td>1033</td>\n",
       "      <td>Everlast</td>\n",
       "      <td>rap rock</td>\n",
       "      <td>M</td>\n",
       "      <td>Solo</td>\n",
       "    </tr>\n",
       "    <tr>\n",
       "      <td>1034</td>\n",
       "      <td>Collective Soul</td>\n",
       "      <td>alternative metal,alternative rock,pop rock,po...</td>\n",
       "      <td>M</td>\n",
       "      <td>Group</td>\n",
       "    </tr>\n",
       "  </tbody>\n",
       "</table>\n",
       "<p>1035 rows × 4 columns</p>\n",
       "</div>"
      ],
      "text/plain": [
       "               Artist                                             Genres  \\\n",
       "0          Ed Sheeran                                         pop,uk pop   \n",
       "1       Justin Bieber           canadian pop,dance pop,pop,post-teen pop   \n",
       "2      Jonas Brothers               boy band,dance pop,pop,post-teen pop   \n",
       "3               Drake  canadian hip hop,canadian pop,hip hop,pop rap,...   \n",
       "4         Chris Brown                      dance pop,pop,pop rap,r&b,rap   \n",
       "...               ...                                                ...   \n",
       "1030    Dwight Yoakam  country,country rock,nashville sound,outlaw co...   \n",
       "1031    Jordan Knight                                                NaN   \n",
       "1032      Lila McCann          contemporary country,country,country dawn   \n",
       "1033         Everlast                                           rap rock   \n",
       "1034  Collective Soul  alternative metal,alternative rock,pop rock,po...   \n",
       "\n",
       "     Gender Group.Solo  \n",
       "0         M       Solo  \n",
       "1         M       Solo  \n",
       "2         M      Group  \n",
       "3         M       Solo  \n",
       "4         M       Solo  \n",
       "...     ...        ...  \n",
       "1030      M       Solo  \n",
       "1031      M       Solo  \n",
       "1032      F       Solo  \n",
       "1033      M       Solo  \n",
       "1034      M      Group  \n",
       "\n",
       "[1035 rows x 4 columns]"
      ]
     },
     "execution_count": 4,
     "metadata": {},
     "output_type": "execute_result"
    }
   ],
   "source": [
    "df_artistas = pd.read_csv('artistDf.csv', sep=',')\n",
    "df_artistas = df_artistas.drop(['X','YearFirstAlbum','Followers','NumAlbums'], axis=1)\n",
    "df_artistas #1035 artistas con 3 características"
   ]
  },
  {
   "cell_type": "markdown",
   "metadata": {},
   "source": [
    "En el dataset original había disponible datos como el número de seguidores en Spotify (`Followers`) o el número de álbumes publicados (`NumAlbums`), pero se ha decidido eliminarlos porque provocaría cierto sesgo en los resultados. El objetivo es predecir \"a ciegas\" si una canción va a ser un 'hit' o no en base únicamente a características de la canción y del artista. Si el artista ya tuviera una reputación y una consolidada carrera musical (= gran número de seguidores y muchos álbumes publicados), cualquier canción que publique tiene más probabilidades de triunfar que una canción de las mismas características de una persona desconocida."
   ]
  },
  {
   "cell_type": "markdown",
   "metadata": {},
   "source": [
    "## 1.2. Canciones de Spotify"
   ]
  },
  {
   "cell_type": "markdown",
   "metadata": {},
   "source": [
    "https://www.kaggle.com/theoverman/the-spotify-hit-predictor-dataset?select=dataset-of-10s.csv\n",
    "\n",
    "\n",
    "- **danceability**: Danceability describes how suitable a track is for dancing based on a combination of musical elements including tempo, rhythm stability, beat strength, and overall regularity. A value of 0.0 is least danceable and 1.0 is most danceable. \n",
    "\n",
    "- **energy**: Energy is a measure from 0.0 to 1.0 and represents a perceptual measure of intensity and activity. Typically, energetic tracks feel fast, loud, and noisy. For example, death metal has high energy, while a Bach prelude scores low on the scale. Perceptual features contributing to this attribute include dynamic range, perceived loudness, timbre, onset rate, and general entropy. \n",
    "\n",
    "- **key**: The estimated overall key of the track. Integers map to pitches using standard Pitch Class notation. E.g. 0 = C, 1 = C?/D?, 2 = D, and so on. If no key was detected, the value is -1.\n",
    "\n",
    "- **loudness**: The overall loudness of a track in decibels (dB). Loudness values are averaged across the entire track and are useful for comparing relative loudness of tracks. Loudness is the quality of a sound that is the primary psychological correlate of physical strength (amplitude). Values typical range between -60 and 0 db. \n",
    "\n",
    "- **mode**: Mode indicates the modality (major or minor) of a track, the type of scale from which its melodic content is derived. Major is represented by 1 and minor is 0.\n",
    "\n",
    "- **speechiness**: Speechiness detects the presence of spoken words in a track. The more exclusively speech-like the recording (e.g. talk show, audio book, poetry), the closer to 1.0 the attribute value. Values above 0.66 describe tracks that are probably made entirely of spoken words. Values between 0.33 and 0.66 describe tracks that may contain both music and speech, either in sections or layered, including such cases as rap music. Values below 0.33 most likely represent music and other non-speech-like tracks. \n",
    "\n",
    "- **acousticness**: A confidence measure from 0.0 to 1.0 of whether the track is acoustic. 1.0 represents high confidence the track is acoustic. The distribution of values for this feature look like this:\n",
    "\n",
    "- **instrumentalness**: Predicts whether a track contains no vocals. “Ooh” and “aah” sounds are treated as instrumental in this context. Rap or spoken word tracks are clearly “vocal”. The closer the instrumentalness value is to 1.0, the greater likelihood the track contains no vocal content. Values above 0.5 are intended to represent instrumental tracks, but confidence is higher as the value approaches 1.0. The distribution of values for this feature look like this:\n",
    "\n",
    "- **liveness**: Detects the presence of an audience in the recording. Higher liveness values represent an increased probability that the track was performed live. A value above 0.8 provides strong likelihood that the track is live.\n",
    "\n",
    "- **valence**: A measure from 0.0 to 1.0 describing the musical positiveness conveyed by a track. Tracks with high valence sound more positive (e.g. happy, cheerful, euphoric), while tracks with low valence sound more negative (e.g. sad, depressed, angry).\n",
    "\n",
    "- **tempo**: The overall estimated tempo of a track in beats per minute (BPM). In musical terminology, tempo is the speed or pace of a given piece and derives directly from the average beat duration. \n",
    "\n",
    "- **duration_ms**:  The duration of the track in milliseconds.\n",
    "\n",
    "- **time_signature**: An estimated overall time signature of a track. The time signature (meter) is a notational convention to specify how many beats are in each bar (or measure).\n",
    "\n",
    "- **chorus_hit**: This the the author's best estimate of when the chorus would start for the track. Its the timestamp of the start of the third section of the track. This feature was extracted from the data received by the API call for Audio Analysis of that particular track.\n",
    "\n",
    "- **sections**: The number of sections the particular track has. This feature was extracted from the data received by the API call for Audio Analysis of that particular track."
   ]
  },
  {
   "cell_type": "code",
   "execution_count": 5,
   "metadata": {
    "scrolled": true
   },
   "outputs": [
    {
     "data": {
      "text/html": [
       "<div>\n",
       "<style scoped>\n",
       "    .dataframe tbody tr th:only-of-type {\n",
       "        vertical-align: middle;\n",
       "    }\n",
       "\n",
       "    .dataframe tbody tr th {\n",
       "        vertical-align: top;\n",
       "    }\n",
       "\n",
       "    .dataframe thead th {\n",
       "        text-align: right;\n",
       "    }\n",
       "</style>\n",
       "<table border=\"1\" class=\"dataframe\">\n",
       "  <thead>\n",
       "    <tr style=\"text-align: right;\">\n",
       "      <th></th>\n",
       "      <th>track</th>\n",
       "      <th>artist</th>\n",
       "      <th>danceability</th>\n",
       "      <th>energy</th>\n",
       "      <th>key</th>\n",
       "      <th>loudness</th>\n",
       "      <th>mode</th>\n",
       "      <th>speechiness</th>\n",
       "      <th>acousticness</th>\n",
       "      <th>instrumentalness</th>\n",
       "      <th>liveness</th>\n",
       "      <th>valence</th>\n",
       "      <th>tempo</th>\n",
       "      <th>duration_ms</th>\n",
       "      <th>time_signature</th>\n",
       "      <th>chorus_hit</th>\n",
       "      <th>sections</th>\n",
       "      <th>target</th>\n",
       "    </tr>\n",
       "  </thead>\n",
       "  <tbody>\n",
       "    <tr>\n",
       "      <td>0</td>\n",
       "      <td>Wild Things</td>\n",
       "      <td>Alessia Cara</td>\n",
       "      <td>0.741</td>\n",
       "      <td>0.626</td>\n",
       "      <td>1</td>\n",
       "      <td>-4.826</td>\n",
       "      <td>0</td>\n",
       "      <td>0.0886</td>\n",
       "      <td>0.02000</td>\n",
       "      <td>0.000000</td>\n",
       "      <td>0.0828</td>\n",
       "      <td>0.7060</td>\n",
       "      <td>108.029</td>\n",
       "      <td>188493</td>\n",
       "      <td>4</td>\n",
       "      <td>41.18681</td>\n",
       "      <td>10</td>\n",
       "      <td>1</td>\n",
       "    </tr>\n",
       "    <tr>\n",
       "      <td>1</td>\n",
       "      <td>Surfboard</td>\n",
       "      <td>Esquivel!</td>\n",
       "      <td>0.447</td>\n",
       "      <td>0.247</td>\n",
       "      <td>5</td>\n",
       "      <td>-14.661</td>\n",
       "      <td>0</td>\n",
       "      <td>0.0346</td>\n",
       "      <td>0.87100</td>\n",
       "      <td>0.814000</td>\n",
       "      <td>0.0946</td>\n",
       "      <td>0.2500</td>\n",
       "      <td>155.489</td>\n",
       "      <td>176880</td>\n",
       "      <td>3</td>\n",
       "      <td>33.18083</td>\n",
       "      <td>9</td>\n",
       "      <td>0</td>\n",
       "    </tr>\n",
       "    <tr>\n",
       "      <td>2</td>\n",
       "      <td>Love Someone</td>\n",
       "      <td>Lukas Graham</td>\n",
       "      <td>0.550</td>\n",
       "      <td>0.415</td>\n",
       "      <td>9</td>\n",
       "      <td>-6.557</td>\n",
       "      <td>0</td>\n",
       "      <td>0.0520</td>\n",
       "      <td>0.16100</td>\n",
       "      <td>0.000000</td>\n",
       "      <td>0.1080</td>\n",
       "      <td>0.2740</td>\n",
       "      <td>172.065</td>\n",
       "      <td>205463</td>\n",
       "      <td>4</td>\n",
       "      <td>44.89147</td>\n",
       "      <td>9</td>\n",
       "      <td>1</td>\n",
       "    </tr>\n",
       "    <tr>\n",
       "      <td>3</td>\n",
       "      <td>Music To My Ears (feat. Tory Lanez)</td>\n",
       "      <td>Keys N Krates</td>\n",
       "      <td>0.502</td>\n",
       "      <td>0.648</td>\n",
       "      <td>0</td>\n",
       "      <td>-5.698</td>\n",
       "      <td>0</td>\n",
       "      <td>0.0527</td>\n",
       "      <td>0.00513</td>\n",
       "      <td>0.000000</td>\n",
       "      <td>0.2040</td>\n",
       "      <td>0.2910</td>\n",
       "      <td>91.837</td>\n",
       "      <td>193043</td>\n",
       "      <td>4</td>\n",
       "      <td>29.52521</td>\n",
       "      <td>7</td>\n",
       "      <td>0</td>\n",
       "    </tr>\n",
       "    <tr>\n",
       "      <td>4</td>\n",
       "      <td>Juju On That Beat (TZ Anthem)</td>\n",
       "      <td>Zay Hilfigerrr &amp; Zayion McCall</td>\n",
       "      <td>0.807</td>\n",
       "      <td>0.887</td>\n",
       "      <td>1</td>\n",
       "      <td>-3.892</td>\n",
       "      <td>1</td>\n",
       "      <td>0.2750</td>\n",
       "      <td>0.00381</td>\n",
       "      <td>0.000000</td>\n",
       "      <td>0.3910</td>\n",
       "      <td>0.7800</td>\n",
       "      <td>160.517</td>\n",
       "      <td>144244</td>\n",
       "      <td>4</td>\n",
       "      <td>24.99199</td>\n",
       "      <td>8</td>\n",
       "      <td>1</td>\n",
       "    </tr>\n",
       "    <tr>\n",
       "      <td>...</td>\n",
       "      <td>...</td>\n",
       "      <td>...</td>\n",
       "      <td>...</td>\n",
       "      <td>...</td>\n",
       "      <td>...</td>\n",
       "      <td>...</td>\n",
       "      <td>...</td>\n",
       "      <td>...</td>\n",
       "      <td>...</td>\n",
       "      <td>...</td>\n",
       "      <td>...</td>\n",
       "      <td>...</td>\n",
       "      <td>...</td>\n",
       "      <td>...</td>\n",
       "      <td>...</td>\n",
       "      <td>...</td>\n",
       "      <td>...</td>\n",
       "      <td>...</td>\n",
       "    </tr>\n",
       "    <tr>\n",
       "      <td>6393</td>\n",
       "      <td>Lotus Flowers</td>\n",
       "      <td>Yolta</td>\n",
       "      <td>0.172</td>\n",
       "      <td>0.358</td>\n",
       "      <td>9</td>\n",
       "      <td>-14.430</td>\n",
       "      <td>1</td>\n",
       "      <td>0.0342</td>\n",
       "      <td>0.88600</td>\n",
       "      <td>0.966000</td>\n",
       "      <td>0.3140</td>\n",
       "      <td>0.0361</td>\n",
       "      <td>72.272</td>\n",
       "      <td>150857</td>\n",
       "      <td>4</td>\n",
       "      <td>24.30824</td>\n",
       "      <td>7</td>\n",
       "      <td>0</td>\n",
       "    </tr>\n",
       "    <tr>\n",
       "      <td>6394</td>\n",
       "      <td>Calling My Spirit</td>\n",
       "      <td>Kodak Black</td>\n",
       "      <td>0.910</td>\n",
       "      <td>0.366</td>\n",
       "      <td>1</td>\n",
       "      <td>-9.954</td>\n",
       "      <td>1</td>\n",
       "      <td>0.0941</td>\n",
       "      <td>0.09960</td>\n",
       "      <td>0.000000</td>\n",
       "      <td>0.2610</td>\n",
       "      <td>0.7400</td>\n",
       "      <td>119.985</td>\n",
       "      <td>152000</td>\n",
       "      <td>4</td>\n",
       "      <td>32.53856</td>\n",
       "      <td>8</td>\n",
       "      <td>1</td>\n",
       "    </tr>\n",
       "    <tr>\n",
       "      <td>6395</td>\n",
       "      <td>Teenage Dream</td>\n",
       "      <td>Katy Perry</td>\n",
       "      <td>0.719</td>\n",
       "      <td>0.804</td>\n",
       "      <td>10</td>\n",
       "      <td>-4.581</td>\n",
       "      <td>1</td>\n",
       "      <td>0.0355</td>\n",
       "      <td>0.01320</td>\n",
       "      <td>0.000003</td>\n",
       "      <td>0.1390</td>\n",
       "      <td>0.6050</td>\n",
       "      <td>119.999</td>\n",
       "      <td>227760</td>\n",
       "      <td>4</td>\n",
       "      <td>20.73371</td>\n",
       "      <td>7</td>\n",
       "      <td>1</td>\n",
       "    </tr>\n",
       "    <tr>\n",
       "      <td>6396</td>\n",
       "      <td>Stormy Weather</td>\n",
       "      <td>Oscar Peterson</td>\n",
       "      <td>0.600</td>\n",
       "      <td>0.177</td>\n",
       "      <td>7</td>\n",
       "      <td>-16.070</td>\n",
       "      <td>1</td>\n",
       "      <td>0.0561</td>\n",
       "      <td>0.98900</td>\n",
       "      <td>0.868000</td>\n",
       "      <td>0.1490</td>\n",
       "      <td>0.5600</td>\n",
       "      <td>120.030</td>\n",
       "      <td>213387</td>\n",
       "      <td>4</td>\n",
       "      <td>21.65301</td>\n",
       "      <td>14</td>\n",
       "      <td>0</td>\n",
       "    </tr>\n",
       "    <tr>\n",
       "      <td>6397</td>\n",
       "      <td>Dust</td>\n",
       "      <td>Hans Zimmer</td>\n",
       "      <td>0.121</td>\n",
       "      <td>0.123</td>\n",
       "      <td>4</td>\n",
       "      <td>-23.025</td>\n",
       "      <td>0</td>\n",
       "      <td>0.0443</td>\n",
       "      <td>0.96400</td>\n",
       "      <td>0.696000</td>\n",
       "      <td>0.1030</td>\n",
       "      <td>0.0297</td>\n",
       "      <td>95.182</td>\n",
       "      <td>341396</td>\n",
       "      <td>4</td>\n",
       "      <td>71.05343</td>\n",
       "      <td>15</td>\n",
       "      <td>0</td>\n",
       "    </tr>\n",
       "  </tbody>\n",
       "</table>\n",
       "<p>6398 rows × 18 columns</p>\n",
       "</div>"
      ],
      "text/plain": [
       "                                    track                          artist  \\\n",
       "0                             Wild Things                    Alessia Cara   \n",
       "1                               Surfboard                       Esquivel!   \n",
       "2                            Love Someone                    Lukas Graham   \n",
       "3     Music To My Ears (feat. Tory Lanez)                   Keys N Krates   \n",
       "4           Juju On That Beat (TZ Anthem)  Zay Hilfigerrr & Zayion McCall   \n",
       "...                                   ...                             ...   \n",
       "6393                        Lotus Flowers                           Yolta   \n",
       "6394                    Calling My Spirit                     Kodak Black   \n",
       "6395                        Teenage Dream                      Katy Perry   \n",
       "6396                       Stormy Weather                  Oscar Peterson   \n",
       "6397                                 Dust                     Hans Zimmer   \n",
       "\n",
       "      danceability  energy  key  loudness  mode  speechiness  acousticness  \\\n",
       "0            0.741   0.626    1    -4.826     0       0.0886       0.02000   \n",
       "1            0.447   0.247    5   -14.661     0       0.0346       0.87100   \n",
       "2            0.550   0.415    9    -6.557     0       0.0520       0.16100   \n",
       "3            0.502   0.648    0    -5.698     0       0.0527       0.00513   \n",
       "4            0.807   0.887    1    -3.892     1       0.2750       0.00381   \n",
       "...            ...     ...  ...       ...   ...          ...           ...   \n",
       "6393         0.172   0.358    9   -14.430     1       0.0342       0.88600   \n",
       "6394         0.910   0.366    1    -9.954     1       0.0941       0.09960   \n",
       "6395         0.719   0.804   10    -4.581     1       0.0355       0.01320   \n",
       "6396         0.600   0.177    7   -16.070     1       0.0561       0.98900   \n",
       "6397         0.121   0.123    4   -23.025     0       0.0443       0.96400   \n",
       "\n",
       "      instrumentalness  liveness  valence    tempo  duration_ms  \\\n",
       "0             0.000000    0.0828   0.7060  108.029       188493   \n",
       "1             0.814000    0.0946   0.2500  155.489       176880   \n",
       "2             0.000000    0.1080   0.2740  172.065       205463   \n",
       "3             0.000000    0.2040   0.2910   91.837       193043   \n",
       "4             0.000000    0.3910   0.7800  160.517       144244   \n",
       "...                ...       ...      ...      ...          ...   \n",
       "6393          0.966000    0.3140   0.0361   72.272       150857   \n",
       "6394          0.000000    0.2610   0.7400  119.985       152000   \n",
       "6395          0.000003    0.1390   0.6050  119.999       227760   \n",
       "6396          0.868000    0.1490   0.5600  120.030       213387   \n",
       "6397          0.696000    0.1030   0.0297   95.182       341396   \n",
       "\n",
       "      time_signature  chorus_hit  sections  target  \n",
       "0                  4    41.18681        10       1  \n",
       "1                  3    33.18083         9       0  \n",
       "2                  4    44.89147         9       1  \n",
       "3                  4    29.52521         7       0  \n",
       "4                  4    24.99199         8       1  \n",
       "...              ...         ...       ...     ...  \n",
       "6393               4    24.30824         7       0  \n",
       "6394               4    32.53856         8       1  \n",
       "6395               4    20.73371         7       1  \n",
       "6396               4    21.65301        14       0  \n",
       "6397               4    71.05343        15       0  \n",
       "\n",
       "[6398 rows x 18 columns]"
      ]
     },
     "execution_count": 5,
     "metadata": {},
     "output_type": "execute_result"
    }
   ],
   "source": [
    "df_canciones = pd.read_csv('dataset-of-10s.csv', sep=',')\n",
    "df_canciones = df_canciones.drop('uri', axis=1)\n",
    "df_canciones #6398 canciones con 18 características"
   ]
  },
  {
   "cell_type": "code",
   "execution_count": null,
   "metadata": {},
   "outputs": [],
   "source": []
  },
  {
   "cell_type": "markdown",
   "metadata": {},
   "source": [
    "# 2. PRE-PROCESSING DE LOS DATOS"
   ]
  },
  {
   "cell_type": "markdown",
   "metadata": {},
   "source": [
    "## 2.1.  Tratamiento valores ausentes"
   ]
  },
  {
   "cell_type": "code",
   "execution_count": 6,
   "metadata": {
    "scrolled": true
   },
   "outputs": [
    {
     "data": {
      "text/plain": [
       "Artist         0\n",
       "Genres        18\n",
       "Gender        84\n",
       "Group.Solo    16\n",
       "dtype: int64"
      ]
     },
     "execution_count": 6,
     "metadata": {},
     "output_type": "execute_result"
    }
   ],
   "source": [
    "df_artistas.isnull().sum()"
   ]
  },
  {
   "cell_type": "markdown",
   "metadata": {},
   "source": [
    "Como son ejemplos reales de artistas, habría que ir caso a caso corrigiéndolos manualmente con sus valores correctos, por lo que se ha decidido por eliminar esas filas en vez de tratarlos."
   ]
  },
  {
   "cell_type": "code",
   "execution_count": 7,
   "metadata": {},
   "outputs": [],
   "source": [
    "df_artistas = df_artistas.dropna()\n",
    "df_artistas = df_artistas.reset_index(drop=True) \n",
    "#IMPORTANTE para regenerar los índices de nuevo (si no se hace, quedan vacíos los índices de las filas con valores NA borradas)"
   ]
  },
  {
   "cell_type": "code",
   "execution_count": 8,
   "metadata": {
    "scrolled": true
   },
   "outputs": [
    {
     "data": {
      "text/plain": [
       "track               0\n",
       "artist              0\n",
       "danceability        0\n",
       "energy              0\n",
       "key                 0\n",
       "loudness            0\n",
       "mode                0\n",
       "speechiness         0\n",
       "acousticness        0\n",
       "instrumentalness    0\n",
       "liveness            0\n",
       "valence             0\n",
       "tempo               0\n",
       "duration_ms         0\n",
       "time_signature      0\n",
       "chorus_hit          0\n",
       "sections            0\n",
       "target              0\n",
       "dtype: int64"
      ]
     },
     "execution_count": 8,
     "metadata": {},
     "output_type": "execute_result"
    }
   ],
   "source": [
    "df_canciones.isnull().sum()"
   ]
  },
  {
   "cell_type": "markdown",
   "metadata": {},
   "source": [
    "No tiene ningún valor missing"
   ]
  },
  {
   "cell_type": "markdown",
   "metadata": {},
   "source": [
    "## 2.2. Creación y modificación variables"
   ]
  },
  {
   "cell_type": "markdown",
   "metadata": {},
   "source": [
    "### Modificación variable 'Genres' de `df_artistas`"
   ]
  },
  {
   "cell_type": "code",
   "execution_count": 9,
   "metadata": {},
   "outputs": [
    {
     "data": {
      "text/plain": [
       "0                                             pop,uk pop\n",
       "1               canadian pop,dance pop,pop,post-teen pop\n",
       "2                   boy band,dance pop,pop,post-teen pop\n",
       "3      canadian hip hop,canadian pop,hip hop,pop rap,...\n",
       "4                          dance pop,pop,pop rap,r&b,rap\n",
       "                             ...                        \n",
       "929    argentine rock,cantautor,folklore argentino,nu...\n",
       "930    country,country rock,nashville sound,outlaw co...\n",
       "931            contemporary country,country,country dawn\n",
       "932                                             rap rock\n",
       "933    alternative metal,alternative rock,pop rock,po...\n",
       "Name: Genres, Length: 934, dtype: object"
      ]
     },
     "execution_count": 9,
     "metadata": {},
     "output_type": "execute_result"
    }
   ],
   "source": [
    "df_artistas['Genres']"
   ]
  },
  {
   "cell_type": "markdown",
   "metadata": {},
   "source": [
    "Como la variable `Genres` presenta varios géneros musicales para un mismo artista, vamos a hacerlo más sencillo cogiendo aleatoriamente sólo uno de la lista."
   ]
  },
  {
   "cell_type": "code",
   "execution_count": 10,
   "metadata": {
    "scrolled": true
   },
   "outputs": [],
   "source": [
    "import random\n",
    "\n",
    "#A cada elemento de df_artistas['Genres'] (listageneros es una cadena de strings), separo la cadena en los diferentes strings \n",
    "#con .split() y mediante random.sample() cojo una muestra aleatoria de tamaño 1:\n",
    "random.seed(0)\n",
    "df_artistas.loc[:,'Genres'] = df_artistas['Genres'].apply(lambda listageneros: random.sample(listageneros.split(','),1)[0]) "
   ]
  },
  {
   "cell_type": "code",
   "execution_count": 11,
   "metadata": {},
   "outputs": [
    {
     "data": {
      "text/plain": [
       "220"
      ]
     },
     "execution_count": 11,
     "metadata": {},
     "output_type": "execute_result"
    }
   ],
   "source": [
    "len(set(df_artistas['Genres']))"
   ]
  },
  {
   "cell_type": "markdown",
   "metadata": {},
   "source": [
    "Hay 220 géneros distintos, lo cual implicaría 219 variables dummies en un modelo de regresión. Vamos a reducir los géneros en grupos más genéricos como: `pop`, `rock`, `hip hop`, `latin`, `r&b`, `electro/techno`, `country/folk` y `other` "
   ]
  },
  {
   "cell_type": "markdown",
   "metadata": {},
   "source": [
    "Para organizarlos por grupos de forma sistemática, vamos a establecer una regla: si el género es un mix de dos géneros o más, nos quedamos con el género con el que termina. Por ejemplo: *latin hip hop* lo asignamos a `hip hop`, aunque sea `latin` también."
   ]
  },
  {
   "cell_type": "code",
   "execution_count": 12,
   "metadata": {},
   "outputs": [],
   "source": [
    "df_artistas.loc[:,'Genres'] = df_artistas['Genres'].apply(lambda genero: 'pop' if genero.split()[-1] == 'pop' else genero)\n",
    "df_artistas.loc[:,'Genres'] = df_artistas['Genres'].apply(lambda genero: 'rock' if genero.split()[-1] == 'rock' else genero)\n",
    "df_artistas.loc[:,'Genres'] = df_artistas['Genres'].apply(lambda genero: 'hip hop' if genero.split()[-1] == 'hop' else genero)\n",
    "df_artistas.loc[:,'Genres'] = df_artistas['Genres'].apply(lambda genero: 'latin' if genero.split()[-1] == 'latin' else genero)\n",
    "df_artistas.loc[:,'Genres'] = df_artistas['Genres'].apply(lambda genero: 'r&b' if genero.split()[-1] == 'r&b' else genero)\n",
    "df_artistas.loc[:,'Genres'] = df_artistas['Genres'].apply(lambda genero: 'electro/techno' if genero.split()[-1] == 'techno' else genero)\n",
    "df_artistas.loc[:,'Genres'] = df_artistas['Genres'].apply(lambda genero: 'country/folk' if genero.split()[-1] == 'country' else genero)\n",
    "df_artistas.loc[:,'Genres'] = df_artistas['Genres'].apply(lambda genero: 'country/folk' if genero.split()[-1] == 'folk' else genero)"
   ]
  },
  {
   "cell_type": "code",
   "execution_count": 13,
   "metadata": {},
   "outputs": [
    {
     "data": {
      "text/plain": [
       "129"
      ]
     },
     "execution_count": 13,
     "metadata": {},
     "output_type": "execute_result"
    }
   ],
   "source": [
    "len(set(df_artistas['Genres']))"
   ]
  },
  {
   "cell_type": "markdown",
   "metadata": {},
   "source": [
    "Hemos reducido de 220 a 129, pero no es suficiente. Échemos un vistazo a los géneros restantes:"
   ]
  },
  {
   "cell_type": "code",
   "execution_count": 14,
   "metadata": {
    "scrolled": true
   },
   "outputs": [
    {
     "data": {
      "text/plain": [
       "{'adult standards',\n",
       " 'alabama metal',\n",
       " 'alternative metal',\n",
       " 'anthem worship',\n",
       " 'australian dance',\n",
       " 'australian talent show',\n",
       " 'bachata',\n",
       " 'big beat',\n",
       " 'big room',\n",
       " 'birmingham metal',\n",
       " 'boy band',\n",
       " 'british soul',\n",
       " 'britpop',\n",
       " 'bubble trance',\n",
       " 'bubblegum dance',\n",
       " 'canadian metal',\n",
       " 'canadian punk',\n",
       " 'ccm',\n",
       " 'celtic',\n",
       " 'christian indie',\n",
       " 'christian music',\n",
       " 'classical tenor',\n",
       " 'comic',\n",
       " 'country dawn',\n",
       " 'country gospel',\n",
       " 'country road',\n",
       " 'country/folk',\n",
       " 'crunk',\n",
       " 'dancehall',\n",
       " 'deep norteno',\n",
       " 'deep talent show',\n",
       " 'dirty south rap',\n",
       " 'disco',\n",
       " 'downtempo',\n",
       " 'easy listening',\n",
       " 'easycore',\n",
       " 'edm',\n",
       " 'electro house',\n",
       " 'electro/techno',\n",
       " 'electropop',\n",
       " 'electropowerpop',\n",
       " 'emo',\n",
       " 'europop',\n",
       " 'finnish edm',\n",
       " 'folk-pop',\n",
       " 'funk',\n",
       " 'funk metal',\n",
       " 'gangster rap',\n",
       " 'girl group',\n",
       " 'gospel',\n",
       " 'group',\n",
       " 'grunge',\n",
       " 'hip hop',\n",
       " 'hollywood',\n",
       " 'hyphy',\n",
       " 'idol',\n",
       " 'indie pop rap',\n",
       " 'indiecoustica',\n",
       " 'italo dance',\n",
       " 'japanese singer-songwriter',\n",
       " 'k-hop',\n",
       " 'k-pop girl group',\n",
       " 'kids dance party',\n",
       " 'latin',\n",
       " 'lilith',\n",
       " 'lounge',\n",
       " 'melbourne bounce',\n",
       " 'mellow gold',\n",
       " 'melodic rap',\n",
       " 'metal',\n",
       " 'motown',\n",
       " 'nashville sound',\n",
       " 'neo mellow',\n",
       " 'neo soul',\n",
       " 'new americana',\n",
       " 'new jack swing',\n",
       " 'new jersey rap',\n",
       " 'new orleans rap',\n",
       " 'nu metal',\n",
       " 'nyc rap',\n",
       " 'old school thrash',\n",
       " 'oxford indie',\n",
       " 'permanent wave',\n",
       " 'philly rap',\n",
       " 'pixie',\n",
       " 'pop',\n",
       " 'pop emo',\n",
       " 'pop punk',\n",
       " 'pop rap',\n",
       " 'post-grunge',\n",
       " 'progressive house',\n",
       " 'progressive trance',\n",
       " 'punk',\n",
       " 'quiet storm',\n",
       " 'r&b',\n",
       " 'rap',\n",
       " 'rebel blues',\n",
       " 'redneck',\n",
       " 'reggae',\n",
       " 'reggae fusion',\n",
       " 'reggaeton',\n",
       " 'riddim',\n",
       " 'rock',\n",
       " 'rock en espanol',\n",
       " 'rock-and-roll',\n",
       " 'scorecore',\n",
       " 'scottish singer-songwriter',\n",
       " 'screamo',\n",
       " 'sertanejo',\n",
       " 'sheffield indie',\n",
       " 'show tunes',\n",
       " 'singer-songwriter',\n",
       " 'smooth jazz',\n",
       " 'soca',\n",
       " 'socal pop punk',\n",
       " 'soul',\n",
       " 'swedish electropop',\n",
       " 'toronto rap',\n",
       " 'traditional blues',\n",
       " 'trance',\n",
       " 'trap music',\n",
       " 'trap queen',\n",
       " 'tropical',\n",
       " 'tropical house',\n",
       " 'urban contemporary',\n",
       " 'vocal house',\n",
       " 'vocal jazz',\n",
       " 'west coast rap',\n",
       " 'worship'}"
      ]
     },
     "execution_count": 14,
     "metadata": {},
     "output_type": "execute_result"
    }
   ],
   "source": [
    "set(df_artistas['Genres'])"
   ]
  },
  {
   "cell_type": "markdown",
   "metadata": {},
   "source": [
    "Para reducir la lista en una segunda vuelta, hay que asociar géneros concretos a cada una de las categorías:\n",
    "- `pop`: boy band, britpop, electropop, electropowerpop, europop, folk-pop, idol, k-pop girl group\n",
    "- `rock`: easycore, emo, grunge, indie, mellow gold, metal, neo mellow, permanent wave, pixie, post-grunge, punk, rock-and-roll, rock en espanol, screamo\n",
    "- `hip hop`: dancehall, k-hop, rap, reggae, reggae fusion, riddim, trap music, trap queen\n",
    "- `latin`: bachata, reggaeton, tropical\n",
    "- `r&b`: blues, disco, funk, gospel, jazz, motown, new jack swing, quiet storm, soul, urban contemporary\n",
    "- `electro/techno`: dance, edm, house, trance\n",
    "- `country/folk`: celtic, country dawn, country road, nashville sound, redneck"
   ]
  },
  {
   "cell_type": "code",
   "execution_count": 15,
   "metadata": {},
   "outputs": [],
   "source": [
    "dicc_generos = {\n",
    "    'pop': ['boy band', 'britpop', 'electropop', 'electropowerpop', 'europop', 'folk-pop', 'idol', 'k-pop girl group'],\n",
    "    'rock': ['easycore', 'emo', 'grunge', 'indie', 'mellow gold', 'metal', 'neo mellow', 'permanent wave', 'pixie', 'post-grunge', 'punk', 'rock-and-roll', 'rock en espanol', 'screamo'],\n",
    "    'hip hop': ['dancehall', 'k-hop', 'rap', 'reggae', 'reggae fusion', 'riddim', 'trap music', 'trap queen'],\n",
    "    'latin': ['bachata', 'reggaeton', 'tropical'],\n",
    "    'r&b': ['blues', 'disco', 'funk', 'gospel', 'jazz', 'motown', 'swing', 'quiet storm', 'soul', 'urban contemporary'],\n",
    "    'electro/techno': ['dance', 'edm', 'house', 'trance'],\n",
    "    'country/folk': ['celtic', 'country dawn', 'country road', 'nashville sound', 'redneck']\n",
    "}"
   ]
  },
  {
   "cell_type": "markdown",
   "metadata": {},
   "source": [
    "En esta nueva ocasión, establecemos la misma regla: si el género coincide o termina en algunos de los géneros propuestos, se le asignará la 'key' correspondiente. Por ejemplo: `canadian punk` termina en `punk`, por lo que tendrá la etiqueta final de `rock`."
   ]
  },
  {
   "cell_type": "code",
   "execution_count": 16,
   "metadata": {
    "scrolled": true
   },
   "outputs": [],
   "source": [
    "num_artistas = df_artistas.shape[0] #numero de artistas total\n",
    "generos_values = df_artistas['Genres'].values\n",
    "for artista in range(num_artistas):\n",
    "    for i in dicc_generos: #i es un string que recorre las keys del diccionario: 'pop', 'rock', etc.\n",
    "        long_lista = len(dicc_generos[i])\n",
    "        for j in range(long_lista): #j toma valores enteros que recorren la lista de subgéneros del diccionario\n",
    "            last_word = generos_values[artista].split()[-1]\n",
    "            if ((last_word == dicc_generos[i][j]) or (generos_values[artista] == dicc_generos[i][j])): \n",
    "            #si la última palabra del string o el string entero coincide con los valores del diccionario:\n",
    "                df_artistas.loc[artista,'Genres'] = i #sustituyo ese género por la key correspondiente"
   ]
  },
  {
   "cell_type": "code",
   "execution_count": 17,
   "metadata": {
    "scrolled": true
   },
   "outputs": [
    {
     "data": {
      "text/plain": [
       "rock                          220\n",
       "pop                           214\n",
       "hip hop                       198\n",
       "country/folk                  112\n",
       "r&b                           107\n",
       "electro/techno                 20\n",
       "latin                          14\n",
       "lilith                          5\n",
       "adult standards                 5\n",
       "comic                           3\n",
       "soca                            3\n",
       "hyphy                           2\n",
       "hollywood                       2\n",
       "easy listening                  2\n",
       "anthem worship                  2\n",
       "deep talent show                1\n",
       "scorecore                       1\n",
       "group                           1\n",
       "sertanejo                       1\n",
       "australian talent show          1\n",
       "girl group                      1\n",
       "big beat                        1\n",
       "crunk                           1\n",
       "ccm                             1\n",
       "deep norteno                    1\n",
       "worship                         1\n",
       "indiecoustica                   1\n",
       "japanese singer-songwriter      1\n",
       "big room                        1\n",
       "christian music                 1\n",
       "show tunes                      1\n",
       "singer-songwriter               1\n",
       "downtempo                       1\n",
       "scottish singer-songwriter      1\n",
       "kids dance party                1\n",
       "lounge                          1\n",
       "old school thrash               1\n",
       "new americana                   1\n",
       "classical tenor                 1\n",
       "melbourne bounce                1\n",
       "Name: Genres, dtype: int64"
      ]
     },
     "execution_count": 17,
     "metadata": {},
     "output_type": "execute_result"
    }
   ],
   "source": [
    "pd.value_counts(df_artistas['Genres'])"
   ]
  },
  {
   "cell_type": "markdown",
   "metadata": {},
   "source": [
    "El resto de géneros que no sean de `dicc_generos` los etiquetaremos como `other`"
   ]
  },
  {
   "cell_type": "code",
   "execution_count": 18,
   "metadata": {},
   "outputs": [
    {
     "data": {
      "text/plain": [
       "['pop', 'rock', 'hip hop', 'latin', 'r&b', 'electro/techno', 'country/folk']"
      ]
     },
     "execution_count": 18,
     "metadata": {},
     "output_type": "execute_result"
    }
   ],
   "source": [
    "#lista de géneros principales\n",
    "lista_generos = list(dicc_generos.keys())\n",
    "lista_generos"
   ]
  },
  {
   "cell_type": "code",
   "execution_count": 19,
   "metadata": {
    "scrolled": true
   },
   "outputs": [],
   "source": [
    "index_generos = set()\n",
    "for i in lista_generos:\n",
    "    index_generos = set(np.where(df_artistas['Genres'] == i)[0]) | index_generos #todos los índices de artistas que pertenecen a lista_generos, | hace la unión\n",
    "\n",
    "index_other = list(set(range(num_artistas)) - index_generos) #índices de artistas de género 'other'\n",
    "df_artistas.loc[index_other,'Genres'] = 'other' #los clasifico como 'other'"
   ]
  },
  {
   "cell_type": "code",
   "execution_count": 20,
   "metadata": {
    "scrolled": true
   },
   "outputs": [
    {
     "data": {
      "text/plain": [
       "rock              220\n",
       "pop               214\n",
       "hip hop           198\n",
       "country/folk      112\n",
       "r&b               107\n",
       "other              49\n",
       "electro/techno     20\n",
       "latin              14\n",
       "Name: Genres, dtype: int64"
      ]
     },
     "execution_count": 20,
     "metadata": {},
     "output_type": "execute_result"
    }
   ],
   "source": [
    "pd.value_counts(df_artistas['Genres'])"
   ]
  },
  {
   "cell_type": "code",
   "execution_count": 21,
   "metadata": {},
   "outputs": [
    {
     "data": {
      "text/plain": [
       "True"
      ]
     },
     "execution_count": 21,
     "metadata": {},
     "output_type": "execute_result"
    }
   ],
   "source": [
    "pd.value_counts(df_artistas['Genres']).sum() == num_artistas #para comprobar que da la suma total de las filas"
   ]
  },
  {
   "cell_type": "markdown",
   "metadata": {},
   "source": [
    "### Creación variable 'featuring' en `df_canciones`"
   ]
  },
  {
   "cell_type": "markdown",
   "metadata": {},
   "source": [
    "Algunas canciones presentan colaboraciones, es decir, que el cantante principal canta con uno o más artistas. Vamos a incorporar esta característica como variable explicativa y ver si es influyente o no a la hora de que una canción se vuelva un hit.\n",
    "\n",
    "Con los datos de `df_canciones`, las colaboraciones se pueden identificar de dos formas:\n",
    "- En la categoría `artist` viene incluida la palabra *Featuring* (mayoritariamente), *featuring* o *feat.*\n",
    "- En la categoría `track` viene incluida la palabra *(feat.* (mayoritariamente) o *featuring*\n",
    "\n",
    "Cabe mencionar que hay canciones que son colaboraciones pero que vienen reflejado de otra forma: lista de artistas separados por comas, por &, etc. En estos casos, se supondrán que no son colaboraciones, ya que podría confundirse con nombres de artistas que presentan dichos caracteres (ejemplo: Zay Hilfigerrr & Zayion McCall es una colaboración pero Mumford & Sons es una banda)."
   ]
  },
  {
   "cell_type": "markdown",
   "metadata": {},
   "source": [
    "Vamos a definir una función auxiliar que detecte si dentro de una cadena está presente una palabra en concreto:"
   ]
  },
  {
   "cell_type": "code",
   "execution_count": 22,
   "metadata": {},
   "outputs": [
    {
     "data": {
      "text/plain": [
       "1"
      ]
     },
     "execution_count": 22,
     "metadata": {},
     "output_type": "execute_result"
    }
   ],
   "source": [
    "def contener(cadena, palabra):\n",
    "    contener = 0\n",
    "    if (cadena.find(palabra) == -1): #.find() devuelve -1 cuando la palabra no está en la cadena\n",
    "        contener = 0 #devuelvo 0 si la cadena no contiene la palabra\n",
    "    else:\n",
    "        contener = 1\n",
    "    return contener\n",
    "\n",
    "#Ejemplo:\n",
    "contener('Tengo un perro verde', 'verde')"
   ]
  },
  {
   "cell_type": "markdown",
   "metadata": {},
   "source": [
    "Filtrando por `artist`, las palabras clave son *Featuring, featuring* y *feat.*"
   ]
  },
  {
   "cell_type": "code",
   "execution_count": 23,
   "metadata": {},
   "outputs": [
    {
     "data": {
      "text/plain": [
       "902.0"
      ]
     },
     "execution_count": 23,
     "metadata": {},
     "output_type": "execute_result"
    }
   ],
   "source": [
    "num_canciones = df_canciones.shape[0] #número de canciones total\n",
    "cadena = df_canciones['artist'].values\n",
    "\n",
    "for i in range(num_canciones):\n",
    "    if ((contener(cadena[i],'Featuring')==1) or (contener(cadena[i],'featuring')==1) or (contener(cadena[i],'feat.')==1)):\n",
    "        df_canciones.loc[i,'featuring'] = 1 #creo una columna llamada 'featuring', que vale 1 si es una colaboración\n",
    "    else:\n",
    "        df_canciones.loc[i,'featuring'] = 0\n",
    "        \n",
    "\n",
    "df_canciones['featuring'].sum() "
   ]
  },
  {
   "cell_type": "markdown",
   "metadata": {},
   "source": [
    "Filtrando por `track`, las palabras a buscar son *(feat.* y *featuring*"
   ]
  },
  {
   "cell_type": "code",
   "execution_count": 24,
   "metadata": {},
   "outputs": [
    {
     "data": {
      "text/plain": [
       "984.0"
      ]
     },
     "execution_count": 24,
     "metadata": {},
     "output_type": "execute_result"
    }
   ],
   "source": [
    "cadena = df_canciones['track'].values\n",
    "\n",
    "for i in range(num_canciones):\n",
    "    if ((contener(cadena[i],'(feat.')==1) or (contener(cadena[i],'featuring')==1)):\n",
    "        df_canciones.loc[i,'featuring'] = 1\n",
    "        #superpone el valor de 'featuring' del bucle anterior: si ya valía 1 y se detecta de nuevo como colaboración, sobreescribe\n",
    "        #con un 1 de nuevo; si valía 0 y se detecta ahora como colaboración, lo cambia a 1.\n",
    "        \n",
    "\n",
    "df_canciones['featuring'].sum()"
   ]
  },
  {
   "cell_type": "markdown",
   "metadata": {},
   "source": [
    "En una primera vuelta (filtrando por `artist`), había 902 colaboraciones. Filtrando a continuación por `track`, hemos obtenido un total de 984 colaboraciones."
   ]
  },
  {
   "cell_type": "code",
   "execution_count": 25,
   "metadata": {},
   "outputs": [],
   "source": [
    "#Por último, convertimos la columna a tipo integer\n",
    "df_canciones = df_canciones.astype({'featuring': int})"
   ]
  },
  {
   "cell_type": "markdown",
   "metadata": {},
   "source": [
    "### Creación variable 'main artist' en `df_canciones`"
   ]
  },
  {
   "cell_type": "markdown",
   "metadata": {},
   "source": [
    "El valor de `artist` en aquellas canciones que sean colaboraciones tendrán la forma de *Pepito Featuring Juanito* (entre otras variantes). Esto provoca problemas de cruce entre los dos dataframes (mediante `merge`), porque aunque *Pepito* esté en el dataset de artistas `df_artistas`, no hará match con las canciones que tiene colaborando, solo las que tenga en solitario. Por lo tanto, nos interesa sacar el nombre del cantante principal, que será todo lo que venga antes de la palabra *Featuring*.\n",
    "\n",
    "Primero, vamos a crear una función auxiliar que haga dicha acción."
   ]
  },
  {
   "cell_type": "code",
   "execution_count": 26,
   "metadata": {},
   "outputs": [
    {
     "data": {
      "text/plain": [
       "'Tengo un perro'"
      ]
     },
     "execution_count": 26,
     "metadata": {},
     "output_type": "execute_result"
    }
   ],
   "source": [
    "def cortar(cadena, palabra): \n",
    "    if (contener(cadena, palabra) == 1):\n",
    "        return cadena[0:(cadena.find(palabra)-1)]\n",
    "        #.find devuelve la posición de 'palabra' en 'cadena', por lo que devolvemos el string desde el principio hasta\n",
    "        #la posición anterior a 'palabra' (para no incluir el espacio)\n",
    "    \n",
    "#Ejemplo\n",
    "cortar('Tengo un perro verde','verde')"
   ]
  },
  {
   "cell_type": "markdown",
   "metadata": {},
   "source": [
    "Creamos la columna `main artist` de la siguiente forma:"
   ]
  },
  {
   "cell_type": "code",
   "execution_count": 27,
   "metadata": {
    "scrolled": true
   },
   "outputs": [],
   "source": [
    "for i in range(num_canciones):\n",
    "    if df_canciones.loc[i,'featuring'] == 1: #si es una colaboración\n",
    "        \n",
    "        #Si se detecta que es una colaboración por la categoría 'artist'\n",
    "        if contener(df_canciones.loc[i,'artist'],'Featuring') == 1: #mediante la palabra 'Featuring'\n",
    "            df_canciones.loc[i,'main artist'] = cortar(df_canciones.loc[i,'artist'],'Featuring')\n",
    "        elif contener(df_canciones.loc[i,'artist'],'featuring') == 1: #mediante la palabra 'featuring'\n",
    "            df_canciones.loc[i,'main artist'] = cortar(df_canciones.loc[i,'artist'],'featuring')\n",
    "        elif contener(df_canciones.loc[i,'artist'],'feat.') == 1: #mediante la palabra 'feat.'\n",
    "            df_canciones.loc[i,'main artist'] = cortar(df_canciones.loc[i,'artist'],'feat.')\n",
    "        \n",
    "        #Cuando se detecta que es una colaboración por la categoría 'track'\n",
    "        else:\n",
    "            df_canciones.loc[i,'main artist'] = df_canciones.loc[i,'artist'] #se queda con el mismo artist\n",
    "            \n",
    "    else: #si no es una colaboración\n",
    "        df_canciones.loc[i,'main artist'] = df_canciones.loc[i,'artist'] #se queda con el mismo artist"
   ]
  },
  {
   "cell_type": "code",
   "execution_count": 28,
   "metadata": {
    "scrolled": false
   },
   "outputs": [
    {
     "data": {
      "text/html": [
       "<div>\n",
       "<style scoped>\n",
       "    .dataframe tbody tr th:only-of-type {\n",
       "        vertical-align: middle;\n",
       "    }\n",
       "\n",
       "    .dataframe tbody tr th {\n",
       "        vertical-align: top;\n",
       "    }\n",
       "\n",
       "    .dataframe thead th {\n",
       "        text-align: right;\n",
       "    }\n",
       "</style>\n",
       "<table border=\"1\" class=\"dataframe\">\n",
       "  <thead>\n",
       "    <tr style=\"text-align: right;\">\n",
       "      <th></th>\n",
       "      <th>track</th>\n",
       "      <th>artist</th>\n",
       "      <th>main artist</th>\n",
       "    </tr>\n",
       "  </thead>\n",
       "  <tbody>\n",
       "    <tr>\n",
       "      <td>3</td>\n",
       "      <td>Music To My Ears (feat. Tory Lanez)</td>\n",
       "      <td>Keys N Krates</td>\n",
       "      <td>Keys N Krates</td>\n",
       "    </tr>\n",
       "    <tr>\n",
       "      <td>9</td>\n",
       "      <td>My Last</td>\n",
       "      <td>Big Sean Featuring Chris Brown</td>\n",
       "      <td>Big Sean</td>\n",
       "    </tr>\n",
       "    <tr>\n",
       "      <td>16</td>\n",
       "      <td>Cut Her Off</td>\n",
       "      <td>KCamp Featuring 2 Chainz</td>\n",
       "      <td>KCamp</td>\n",
       "    </tr>\n",
       "    <tr>\n",
       "      <td>17</td>\n",
       "      <td>Beautiful People</td>\n",
       "      <td>Chris Brown Featuring Benny Benassi</td>\n",
       "      <td>Chris Brown</td>\n",
       "    </tr>\n",
       "    <tr>\n",
       "      <td>19</td>\n",
       "      <td>Squidwards Nose (feat. Kg Prince)</td>\n",
       "      <td>Joey Trap</td>\n",
       "      <td>Joey Trap</td>\n",
       "    </tr>\n",
       "    <tr>\n",
       "      <td>...</td>\n",
       "      <td>...</td>\n",
       "      <td>...</td>\n",
       "      <td>...</td>\n",
       "    </tr>\n",
       "    <tr>\n",
       "      <td>6345</td>\n",
       "      <td>10 Freaky Girls</td>\n",
       "      <td>Metro Boomin Featuring 21 Savage</td>\n",
       "      <td>Metro Boomin</td>\n",
       "    </tr>\n",
       "    <tr>\n",
       "      <td>6348</td>\n",
       "      <td>Headlights</td>\n",
       "      <td>Eminem Featuring Nate Ruess</td>\n",
       "      <td>Eminem</td>\n",
       "    </tr>\n",
       "    <tr>\n",
       "      <td>6368</td>\n",
       "      <td>Bend Ova</td>\n",
       "      <td>Lil Jon Featuring Tyga</td>\n",
       "      <td>Lil Jon</td>\n",
       "    </tr>\n",
       "    <tr>\n",
       "      <td>6385</td>\n",
       "      <td>Death</td>\n",
       "      <td>Trippie Redd Featuring DaBaby</td>\n",
       "      <td>Trippie Redd</td>\n",
       "    </tr>\n",
       "    <tr>\n",
       "      <td>6388</td>\n",
       "      <td>Strip That Down</td>\n",
       "      <td>Liam Payne Featuring Quavo</td>\n",
       "      <td>Liam Payne</td>\n",
       "    </tr>\n",
       "  </tbody>\n",
       "</table>\n",
       "<p>984 rows × 3 columns</p>\n",
       "</div>"
      ],
      "text/plain": [
       "                                    track  \\\n",
       "3     Music To My Ears (feat. Tory Lanez)   \n",
       "9                                 My Last   \n",
       "16                            Cut Her Off   \n",
       "17                       Beautiful People   \n",
       "19      Squidwards Nose (feat. Kg Prince)   \n",
       "...                                   ...   \n",
       "6345                      10 Freaky Girls   \n",
       "6348                           Headlights   \n",
       "6368                             Bend Ova   \n",
       "6385                                Death   \n",
       "6388                      Strip That Down   \n",
       "\n",
       "                                   artist    main artist  \n",
       "3                           Keys N Krates  Keys N Krates  \n",
       "9          Big Sean Featuring Chris Brown       Big Sean  \n",
       "16               KCamp Featuring 2 Chainz          KCamp  \n",
       "17    Chris Brown Featuring Benny Benassi    Chris Brown  \n",
       "19                              Joey Trap      Joey Trap  \n",
       "...                                   ...            ...  \n",
       "6345     Metro Boomin Featuring 21 Savage   Metro Boomin  \n",
       "6348          Eminem Featuring Nate Ruess         Eminem  \n",
       "6368               Lil Jon Featuring Tyga        Lil Jon  \n",
       "6385        Trippie Redd Featuring DaBaby   Trippie Redd  \n",
       "6388           Liam Payne Featuring Quavo     Liam Payne  \n",
       "\n",
       "[984 rows x 3 columns]"
      ]
     },
     "execution_count": 28,
     "metadata": {},
     "output_type": "execute_result"
    }
   ],
   "source": [
    "#Vamos a ver unos ejemplos para ver si se ha ejecutado bien\n",
    "index_featuring = np.where(df_canciones['featuring'] == 1)[0] #los índices de las canciones colaboraciones\n",
    "df_canciones.loc[index_featuring,['track','artist','main artist']]"
   ]
  },
  {
   "cell_type": "markdown",
   "metadata": {},
   "source": [
    "##  2.3. Merge de `df_artistas` y `df_canciones`"
   ]
  },
  {
   "cell_type": "markdown",
   "metadata": {},
   "source": [
    "Finalmente, vamos a cruzar las dos tablas para obtener el dataset completo. Cruzamos mediante `df_canciones['main artist']` y `df_artistas['Artist']`"
   ]
  },
  {
   "cell_type": "code",
   "execution_count": 29,
   "metadata": {},
   "outputs": [],
   "source": [
    "pd.options.display.max_columns = None #muestra todas las columnas"
   ]
  },
  {
   "cell_type": "code",
   "execution_count": 30,
   "metadata": {
    "scrolled": true
   },
   "outputs": [
    {
     "data": {
      "text/html": [
       "<div>\n",
       "<style scoped>\n",
       "    .dataframe tbody tr th:only-of-type {\n",
       "        vertical-align: middle;\n",
       "    }\n",
       "\n",
       "    .dataframe tbody tr th {\n",
       "        vertical-align: top;\n",
       "    }\n",
       "\n",
       "    .dataframe thead th {\n",
       "        text-align: right;\n",
       "    }\n",
       "</style>\n",
       "<table border=\"1\" class=\"dataframe\">\n",
       "  <thead>\n",
       "    <tr style=\"text-align: right;\">\n",
       "      <th></th>\n",
       "      <th>track</th>\n",
       "      <th>artist</th>\n",
       "      <th>danceability</th>\n",
       "      <th>energy</th>\n",
       "      <th>key</th>\n",
       "      <th>loudness</th>\n",
       "      <th>mode</th>\n",
       "      <th>speechiness</th>\n",
       "      <th>acousticness</th>\n",
       "      <th>instrumentalness</th>\n",
       "      <th>liveness</th>\n",
       "      <th>valence</th>\n",
       "      <th>tempo</th>\n",
       "      <th>duration_ms</th>\n",
       "      <th>time_signature</th>\n",
       "      <th>chorus_hit</th>\n",
       "      <th>sections</th>\n",
       "      <th>target</th>\n",
       "      <th>featuring</th>\n",
       "      <th>Genres</th>\n",
       "      <th>Gender</th>\n",
       "      <th>Group.Solo</th>\n",
       "    </tr>\n",
       "  </thead>\n",
       "  <tbody>\n",
       "    <tr>\n",
       "      <td>0</td>\n",
       "      <td>Here's To Never Growing Up</td>\n",
       "      <td>Avril Lavigne</td>\n",
       "      <td>0.482</td>\n",
       "      <td>0.873</td>\n",
       "      <td>0</td>\n",
       "      <td>-3.145</td>\n",
       "      <td>1</td>\n",
       "      <td>0.0853</td>\n",
       "      <td>0.01110</td>\n",
       "      <td>0.000000</td>\n",
       "      <td>0.4090</td>\n",
       "      <td>0.737</td>\n",
       "      <td>165.084</td>\n",
       "      <td>214320</td>\n",
       "      <td>4</td>\n",
       "      <td>32.17301</td>\n",
       "      <td>12</td>\n",
       "      <td>1</td>\n",
       "      <td>0</td>\n",
       "      <td>pop</td>\n",
       "      <td>F</td>\n",
       "      <td>Solo</td>\n",
       "    </tr>\n",
       "    <tr>\n",
       "      <td>1</td>\n",
       "      <td>Alice</td>\n",
       "      <td>Avril Lavigne</td>\n",
       "      <td>0.536</td>\n",
       "      <td>0.824</td>\n",
       "      <td>0</td>\n",
       "      <td>-4.403</td>\n",
       "      <td>1</td>\n",
       "      <td>0.0767</td>\n",
       "      <td>0.04580</td>\n",
       "      <td>0.000199</td>\n",
       "      <td>0.1740</td>\n",
       "      <td>0.172</td>\n",
       "      <td>119.004</td>\n",
       "      <td>300987</td>\n",
       "      <td>4</td>\n",
       "      <td>27.44375</td>\n",
       "      <td>11</td>\n",
       "      <td>1</td>\n",
       "      <td>0</td>\n",
       "      <td>pop</td>\n",
       "      <td>F</td>\n",
       "      <td>Solo</td>\n",
       "    </tr>\n",
       "    <tr>\n",
       "      <td>2</td>\n",
       "      <td>Wish You Were Here</td>\n",
       "      <td>Avril Lavigne</td>\n",
       "      <td>0.454</td>\n",
       "      <td>0.865</td>\n",
       "      <td>4</td>\n",
       "      <td>-3.841</td>\n",
       "      <td>1</td>\n",
       "      <td>0.0561</td>\n",
       "      <td>0.03230</td>\n",
       "      <td>0.000000</td>\n",
       "      <td>0.1860</td>\n",
       "      <td>0.340</td>\n",
       "      <td>166.018</td>\n",
       "      <td>225760</td>\n",
       "      <td>4</td>\n",
       "      <td>28.77377</td>\n",
       "      <td>11</td>\n",
       "      <td>1</td>\n",
       "      <td>0</td>\n",
       "      <td>pop</td>\n",
       "      <td>F</td>\n",
       "      <td>Solo</td>\n",
       "    </tr>\n",
       "    <tr>\n",
       "      <td>3</td>\n",
       "      <td>Let Me Go</td>\n",
       "      <td>Avril Lavigne Featuring Chad Kroeger</td>\n",
       "      <td>0.385</td>\n",
       "      <td>0.654</td>\n",
       "      <td>4</td>\n",
       "      <td>-6.635</td>\n",
       "      <td>1</td>\n",
       "      <td>0.0342</td>\n",
       "      <td>0.21200</td>\n",
       "      <td>0.000000</td>\n",
       "      <td>0.1360</td>\n",
       "      <td>0.125</td>\n",
       "      <td>164.196</td>\n",
       "      <td>267973</td>\n",
       "      <td>3</td>\n",
       "      <td>43.48854</td>\n",
       "      <td>12</td>\n",
       "      <td>1</td>\n",
       "      <td>1</td>\n",
       "      <td>pop</td>\n",
       "      <td>F</td>\n",
       "      <td>Solo</td>\n",
       "    </tr>\n",
       "    <tr>\n",
       "      <td>4</td>\n",
       "      <td>Smile</td>\n",
       "      <td>Avril Lavigne</td>\n",
       "      <td>0.634</td>\n",
       "      <td>0.848</td>\n",
       "      <td>1</td>\n",
       "      <td>-3.843</td>\n",
       "      <td>0</td>\n",
       "      <td>0.0470</td>\n",
       "      <td>0.00237</td>\n",
       "      <td>0.000000</td>\n",
       "      <td>0.0681</td>\n",
       "      <td>0.647</td>\n",
       "      <td>105.055</td>\n",
       "      <td>209520</td>\n",
       "      <td>4</td>\n",
       "      <td>39.65995</td>\n",
       "      <td>8</td>\n",
       "      <td>1</td>\n",
       "      <td>0</td>\n",
       "      <td>pop</td>\n",
       "      <td>F</td>\n",
       "      <td>Solo</td>\n",
       "    </tr>\n",
       "    <tr>\n",
       "      <td>...</td>\n",
       "      <td>...</td>\n",
       "      <td>...</td>\n",
       "      <td>...</td>\n",
       "      <td>...</td>\n",
       "      <td>...</td>\n",
       "      <td>...</td>\n",
       "      <td>...</td>\n",
       "      <td>...</td>\n",
       "      <td>...</td>\n",
       "      <td>...</td>\n",
       "      <td>...</td>\n",
       "      <td>...</td>\n",
       "      <td>...</td>\n",
       "      <td>...</td>\n",
       "      <td>...</td>\n",
       "      <td>...</td>\n",
       "      <td>...</td>\n",
       "      <td>...</td>\n",
       "      <td>...</td>\n",
       "      <td>...</td>\n",
       "      <td>...</td>\n",
       "      <td>...</td>\n",
       "    </tr>\n",
       "    <tr>\n",
       "      <td>1632</td>\n",
       "      <td>I'm Awesome</td>\n",
       "      <td>Spose</td>\n",
       "      <td>0.478</td>\n",
       "      <td>0.933</td>\n",
       "      <td>0</td>\n",
       "      <td>-5.814</td>\n",
       "      <td>1</td>\n",
       "      <td>0.3530</td>\n",
       "      <td>0.54000</td>\n",
       "      <td>0.000000</td>\n",
       "      <td>0.9230</td>\n",
       "      <td>0.442</td>\n",
       "      <td>98.949</td>\n",
       "      <td>179774</td>\n",
       "      <td>4</td>\n",
       "      <td>34.78117</td>\n",
       "      <td>6</td>\n",
       "      <td>1</td>\n",
       "      <td>0</td>\n",
       "      <td>other</td>\n",
       "      <td>M</td>\n",
       "      <td>Solo</td>\n",
       "    </tr>\n",
       "    <tr>\n",
       "      <td>1633</td>\n",
       "      <td>Cough Syrup</td>\n",
       "      <td>Young The Giant</td>\n",
       "      <td>0.534</td>\n",
       "      <td>0.721</td>\n",
       "      <td>11</td>\n",
       "      <td>-7.307</td>\n",
       "      <td>0</td>\n",
       "      <td>0.0417</td>\n",
       "      <td>0.03430</td>\n",
       "      <td>0.000006</td>\n",
       "      <td>0.1150</td>\n",
       "      <td>0.225</td>\n",
       "      <td>128.978</td>\n",
       "      <td>249520</td>\n",
       "      <td>3</td>\n",
       "      <td>44.87267</td>\n",
       "      <td>10</td>\n",
       "      <td>1</td>\n",
       "      <td>0</td>\n",
       "      <td>rock</td>\n",
       "      <td>M</td>\n",
       "      <td>Group</td>\n",
       "    </tr>\n",
       "    <tr>\n",
       "      <td>1634</td>\n",
       "      <td>Hold You (Hold Yuh)</td>\n",
       "      <td>Gyptian</td>\n",
       "      <td>0.690</td>\n",
       "      <td>0.621</td>\n",
       "      <td>8</td>\n",
       "      <td>-3.583</td>\n",
       "      <td>1</td>\n",
       "      <td>0.0600</td>\n",
       "      <td>0.32100</td>\n",
       "      <td>0.000028</td>\n",
       "      <td>0.0884</td>\n",
       "      <td>0.497</td>\n",
       "      <td>66.858</td>\n",
       "      <td>233253</td>\n",
       "      <td>3</td>\n",
       "      <td>69.65459</td>\n",
       "      <td>9</td>\n",
       "      <td>1</td>\n",
       "      <td>0</td>\n",
       "      <td>rock</td>\n",
       "      <td>M</td>\n",
       "      <td>Solo</td>\n",
       "    </tr>\n",
       "    <tr>\n",
       "      <td>1635</td>\n",
       "      <td>Window Seat</td>\n",
       "      <td>Erykah Badu</td>\n",
       "      <td>0.643</td>\n",
       "      <td>0.535</td>\n",
       "      <td>0</td>\n",
       "      <td>-6.795</td>\n",
       "      <td>0</td>\n",
       "      <td>0.0941</td>\n",
       "      <td>0.64800</td>\n",
       "      <td>0.002130</td>\n",
       "      <td>0.0766</td>\n",
       "      <td>0.564</td>\n",
       "      <td>82.193</td>\n",
       "      <td>289720</td>\n",
       "      <td>4</td>\n",
       "      <td>30.38643</td>\n",
       "      <td>15</td>\n",
       "      <td>1</td>\n",
       "      <td>0</td>\n",
       "      <td>r&amp;b</td>\n",
       "      <td>F</td>\n",
       "      <td>Solo</td>\n",
       "    </tr>\n",
       "    <tr>\n",
       "      <td>1636</td>\n",
       "      <td>Last Christmas</td>\n",
       "      <td>Wham!</td>\n",
       "      <td>0.757</td>\n",
       "      <td>0.618</td>\n",
       "      <td>11</td>\n",
       "      <td>-7.964</td>\n",
       "      <td>0</td>\n",
       "      <td>0.0282</td>\n",
       "      <td>0.26200</td>\n",
       "      <td>0.000000</td>\n",
       "      <td>0.2210</td>\n",
       "      <td>0.861</td>\n",
       "      <td>106.856</td>\n",
       "      <td>267160</td>\n",
       "      <td>4</td>\n",
       "      <td>18.19036</td>\n",
       "      <td>13</td>\n",
       "      <td>1</td>\n",
       "      <td>0</td>\n",
       "      <td>r&amp;b</td>\n",
       "      <td>M</td>\n",
       "      <td>Group</td>\n",
       "    </tr>\n",
       "  </tbody>\n",
       "</table>\n",
       "<p>1637 rows × 22 columns</p>\n",
       "</div>"
      ],
      "text/plain": [
       "                           track                                artist  \\\n",
       "0     Here's To Never Growing Up                         Avril Lavigne   \n",
       "1                          Alice                         Avril Lavigne   \n",
       "2             Wish You Were Here                         Avril Lavigne   \n",
       "3                      Let Me Go  Avril Lavigne Featuring Chad Kroeger   \n",
       "4                          Smile                         Avril Lavigne   \n",
       "...                          ...                                   ...   \n",
       "1632                 I'm Awesome                                 Spose   \n",
       "1633                 Cough Syrup                       Young The Giant   \n",
       "1634         Hold You (Hold Yuh)                               Gyptian   \n",
       "1635                 Window Seat                           Erykah Badu   \n",
       "1636              Last Christmas                                 Wham!   \n",
       "\n",
       "      danceability  energy  key  loudness  mode  speechiness  acousticness  \\\n",
       "0            0.482   0.873    0    -3.145     1       0.0853       0.01110   \n",
       "1            0.536   0.824    0    -4.403     1       0.0767       0.04580   \n",
       "2            0.454   0.865    4    -3.841     1       0.0561       0.03230   \n",
       "3            0.385   0.654    4    -6.635     1       0.0342       0.21200   \n",
       "4            0.634   0.848    1    -3.843     0       0.0470       0.00237   \n",
       "...            ...     ...  ...       ...   ...          ...           ...   \n",
       "1632         0.478   0.933    0    -5.814     1       0.3530       0.54000   \n",
       "1633         0.534   0.721   11    -7.307     0       0.0417       0.03430   \n",
       "1634         0.690   0.621    8    -3.583     1       0.0600       0.32100   \n",
       "1635         0.643   0.535    0    -6.795     0       0.0941       0.64800   \n",
       "1636         0.757   0.618   11    -7.964     0       0.0282       0.26200   \n",
       "\n",
       "      instrumentalness  liveness  valence    tempo  duration_ms  \\\n",
       "0             0.000000    0.4090    0.737  165.084       214320   \n",
       "1             0.000199    0.1740    0.172  119.004       300987   \n",
       "2             0.000000    0.1860    0.340  166.018       225760   \n",
       "3             0.000000    0.1360    0.125  164.196       267973   \n",
       "4             0.000000    0.0681    0.647  105.055       209520   \n",
       "...                ...       ...      ...      ...          ...   \n",
       "1632          0.000000    0.9230    0.442   98.949       179774   \n",
       "1633          0.000006    0.1150    0.225  128.978       249520   \n",
       "1634          0.000028    0.0884    0.497   66.858       233253   \n",
       "1635          0.002130    0.0766    0.564   82.193       289720   \n",
       "1636          0.000000    0.2210    0.861  106.856       267160   \n",
       "\n",
       "      time_signature  chorus_hit  sections  target  featuring Genres Gender  \\\n",
       "0                  4    32.17301        12       1          0    pop      F   \n",
       "1                  4    27.44375        11       1          0    pop      F   \n",
       "2                  4    28.77377        11       1          0    pop      F   \n",
       "3                  3    43.48854        12       1          1    pop      F   \n",
       "4                  4    39.65995         8       1          0    pop      F   \n",
       "...              ...         ...       ...     ...        ...    ...    ...   \n",
       "1632               4    34.78117         6       1          0  other      M   \n",
       "1633               3    44.87267        10       1          0   rock      M   \n",
       "1634               3    69.65459         9       1          0   rock      M   \n",
       "1635               4    30.38643        15       1          0    r&b      F   \n",
       "1636               4    18.19036        13       1          0    r&b      M   \n",
       "\n",
       "     Group.Solo  \n",
       "0          Solo  \n",
       "1          Solo  \n",
       "2          Solo  \n",
       "3          Solo  \n",
       "4          Solo  \n",
       "...         ...  \n",
       "1632       Solo  \n",
       "1633      Group  \n",
       "1634       Solo  \n",
       "1635       Solo  \n",
       "1636      Group  \n",
       "\n",
       "[1637 rows x 22 columns]"
      ]
     },
     "execution_count": 30,
     "metadata": {},
     "output_type": "execute_result"
    }
   ],
   "source": [
    "df_titulos = pd.merge(df_canciones, df_artistas, left_on = 'main artist', right_on = 'Artist') #cruzamos las dos tablas\n",
    "df_titulos = df_titulos.drop(['Artist', 'main artist'], axis=1) #nos quedamos solo con 'artist'\n",
    "df_titulos"
   ]
  },
  {
   "cell_type": "code",
   "execution_count": 31,
   "metadata": {
    "scrolled": false
   },
   "outputs": [
    {
     "data": {
      "text/plain": [
       "1    1604\n",
       "0      33\n",
       "Name: target, dtype: int64"
      ]
     },
     "execution_count": 31,
     "metadata": {},
     "output_type": "execute_result"
    }
   ],
   "source": [
    "pd.value_counts(df_titulos['target'])"
   ]
  },
  {
   "cell_type": "code",
   "execution_count": 32,
   "metadata": {},
   "outputs": [
    {
     "data": {
      "text/plain": [
       "2.0158827122785605"
      ]
     },
     "execution_count": 32,
     "metadata": {},
     "output_type": "execute_result"
    }
   ],
   "source": [
    "(1 - sum(df_titulos['target'])/len(df_titulos['target']))*100"
   ]
  },
  {
   "cell_type": "markdown",
   "metadata": {},
   "source": [
    "A pesar de haber creado la variable `main artist` para intentar maximizar el mayor número de cruces posibles con `df_artistas`, se observa una pérdida considerable de canciones debido a que no encuentra *match* en la base de datos de `df_artistas`. Probablemente se deba por la naturaleza de éste, ya que contiene información de artistas ya conocidos. Esto provoca que los datos estén totalmente desbalanceados: las canciones 'no hit' representan únicamente un 2% de la muestra total.\n",
    "\n",
    "Al no haber sido posible encontrar otro dataset de artistas más \"completo\" (con artistas más y menos conocidos), intentareamos lidiar con este desajuste con varios métodos de desbalanceamiento que más adelante se explicarán."
   ]
  },
  {
   "cell_type": "markdown",
   "metadata": {},
   "source": [
    "## 2.4. Tratamiento datos atípicos"
   ]
  },
  {
   "cell_type": "code",
   "execution_count": 33,
   "metadata": {},
   "outputs": [],
   "source": [
    "def filtrar_outlier_tukey(x):\n",
    "    q1 = np.percentile(x, 25)\n",
    "    q3 = np.percentile(x, 75)\n",
    "    iqr = q3 - q1 \n",
    "    \n",
    "    floor = q1 - 1.5*iqr\n",
    "    ceiling = q3 + 1.5*iqr\n",
    "    \n",
    "    outlier_indices = list(x.index[(x < floor)|(x > ceiling)])\n",
    "    outlier_values = list(x[outlier_indices])\n",
    "\n",
    "    return outlier_indices, outlier_values"
   ]
  },
  {
   "cell_type": "code",
   "execution_count": 34,
   "metadata": {},
   "outputs": [
    {
     "data": {
      "text/plain": [
       "{'danceability': ('hay outliers', 4),\n",
       " 'energy': ('hay outliers', 19),\n",
       " 'loudness': ('hay outliers', 54),\n",
       " 'speechiness': ('hay outliers', 180),\n",
       " 'acousticness': ('hay outliers', 137),\n",
       " 'instrumentalness': ('hay outliers', 346),\n",
       " 'liveness': ('hay outliers', 87),\n",
       " 'valence': 'no hay outliers',\n",
       " 'tempo': ('hay outliers', 1),\n",
       " 'duration_ms': ('hay outliers', 72),\n",
       " 'chorus_hit': ('hay outliers', 73)}"
      ]
     },
     "execution_count": 34,
     "metadata": {},
     "output_type": "execute_result"
    }
   ],
   "source": [
    "var_names_cont = ['danceability','energy','loudness','speechiness','acousticness','instrumentalness','liveness','valence','tempo','duration_ms','chorus_hit']\n",
    "#var_names_cont son las variables explicativas continuas\n",
    "\n",
    "dicc = {}\n",
    "idx_outliers = set()\n",
    "for variable in var_names_cont:\n",
    "    indices, values = filtrar_outlier_tukey(df_titulos[variable])\n",
    "    if indices == []:\n",
    "        dicc[variable] = 'no hay outliers'\n",
    "    else:\n",
    "        dicc[variable] = ('hay outliers', len(indices))\n",
    "        idx_outliers = set(indices) | idx_outliers #devuelve los índices totales con outliers\n",
    "        \n",
    "dicc"
   ]
  },
  {
   "cell_type": "markdown",
   "metadata": {},
   "source": [
    "La única feature que no presenta outliers es `valence`, mientras que variables como `instrumentalness` o `acousticness` presentan una cantidad considerable de éstos.\n",
    "\n",
    "Para afrontar este problema, hay varias formas de tratarlo:\n",
    "- **Eliminando los outliers** (la forma más fácil) \n",
    "\n",
    "El inconveniente es que estaríamos eliminando información que podría ser valiosa y seguramente también estaríamos eliminando canciones 'no hit', que ya de por sí son pocos."
   ]
  },
  {
   "cell_type": "code",
   "execution_count": 35,
   "metadata": {},
   "outputs": [
    {
     "data": {
      "text/plain": [
       "1    1604\n",
       "0      33\n",
       "Name: target, dtype: int64"
      ]
     },
     "execution_count": 35,
     "metadata": {},
     "output_type": "execute_result"
    }
   ],
   "source": [
    "pd.value_counts(df_titulos['target'])"
   ]
  },
  {
   "cell_type": "code",
   "execution_count": 36,
   "metadata": {},
   "outputs": [
    {
     "data": {
      "text/plain": [
       "2.0158827122785605"
      ]
     },
     "execution_count": 36,
     "metadata": {},
     "output_type": "execute_result"
    }
   ],
   "source": [
    "(1 - sum(df_titulos['target'])/len(df_titulos['target']))*100 #porcentaje que representa 'no hit' sin eliminar outliers"
   ]
  },
  {
   "cell_type": "code",
   "execution_count": 37,
   "metadata": {},
   "outputs": [
    {
     "data": {
      "text/plain": [
       "1    916\n",
       "0     15\n",
       "Name: target, dtype: int64"
      ]
     },
     "execution_count": 37,
     "metadata": {},
     "output_type": "execute_result"
    }
   ],
   "source": [
    "df_sinoutliers = df_titulos.drop(list(idx_outliers)) #elimino los índices de los outliers \n",
    "pd.value_counts(df_sinoutliers['target']) "
   ]
  },
  {
   "cell_type": "code",
   "execution_count": 38,
   "metadata": {
    "scrolled": true
   },
   "outputs": [
    {
     "data": {
      "text/plain": [
       "1.6111707841031109"
      ]
     },
     "execution_count": 38,
     "metadata": {},
     "output_type": "execute_result"
    }
   ],
   "source": [
    "(1 - sum(df_sinoutliers['target'])/len(df_sinoutliers['target']))*100 #porcentaje que representa 'no hit' eliminando outliers"
   ]
  },
  {
   "cell_type": "markdown",
   "metadata": {},
   "source": [
    "En efecto, se reduce la proporción de 'no hit' en la muestra de un 2% a un 1.6%, por lo que no es aconsejable eliminarlos."
   ]
  },
  {
   "cell_type": "markdown",
   "metadata": {},
   "source": [
    "- **Sustituyendo por el valor de la mediana**: pero teniendo en cuenta que estamos tomando casos reales, estaríamos manipulando los datos de forma incorrecta y no reflejaría la realidad\n",
    "\n",
    "\n",
    "- **Utilizando `RobustScaler`** (https://scikit-learn.org/stable/modules/generated/sklearn.preprocessing.RobustScaler.html?highlight=robust#sklearn.preprocessing.RobustScaler)\n",
    "\n",
    "Este técnica es bastante útil ya que no elimina los outliers sino que reduce su efecto mediante un re-escalado parecido a `StandardScaler`. En este caso lo que hace es restar la mediana y dividir por el rango intercuartílico (valor 75% - valor 25%). Aplicaremos este re-escalado más adelante para comprobar si su práctica mejora la métrica o no."
   ]
  },
  {
   "cell_type": "markdown",
   "metadata": {},
   "source": [
    "##  2.5. Conversión a variables dummy"
   ]
  },
  {
   "cell_type": "code",
   "execution_count": 39,
   "metadata": {},
   "outputs": [],
   "source": [
    "#Convertimos a dummy todas menos 'track' y 'artist', de ahí que recorra [2:]\n",
    "variables_dummy = pd.get_dummies(df_titulos.iloc[:,2:], drop_first=True) #drop_first=True elimina una dummy\n",
    "\n",
    "#Concatenamos con la transformación anterior\n",
    "df = pd.concat([df_titulos.loc[:,['track','artist']], variables_dummy], axis=1)\n",
    "df = df.rename(columns={'Group.Solo_Solo': 'Solo'}) #renombranos la variable a 'Solo'"
   ]
  },
  {
   "cell_type": "code",
   "execution_count": 40,
   "metadata": {},
   "outputs": [
    {
     "data": {
      "text/html": [
       "<div>\n",
       "<style scoped>\n",
       "    .dataframe tbody tr th:only-of-type {\n",
       "        vertical-align: middle;\n",
       "    }\n",
       "\n",
       "    .dataframe tbody tr th {\n",
       "        vertical-align: top;\n",
       "    }\n",
       "\n",
       "    .dataframe thead th {\n",
       "        text-align: right;\n",
       "    }\n",
       "</style>\n",
       "<table border=\"1\" class=\"dataframe\">\n",
       "  <thead>\n",
       "    <tr style=\"text-align: right;\">\n",
       "      <th></th>\n",
       "      <th>track</th>\n",
       "      <th>artist</th>\n",
       "      <th>danceability</th>\n",
       "      <th>energy</th>\n",
       "      <th>key</th>\n",
       "      <th>loudness</th>\n",
       "      <th>mode</th>\n",
       "      <th>speechiness</th>\n",
       "      <th>acousticness</th>\n",
       "      <th>instrumentalness</th>\n",
       "      <th>liveness</th>\n",
       "      <th>valence</th>\n",
       "      <th>tempo</th>\n",
       "      <th>duration_ms</th>\n",
       "      <th>time_signature</th>\n",
       "      <th>chorus_hit</th>\n",
       "      <th>sections</th>\n",
       "      <th>target</th>\n",
       "      <th>featuring</th>\n",
       "      <th>Genres_electro/techno</th>\n",
       "      <th>Genres_hip hop</th>\n",
       "      <th>Genres_latin</th>\n",
       "      <th>Genres_other</th>\n",
       "      <th>Genres_pop</th>\n",
       "      <th>Genres_r&amp;b</th>\n",
       "      <th>Genres_rock</th>\n",
       "      <th>Gender_M</th>\n",
       "      <th>Solo</th>\n",
       "    </tr>\n",
       "  </thead>\n",
       "  <tbody>\n",
       "    <tr>\n",
       "      <td>0</td>\n",
       "      <td>Here's To Never Growing Up</td>\n",
       "      <td>Avril Lavigne</td>\n",
       "      <td>0.482</td>\n",
       "      <td>0.873</td>\n",
       "      <td>0</td>\n",
       "      <td>-3.145</td>\n",
       "      <td>1</td>\n",
       "      <td>0.0853</td>\n",
       "      <td>0.01110</td>\n",
       "      <td>0.000000</td>\n",
       "      <td>0.4090</td>\n",
       "      <td>0.737</td>\n",
       "      <td>165.084</td>\n",
       "      <td>214320</td>\n",
       "      <td>4</td>\n",
       "      <td>32.17301</td>\n",
       "      <td>12</td>\n",
       "      <td>1</td>\n",
       "      <td>0</td>\n",
       "      <td>0</td>\n",
       "      <td>0</td>\n",
       "      <td>0</td>\n",
       "      <td>0</td>\n",
       "      <td>1</td>\n",
       "      <td>0</td>\n",
       "      <td>0</td>\n",
       "      <td>0</td>\n",
       "      <td>1</td>\n",
       "    </tr>\n",
       "    <tr>\n",
       "      <td>1</td>\n",
       "      <td>Alice</td>\n",
       "      <td>Avril Lavigne</td>\n",
       "      <td>0.536</td>\n",
       "      <td>0.824</td>\n",
       "      <td>0</td>\n",
       "      <td>-4.403</td>\n",
       "      <td>1</td>\n",
       "      <td>0.0767</td>\n",
       "      <td>0.04580</td>\n",
       "      <td>0.000199</td>\n",
       "      <td>0.1740</td>\n",
       "      <td>0.172</td>\n",
       "      <td>119.004</td>\n",
       "      <td>300987</td>\n",
       "      <td>4</td>\n",
       "      <td>27.44375</td>\n",
       "      <td>11</td>\n",
       "      <td>1</td>\n",
       "      <td>0</td>\n",
       "      <td>0</td>\n",
       "      <td>0</td>\n",
       "      <td>0</td>\n",
       "      <td>0</td>\n",
       "      <td>1</td>\n",
       "      <td>0</td>\n",
       "      <td>0</td>\n",
       "      <td>0</td>\n",
       "      <td>1</td>\n",
       "    </tr>\n",
       "    <tr>\n",
       "      <td>2</td>\n",
       "      <td>Wish You Were Here</td>\n",
       "      <td>Avril Lavigne</td>\n",
       "      <td>0.454</td>\n",
       "      <td>0.865</td>\n",
       "      <td>4</td>\n",
       "      <td>-3.841</td>\n",
       "      <td>1</td>\n",
       "      <td>0.0561</td>\n",
       "      <td>0.03230</td>\n",
       "      <td>0.000000</td>\n",
       "      <td>0.1860</td>\n",
       "      <td>0.340</td>\n",
       "      <td>166.018</td>\n",
       "      <td>225760</td>\n",
       "      <td>4</td>\n",
       "      <td>28.77377</td>\n",
       "      <td>11</td>\n",
       "      <td>1</td>\n",
       "      <td>0</td>\n",
       "      <td>0</td>\n",
       "      <td>0</td>\n",
       "      <td>0</td>\n",
       "      <td>0</td>\n",
       "      <td>1</td>\n",
       "      <td>0</td>\n",
       "      <td>0</td>\n",
       "      <td>0</td>\n",
       "      <td>1</td>\n",
       "    </tr>\n",
       "    <tr>\n",
       "      <td>3</td>\n",
       "      <td>Let Me Go</td>\n",
       "      <td>Avril Lavigne Featuring Chad Kroeger</td>\n",
       "      <td>0.385</td>\n",
       "      <td>0.654</td>\n",
       "      <td>4</td>\n",
       "      <td>-6.635</td>\n",
       "      <td>1</td>\n",
       "      <td>0.0342</td>\n",
       "      <td>0.21200</td>\n",
       "      <td>0.000000</td>\n",
       "      <td>0.1360</td>\n",
       "      <td>0.125</td>\n",
       "      <td>164.196</td>\n",
       "      <td>267973</td>\n",
       "      <td>3</td>\n",
       "      <td>43.48854</td>\n",
       "      <td>12</td>\n",
       "      <td>1</td>\n",
       "      <td>1</td>\n",
       "      <td>0</td>\n",
       "      <td>0</td>\n",
       "      <td>0</td>\n",
       "      <td>0</td>\n",
       "      <td>1</td>\n",
       "      <td>0</td>\n",
       "      <td>0</td>\n",
       "      <td>0</td>\n",
       "      <td>1</td>\n",
       "    </tr>\n",
       "    <tr>\n",
       "      <td>4</td>\n",
       "      <td>Smile</td>\n",
       "      <td>Avril Lavigne</td>\n",
       "      <td>0.634</td>\n",
       "      <td>0.848</td>\n",
       "      <td>1</td>\n",
       "      <td>-3.843</td>\n",
       "      <td>0</td>\n",
       "      <td>0.0470</td>\n",
       "      <td>0.00237</td>\n",
       "      <td>0.000000</td>\n",
       "      <td>0.0681</td>\n",
       "      <td>0.647</td>\n",
       "      <td>105.055</td>\n",
       "      <td>209520</td>\n",
       "      <td>4</td>\n",
       "      <td>39.65995</td>\n",
       "      <td>8</td>\n",
       "      <td>1</td>\n",
       "      <td>0</td>\n",
       "      <td>0</td>\n",
       "      <td>0</td>\n",
       "      <td>0</td>\n",
       "      <td>0</td>\n",
       "      <td>1</td>\n",
       "      <td>0</td>\n",
       "      <td>0</td>\n",
       "      <td>0</td>\n",
       "      <td>1</td>\n",
       "    </tr>\n",
       "  </tbody>\n",
       "</table>\n",
       "</div>"
      ],
      "text/plain": [
       "                        track                                artist  \\\n",
       "0  Here's To Never Growing Up                         Avril Lavigne   \n",
       "1                       Alice                         Avril Lavigne   \n",
       "2          Wish You Were Here                         Avril Lavigne   \n",
       "3                   Let Me Go  Avril Lavigne Featuring Chad Kroeger   \n",
       "4                       Smile                         Avril Lavigne   \n",
       "\n",
       "   danceability  energy  key  loudness  mode  speechiness  acousticness  \\\n",
       "0         0.482   0.873    0    -3.145     1       0.0853       0.01110   \n",
       "1         0.536   0.824    0    -4.403     1       0.0767       0.04580   \n",
       "2         0.454   0.865    4    -3.841     1       0.0561       0.03230   \n",
       "3         0.385   0.654    4    -6.635     1       0.0342       0.21200   \n",
       "4         0.634   0.848    1    -3.843     0       0.0470       0.00237   \n",
       "\n",
       "   instrumentalness  liveness  valence    tempo  duration_ms  time_signature  \\\n",
       "0          0.000000    0.4090    0.737  165.084       214320               4   \n",
       "1          0.000199    0.1740    0.172  119.004       300987               4   \n",
       "2          0.000000    0.1860    0.340  166.018       225760               4   \n",
       "3          0.000000    0.1360    0.125  164.196       267973               3   \n",
       "4          0.000000    0.0681    0.647  105.055       209520               4   \n",
       "\n",
       "   chorus_hit  sections  target  featuring  Genres_electro/techno  \\\n",
       "0    32.17301        12       1          0                      0   \n",
       "1    27.44375        11       1          0                      0   \n",
       "2    28.77377        11       1          0                      0   \n",
       "3    43.48854        12       1          1                      0   \n",
       "4    39.65995         8       1          0                      0   \n",
       "\n",
       "   Genres_hip hop  Genres_latin  Genres_other  Genres_pop  Genres_r&b  \\\n",
       "0               0             0             0           1           0   \n",
       "1               0             0             0           1           0   \n",
       "2               0             0             0           1           0   \n",
       "3               0             0             0           1           0   \n",
       "4               0             0             0           1           0   \n",
       "\n",
       "   Genres_rock  Gender_M  Solo  \n",
       "0            0         0     1  \n",
       "1            0         0     1  \n",
       "2            0         0     1  \n",
       "3            0         0     1  \n",
       "4            0         0     1  "
      ]
     },
     "execution_count": 40,
     "metadata": {},
     "output_type": "execute_result"
    }
   ],
   "source": [
    "df.head() #elimina Genres_country/folk"
   ]
  },
  {
   "cell_type": "markdown",
   "metadata": {},
   "source": [
    "A la hora de crear dummies, se ha añadido el parámetro `drop_first=True` para que no hubiera problemas de multicolinealidad en un modelo de regresión logit. Al eliminar una dummy de cada grupo, las variables convertidas dejan de ser combinación lineal de la eliminada."
   ]
  },
  {
   "cell_type": "markdown",
   "metadata": {},
   "source": [
    "##  2.6. Definición del dataset final"
   ]
  },
  {
   "cell_type": "markdown",
   "metadata": {},
   "source": [
    "El dataset final con el que trabajaremos de ahora en adelante será el siguiente:"
   ]
  },
  {
   "cell_type": "code",
   "execution_count": 41,
   "metadata": {},
   "outputs": [
    {
     "data": {
      "text/plain": [
       "((1637, 25), (1637,))"
      ]
     },
     "execution_count": 41,
     "metadata": {},
     "output_type": "execute_result"
    }
   ],
   "source": [
    "df = df.drop(['track','artist'], axis=1)\n",
    "\n",
    "num_col_y = list(df.columns).index('target') \n",
    "# .index devuelve la posición de un elemento en una lista (en este caso, el número de columna de 'target')\n",
    "\n",
    "X_df = pd.concat([df.iloc[:,:num_col_y], df.iloc[:,num_col_y+1:]], axis=1)\n",
    "#concateno todas las columnas salvo la de la posición de 'target' (num_col_y)\n",
    "\n",
    "X = X_df.values\n",
    "y = df['target'].values\n",
    "\n",
    "X.shape, y.shape"
   ]
  },
  {
   "cell_type": "markdown",
   "metadata": {},
   "source": [
    "Y está compuesto por 25 variables explicativas:"
   ]
  },
  {
   "cell_type": "code",
   "execution_count": 42,
   "metadata": {
    "scrolled": true
   },
   "outputs": [
    {
     "data": {
      "text/plain": [
       "Index(['danceability', 'energy', 'key', 'loudness', 'mode', 'speechiness',\n",
       "       'acousticness', 'instrumentalness', 'liveness', 'valence', 'tempo',\n",
       "       'duration_ms', 'time_signature', 'chorus_hit', 'sections', 'featuring',\n",
       "       'Genres_electro/techno', 'Genres_hip hop', 'Genres_latin',\n",
       "       'Genres_other', 'Genres_pop', 'Genres_r&b', 'Genres_rock', 'Gender_M',\n",
       "       'Solo'],\n",
       "      dtype='object')"
      ]
     },
     "execution_count": 42,
     "metadata": {},
     "output_type": "execute_result"
    }
   ],
   "source": [
    "var_names = X_df.columns #orden de las variables explicativas en el df\n",
    "var_names"
   ]
  },
  {
   "cell_type": "code",
   "execution_count": null,
   "metadata": {},
   "outputs": [],
   "source": []
  },
  {
   "cell_type": "markdown",
   "metadata": {},
   "source": [
    "# 3. ANÁLISIS DESCRIPTIVO"
   ]
  },
  {
   "cell_type": "code",
   "execution_count": 43,
   "metadata": {},
   "outputs": [
    {
     "data": {
      "text/html": [
       "<div>\n",
       "<style scoped>\n",
       "    .dataframe tbody tr th:only-of-type {\n",
       "        vertical-align: middle;\n",
       "    }\n",
       "\n",
       "    .dataframe tbody tr th {\n",
       "        vertical-align: top;\n",
       "    }\n",
       "\n",
       "    .dataframe thead th {\n",
       "        text-align: right;\n",
       "    }\n",
       "</style>\n",
       "<table border=\"1\" class=\"dataframe\">\n",
       "  <thead>\n",
       "    <tr style=\"text-align: right;\">\n",
       "      <th></th>\n",
       "      <th>danceability</th>\n",
       "      <th>energy</th>\n",
       "      <th>key</th>\n",
       "      <th>loudness</th>\n",
       "      <th>mode</th>\n",
       "      <th>speechiness</th>\n",
       "      <th>acousticness</th>\n",
       "      <th>instrumentalness</th>\n",
       "      <th>liveness</th>\n",
       "      <th>valence</th>\n",
       "      <th>tempo</th>\n",
       "      <th>duration_ms</th>\n",
       "      <th>time_signature</th>\n",
       "      <th>chorus_hit</th>\n",
       "      <th>sections</th>\n",
       "      <th>target</th>\n",
       "      <th>featuring</th>\n",
       "      <th>Genres_electro/techno</th>\n",
       "      <th>Genres_hip hop</th>\n",
       "      <th>Genres_latin</th>\n",
       "      <th>Genres_other</th>\n",
       "      <th>Genres_pop</th>\n",
       "      <th>Genres_r&amp;b</th>\n",
       "      <th>Genres_rock</th>\n",
       "      <th>Gender_M</th>\n",
       "      <th>Solo</th>\n",
       "    </tr>\n",
       "  </thead>\n",
       "  <tbody>\n",
       "    <tr>\n",
       "      <td>count</td>\n",
       "      <td>1637.000000</td>\n",
       "      <td>1637.000000</td>\n",
       "      <td>1637.000000</td>\n",
       "      <td>1637.000000</td>\n",
       "      <td>1637.000000</td>\n",
       "      <td>1637.000000</td>\n",
       "      <td>1637.000000</td>\n",
       "      <td>1637.000000</td>\n",
       "      <td>1637.000000</td>\n",
       "      <td>1637.000000</td>\n",
       "      <td>1637.000000</td>\n",
       "      <td>1637.000000</td>\n",
       "      <td>1637.000000</td>\n",
       "      <td>1637.000000</td>\n",
       "      <td>1637.000000</td>\n",
       "      <td>1637.000000</td>\n",
       "      <td>1637.000000</td>\n",
       "      <td>1637.000000</td>\n",
       "      <td>1637.000000</td>\n",
       "      <td>1637.000000</td>\n",
       "      <td>1637.000000</td>\n",
       "      <td>1637.000000</td>\n",
       "      <td>1637.000000</td>\n",
       "      <td>1637.000000</td>\n",
       "      <td>1637.000000</td>\n",
       "      <td>1637.000000</td>\n",
       "    </tr>\n",
       "    <tr>\n",
       "      <td>mean</td>\n",
       "      <td>0.628671</td>\n",
       "      <td>0.701253</td>\n",
       "      <td>5.279780</td>\n",
       "      <td>-5.756099</td>\n",
       "      <td>0.680513</td>\n",
       "      <td>0.103482</td>\n",
       "      <td>0.145057</td>\n",
       "      <td>0.005418</td>\n",
       "      <td>0.188077</td>\n",
       "      <td>0.507295</td>\n",
       "      <td>124.068037</td>\n",
       "      <td>229857.250458</td>\n",
       "      <td>3.986561</td>\n",
       "      <td>39.408715</td>\n",
       "      <td>10.197312</td>\n",
       "      <td>0.979841</td>\n",
       "      <td>0.320098</td>\n",
       "      <td>0.017715</td>\n",
       "      <td>0.298106</td>\n",
       "      <td>0.014661</td>\n",
       "      <td>0.008552</td>\n",
       "      <td>0.301772</td>\n",
       "      <td>0.064753</td>\n",
       "      <td>0.094685</td>\n",
       "      <td>0.784973</td>\n",
       "      <td>0.869884</td>\n",
       "    </tr>\n",
       "    <tr>\n",
       "      <td>std</td>\n",
       "      <td>0.138869</td>\n",
       "      <td>0.161416</td>\n",
       "      <td>3.630375</td>\n",
       "      <td>2.129558</td>\n",
       "      <td>0.466420</td>\n",
       "      <td>0.102785</td>\n",
       "      <td>0.193880</td>\n",
       "      <td>0.046572</td>\n",
       "      <td>0.142841</td>\n",
       "      <td>0.215039</td>\n",
       "      <td>28.922202</td>\n",
       "      <td>44053.922344</td>\n",
       "      <td>0.215114</td>\n",
       "      <td>17.846976</td>\n",
       "      <td>2.464574</td>\n",
       "      <td>0.140586</td>\n",
       "      <td>0.466656</td>\n",
       "      <td>0.131955</td>\n",
       "      <td>0.457566</td>\n",
       "      <td>0.120228</td>\n",
       "      <td>0.092110</td>\n",
       "      <td>0.459167</td>\n",
       "      <td>0.246164</td>\n",
       "      <td>0.292869</td>\n",
       "      <td>0.410967</td>\n",
       "      <td>0.336534</td>\n",
       "    </tr>\n",
       "    <tr>\n",
       "      <td>min</td>\n",
       "      <td>0.209000</td>\n",
       "      <td>0.077500</td>\n",
       "      <td>0.000000</td>\n",
       "      <td>-18.067000</td>\n",
       "      <td>0.000000</td>\n",
       "      <td>0.022500</td>\n",
       "      <td>0.000025</td>\n",
       "      <td>0.000000</td>\n",
       "      <td>0.024100</td>\n",
       "      <td>0.037900</td>\n",
       "      <td>61.115000</td>\n",
       "      <td>78200.000000</td>\n",
       "      <td>3.000000</td>\n",
       "      <td>14.275530</td>\n",
       "      <td>4.000000</td>\n",
       "      <td>0.000000</td>\n",
       "      <td>0.000000</td>\n",
       "      <td>0.000000</td>\n",
       "      <td>0.000000</td>\n",
       "      <td>0.000000</td>\n",
       "      <td>0.000000</td>\n",
       "      <td>0.000000</td>\n",
       "      <td>0.000000</td>\n",
       "      <td>0.000000</td>\n",
       "      <td>0.000000</td>\n",
       "      <td>0.000000</td>\n",
       "    </tr>\n",
       "    <tr>\n",
       "      <td>25%</td>\n",
       "      <td>0.537000</td>\n",
       "      <td>0.598000</td>\n",
       "      <td>2.000000</td>\n",
       "      <td>-6.777000</td>\n",
       "      <td>0.000000</td>\n",
       "      <td>0.037800</td>\n",
       "      <td>0.018100</td>\n",
       "      <td>0.000000</td>\n",
       "      <td>0.095600</td>\n",
       "      <td>0.344000</td>\n",
       "      <td>99.980000</td>\n",
       "      <td>203160.000000</td>\n",
       "      <td>4.000000</td>\n",
       "      <td>27.491960</td>\n",
       "      <td>9.000000</td>\n",
       "      <td>1.000000</td>\n",
       "      <td>0.000000</td>\n",
       "      <td>0.000000</td>\n",
       "      <td>0.000000</td>\n",
       "      <td>0.000000</td>\n",
       "      <td>0.000000</td>\n",
       "      <td>0.000000</td>\n",
       "      <td>0.000000</td>\n",
       "      <td>0.000000</td>\n",
       "      <td>1.000000</td>\n",
       "      <td>1.000000</td>\n",
       "    </tr>\n",
       "    <tr>\n",
       "      <td>50%</td>\n",
       "      <td>0.626000</td>\n",
       "      <td>0.724000</td>\n",
       "      <td>6.000000</td>\n",
       "      <td>-5.465000</td>\n",
       "      <td>1.000000</td>\n",
       "      <td>0.056600</td>\n",
       "      <td>0.062100</td>\n",
       "      <td>0.000000</td>\n",
       "      <td>0.127000</td>\n",
       "      <td>0.502000</td>\n",
       "      <td>124.987000</td>\n",
       "      <td>223840.000000</td>\n",
       "      <td>4.000000</td>\n",
       "      <td>35.302940</td>\n",
       "      <td>10.000000</td>\n",
       "      <td>1.000000</td>\n",
       "      <td>0.000000</td>\n",
       "      <td>0.000000</td>\n",
       "      <td>0.000000</td>\n",
       "      <td>0.000000</td>\n",
       "      <td>0.000000</td>\n",
       "      <td>0.000000</td>\n",
       "      <td>0.000000</td>\n",
       "      <td>0.000000</td>\n",
       "      <td>1.000000</td>\n",
       "      <td>1.000000</td>\n",
       "    </tr>\n",
       "    <tr>\n",
       "      <td>75%</td>\n",
       "      <td>0.723000</td>\n",
       "      <td>0.823000</td>\n",
       "      <td>8.000000</td>\n",
       "      <td>-4.329000</td>\n",
       "      <td>1.000000</td>\n",
       "      <td>0.125000</td>\n",
       "      <td>0.193000</td>\n",
       "      <td>0.000013</td>\n",
       "      <td>0.243000</td>\n",
       "      <td>0.660000</td>\n",
       "      <td>142.657000</td>\n",
       "      <td>247813.000000</td>\n",
       "      <td>4.000000</td>\n",
       "      <td>46.092160</td>\n",
       "      <td>12.000000</td>\n",
       "      <td>1.000000</td>\n",
       "      <td>1.000000</td>\n",
       "      <td>0.000000</td>\n",
       "      <td>1.000000</td>\n",
       "      <td>0.000000</td>\n",
       "      <td>0.000000</td>\n",
       "      <td>1.000000</td>\n",
       "      <td>0.000000</td>\n",
       "      <td>0.000000</td>\n",
       "      <td>1.000000</td>\n",
       "      <td>1.000000</td>\n",
       "    </tr>\n",
       "    <tr>\n",
       "      <td>max</td>\n",
       "      <td>0.974000</td>\n",
       "      <td>0.991000</td>\n",
       "      <td>11.000000</td>\n",
       "      <td>-0.716000</td>\n",
       "      <td>1.000000</td>\n",
       "      <td>0.681000</td>\n",
       "      <td>0.987000</td>\n",
       "      <td>0.867000</td>\n",
       "      <td>0.962000</td>\n",
       "      <td>0.976000</td>\n",
       "      <td>208.067000</td>\n",
       "      <td>688453.000000</td>\n",
       "      <td>5.000000</td>\n",
       "      <td>213.154990</td>\n",
       "      <td>22.000000</td>\n",
       "      <td>1.000000</td>\n",
       "      <td>1.000000</td>\n",
       "      <td>1.000000</td>\n",
       "      <td>1.000000</td>\n",
       "      <td>1.000000</td>\n",
       "      <td>1.000000</td>\n",
       "      <td>1.000000</td>\n",
       "      <td>1.000000</td>\n",
       "      <td>1.000000</td>\n",
       "      <td>1.000000</td>\n",
       "      <td>1.000000</td>\n",
       "    </tr>\n",
       "  </tbody>\n",
       "</table>\n",
       "</div>"
      ],
      "text/plain": [
       "       danceability       energy          key     loudness         mode  \\\n",
       "count   1637.000000  1637.000000  1637.000000  1637.000000  1637.000000   \n",
       "mean       0.628671     0.701253     5.279780    -5.756099     0.680513   \n",
       "std        0.138869     0.161416     3.630375     2.129558     0.466420   \n",
       "min        0.209000     0.077500     0.000000   -18.067000     0.000000   \n",
       "25%        0.537000     0.598000     2.000000    -6.777000     0.000000   \n",
       "50%        0.626000     0.724000     6.000000    -5.465000     1.000000   \n",
       "75%        0.723000     0.823000     8.000000    -4.329000     1.000000   \n",
       "max        0.974000     0.991000    11.000000    -0.716000     1.000000   \n",
       "\n",
       "       speechiness  acousticness  instrumentalness     liveness      valence  \\\n",
       "count  1637.000000   1637.000000       1637.000000  1637.000000  1637.000000   \n",
       "mean      0.103482      0.145057          0.005418     0.188077     0.507295   \n",
       "std       0.102785      0.193880          0.046572     0.142841     0.215039   \n",
       "min       0.022500      0.000025          0.000000     0.024100     0.037900   \n",
       "25%       0.037800      0.018100          0.000000     0.095600     0.344000   \n",
       "50%       0.056600      0.062100          0.000000     0.127000     0.502000   \n",
       "75%       0.125000      0.193000          0.000013     0.243000     0.660000   \n",
       "max       0.681000      0.987000          0.867000     0.962000     0.976000   \n",
       "\n",
       "             tempo    duration_ms  time_signature   chorus_hit     sections  \\\n",
       "count  1637.000000    1637.000000     1637.000000  1637.000000  1637.000000   \n",
       "mean    124.068037  229857.250458        3.986561    39.408715    10.197312   \n",
       "std      28.922202   44053.922344        0.215114    17.846976     2.464574   \n",
       "min      61.115000   78200.000000        3.000000    14.275530     4.000000   \n",
       "25%      99.980000  203160.000000        4.000000    27.491960     9.000000   \n",
       "50%     124.987000  223840.000000        4.000000    35.302940    10.000000   \n",
       "75%     142.657000  247813.000000        4.000000    46.092160    12.000000   \n",
       "max     208.067000  688453.000000        5.000000   213.154990    22.000000   \n",
       "\n",
       "            target    featuring  Genres_electro/techno  Genres_hip hop  \\\n",
       "count  1637.000000  1637.000000            1637.000000     1637.000000   \n",
       "mean      0.979841     0.320098               0.017715        0.298106   \n",
       "std       0.140586     0.466656               0.131955        0.457566   \n",
       "min       0.000000     0.000000               0.000000        0.000000   \n",
       "25%       1.000000     0.000000               0.000000        0.000000   \n",
       "50%       1.000000     0.000000               0.000000        0.000000   \n",
       "75%       1.000000     1.000000               0.000000        1.000000   \n",
       "max       1.000000     1.000000               1.000000        1.000000   \n",
       "\n",
       "       Genres_latin  Genres_other   Genres_pop   Genres_r&b  Genres_rock  \\\n",
       "count   1637.000000   1637.000000  1637.000000  1637.000000  1637.000000   \n",
       "mean       0.014661      0.008552     0.301772     0.064753     0.094685   \n",
       "std        0.120228      0.092110     0.459167     0.246164     0.292869   \n",
       "min        0.000000      0.000000     0.000000     0.000000     0.000000   \n",
       "25%        0.000000      0.000000     0.000000     0.000000     0.000000   \n",
       "50%        0.000000      0.000000     0.000000     0.000000     0.000000   \n",
       "75%        0.000000      0.000000     1.000000     0.000000     0.000000   \n",
       "max        1.000000      1.000000     1.000000     1.000000     1.000000   \n",
       "\n",
       "          Gender_M         Solo  \n",
       "count  1637.000000  1637.000000  \n",
       "mean      0.784973     0.869884  \n",
       "std       0.410967     0.336534  \n",
       "min       0.000000     0.000000  \n",
       "25%       1.000000     1.000000  \n",
       "50%       1.000000     1.000000  \n",
       "75%       1.000000     1.000000  \n",
       "max       1.000000     1.000000  "
      ]
     },
     "execution_count": 43,
     "metadata": {},
     "output_type": "execute_result"
    }
   ],
   "source": [
    "df.describe()"
   ]
  },
  {
   "cell_type": "markdown",
   "metadata": {},
   "source": [
    "Si nos fijamos en las variables continuas, la media de algunas variables tienden a estar más próxima a uno de los valores extremos (el mínimo y el máximo), como se aprecia en `energy` (media de 0.7 en un rango de [0.07, 0.99]) o `acousticness` (media de 0.14 en un rango de [0, 0.98]). Esto nos da una idea de que las variables no son del todo normales, sino que tendrán cierto grado de asimetría."
   ]
  },
  {
   "cell_type": "code",
   "execution_count": 44,
   "metadata": {},
   "outputs": [],
   "source": [
    "import seaborn as sns\n",
    "sns.set_style(\"whitegrid\")"
   ]
  },
  {
   "cell_type": "code",
   "execution_count": 45,
   "metadata": {},
   "outputs": [
    {
     "data": {
      "image/png": "[encoded data removed]",
      "text/plain": [
       "<Figure size 1080x720 with 4 Axes>"
      ]
     },
     "metadata": {},
     "output_type": "display_data"
    }
   ],
   "source": [
    "fig = plt.figure(1, figsize=(15,10));\n",
    "grid = plt.GridSpec(2, 3, wspace=0.3, width_ratios=[1, 1, 1], height_ratios=[0.5, 0.5]) #2 filas, 3 columnas\n",
    "\n",
    "#Fila 0\n",
    "plt.subplot(grid[0, 0])\n",
    "sns.countplot(x=\"Gender_M\", data=df, color='#F3F37B');\n",
    "plt.subplot(grid[0, 1])\n",
    "sns.countplot(x=\"Solo\", data=df, color='#7BF3F3');\n",
    "plt.subplot(grid[0, 2])\n",
    "sns.countplot(x=\"featuring\", data=df, color='#7BF3B7');\n",
    "\n",
    "#Fila 1\n",
    "plt.subplot(grid[1, :])\n",
    "sns.countplot(x=\"Genres\", data=df_titulos, color='#F7AAAA');"
   ]
  },
  {
   "cell_type": "markdown",
   "metadata": {},
   "source": [
    "Por cada feature, predominan canciones de artistas masculinos, en solitario, de tipo colaboración, y principalmente de pop y hip-hop."
   ]
  },
  {
   "cell_type": "code",
   "execution_count": 46,
   "metadata": {},
   "outputs": [
    {
     "data": {
      "image/png": "[encoded data removed]",
      "text/plain": [
       "<Figure size 1080x360 with 3 Axes>"
      ]
     },
     "metadata": {},
     "output_type": "display_data"
    }
   ],
   "source": [
    "fig, axs = plt.subplots(ncols=3, figsize=(15,5))\n",
    "\n",
    "sns.distplot(df['tempo'], kde=True, bins=30, ax=axs[0]);\n",
    "sns.distplot(df['energy'], kde=True, bins=30, ax=axs[1]);\n",
    "sns.distplot(df['acousticness'], kde=True, bins=30, ax=axs[2]);"
   ]
  },
  {
   "cell_type": "markdown",
   "metadata": {},
   "source": [
    "En efecto, no se aprecia un comportamiento \"normal\": `tempo` es bimodal, `acousticness` es asimétrica hacia la izquierda y `energy` es asimétrica hacia la derecha. Teniendo en cuenta esto, emplearemos los modelos de **regresión logística, random forest y k-Vecinos** en el modelado de nuestro conjunto de datos, ya que no precisan que las variables independientes sigan una distribución normal (como sí lo impone el análisis discriminación lineal (LDA), por ejemplo)."
   ]
  },
  {
   "cell_type": "code",
   "execution_count": null,
   "metadata": {},
   "outputs": [],
   "source": []
  },
  {
   "cell_type": "markdown",
   "metadata": {},
   "source": [
    "# 4. APLICACIÓN MODELOS"
   ]
  },
  {
   "cell_type": "code",
   "execution_count": 47,
   "metadata": {},
   "outputs": [],
   "source": [
    "from sklearn.model_selection import train_test_split\n",
    "\n",
    "X_train, X_test, y_train, y_test = train_test_split(\n",
    "    X, y, test_size=0.3, stratify=y, random_state=0) \n",
    "    #stratify=y es para que se conserve la misma proporción de 0/1 tanto en train como en test"
   ]
  },
  {
   "cell_type": "code",
   "execution_count": 48,
   "metadata": {
    "scrolled": true
   },
   "outputs": [
    {
     "data": {
      "text/plain": [
       "(0.9798411728772144, 0.9799126637554585, 0.9796747967479674)"
      ]
     },
     "execution_count": 48,
     "metadata": {},
     "output_type": "execute_result"
    }
   ],
   "source": [
    "y.sum()/len(y), y_train.sum()/len(y_train), y_test.sum()/len(y_test)"
   ]
  },
  {
   "cell_type": "markdown",
   "metadata": {},
   "source": [
    "El 98% de las canciones del dataset son 'hit'"
   ]
  },
  {
   "cell_type": "code",
   "execution_count": 49,
   "metadata": {},
   "outputs": [
    {
     "data": {
      "text/plain": [
       "((1145, 25), (1145,), (492, 25), (492,))"
      ]
     },
     "execution_count": 49,
     "metadata": {},
     "output_type": "execute_result"
    }
   ],
   "source": [
    "X_train.shape, y_train.shape, X_test.shape, y_test.shape"
   ]
  },
  {
   "cell_type": "markdown",
   "metadata": {},
   "source": [
    "**¿Qué métrica es la más adecuada en este caso?** https://scikit-learn.org/stable/modules/model_evaluation.html#scoring-parameter\n",
    "\n",
    "Aunque la tasa de aciertos (*accuracy*) es una métrica bastante útil por lo general, la presencia de desbalanceamiento que hay en el dataset provoca que la tasa de aciertos no sea nada representativa, ya que el modelo tenderá a predecir únicamente la clase predominante y proporcionará tasas muy altas pero engañosas. \n",
    "\n",
    "Por este motivo, nos centraremos en detectar y minimizar el peso de los falsos negativos y positivos. Esto es:\n",
    "\n",
    "- **Efecto falso negativo**: desde el punto de vista de la discográfica que implementa este modelo, el beneficio que le hubiera retribuido haber fichado al verdadero 'hit' mal clasificado (falso negativo) supone un elevado coste de oportunidad. Es decir, al ser rechazado por la discográfica, el artista de este 'hit' podría tomar la decisión de irse a otra discográfica de la competencia que sí supiera detectar que es un verdadero 'hit'. Además, no sólo supone una pérdida económica para la discográfica, sino un incremento de popularidad y visibilidad a la otra discográfica de la competencia.\n",
    "\n",
    "- **Efecto falso positivo**: hacen referencia a canciones que son realmente 'no hit' pero que el modelo predice como 'hit'. Reducir estos falsos 'hit' ayudaría a la discográfica a no incurrir en costes de inversión en un activo (artista) que no les va a reportar grandes beneficios.\n",
    "\n",
    "Para minimizar estos impactos, `recall` es la métrica más apropiada, que mide lo siguiente:\n",
    "\n",
    "$$\n",
    "recall_{hit} = \\dfrac{TruePositive}{TruePositive + FalseNegative}\n",
    "$$\n",
    "\n",
    "es decir, expresa cuán bien el modelo sabe detectar 'hits' de todos los posibles que hay. Y análogo con la clase 'no hit':\n",
    "\n",
    "$$\n",
    "recall_{\\text{no hit}} = \\dfrac{TrueNegative}{TrueNegative + FalsePositive}\n",
    "$$\n",
    "\n",
    "\n",
    "Para tener en cuenta tanto el $recall_{hit}$ como el $recall_{\\text{no hit}}$, utilizaremos como métrica `recall_macro` (la media general de los dos tipos de recall), para que ambos efectos tengan el mismo peso (si utilizáramos `recall_weighted`, $recall_{hit}$ tendría mayor peso por ser la clase mayoritaria)"
   ]
  },
  {
   "cell_type": "markdown",
   "metadata": {},
   "source": [
    "## 4.1. Problemática datos desbalanceados"
   ]
  },
  {
   "cell_type": "markdown",
   "metadata": {},
   "source": [
    "Como el dataset presenta una clara desproporción entre canciones de tipo 0 (clase minoritaria) y canciones de tipo 1 (clase mayoritaria), esto se puede corregir de diversas maneras:\n",
    "\n",
    "- **Estableciendo parámetros al modelo** \n",
    "\n",
    "Modelos como el de regresión logística o el de random forest presentan un parámetro denominado `class_weight='balanced'` que penalizan a la clase mayoritaria durante el entrenamiento para intentar equilibrar a la clase minoritaria.\n",
    "\n",
    ">The *balanced* mode uses the values of y to automatically adjust weights inversely proportional to class frequencies in the input data as `n_samples / (n_classes * np.bincount(y))`\n",
    "\n",
    "Es decir, cuanto mayor sea el número de elementos de una clase, menor peso se le asignará.\n",
    "\n",
    "\n",
    "- **Haciendo subsampling de la clase mayoritaria y/o oversampling de la clase minoritaria**: \n",
    "\n",
    "<img src=https://oralytics.files.wordpress.com/2019/05/screenshot-2019-05-20-15.34.14.png>\n",
    "\n",
    "Cuando se aplica **subsampling** para reducir la clase mayoritaria, se utiliza un algortimo similar a k-Vecinos que va seleccionando de forma aleatoria cuáles eliminar. Como nuestra clase minoritaria sólo está compuesto por 33 canciones, no tiene sentido aplicar dicho procedimiento ya que nuestro conjunto de datos se reduciría considerablemente y habría muy pocos datos para entrenar.\n",
    "\n",
    "Sin embargo, la estrategia del **oversampling** pretende aumentar la clase minoritaria y se puede conseguir de dos formas: 1) replicando copias exactas de forma aleatoria, o 2) creando nuevas muestras sintéticas muy parecidas a las muestras ya existentes. El método 2) es lo que se demonina SMOTE (*Synthetic Minority Oversampling Technique*). \n",
    "\n",
    "<img src=https://www.bbvadata.com/wp-content/uploads/2017/10/1-3.jpg>\n",
    "\n",
    "SMOTE genera datos sintéticos también básandose en k-Vecinos: fija un punto minoritario, encuentra sus vecinos minoritarios más cercanos, selecciona al azar uno de ellos y emplea interpolación lineal entre ambos puntos para producir un nuevo dato \"minoritario\".\n",
    "\n",
    "Asimismo, también se puede hacer una combinación simultánea entre **subsampling** y **oversampling** y es lo que se denomina SMOTE-TOMEK."
   ]
  },
  {
   "cell_type": "markdown",
   "metadata": {},
   "source": [
    "Para nuestro caso, abordaremos el problema de la siguiente forma: aplicaremos SMOTE sobre el conjunto de entrenamiento de tal forma que se crean nuevas muestras 'no hit', como hemos explicado. Por defecto, se crean tantas muestras minoritarias como sean necesarias hasta que se iguale al número de muestras mayoritarias. En nuestro caso, para que no haya tantas muestras \"inventadas\" y no caiga en overfitting el modelo, estableceremos un ratio de ambas del 30%. De esta forma, aunque el conjunto de entrenamiento siga desbalanceado, lo estará en menor medida. Para compensar esto, aplicaremos además el parámetro `class_weight='balanced'` que corregirán este defecto y penalizará a las muestras mayoritarias."
   ]
  },
  {
   "cell_type": "markdown",
   "metadata": {},
   "source": [
    "## 4.2. Modelos originales con parámetro 'balanced'"
   ]
  },
  {
   "cell_type": "code",
   "execution_count": 50,
   "metadata": {},
   "outputs": [],
   "source": [
    "#pip install -U imbalanced-learn\n",
    "from imblearn.over_sampling import SMOTE\n",
    "\n",
    "from collections import Counter"
   ]
  },
  {
   "cell_type": "code",
   "execution_count": 51,
   "metadata": {},
   "outputs": [
    {
     "name": "stdout",
     "output_type": "stream",
     "text": [
      "Antes de SMOTE Counter({1: 1122, 0: 23})\n",
      "Después de SMOTE Counter({1: 1122, 0: 336})\n"
     ]
    }
   ],
   "source": [
    "os = SMOTE(sampling_strategy=0.3, random_state=0) #establezco el ratio de 0.3\n",
    "X_train_os, y_train_os = os.fit_sample(X_train, y_train)\n",
    " \n",
    "print (\"Antes de SMOTE {}\".format(Counter(y_train)))\n",
    "print (\"Después de SMOTE {}\".format(Counter(y_train_os)))"
   ]
  },
  {
   "cell_type": "markdown",
   "metadata": {},
   "source": [
    "Veamos primero cómo se comporta cada modelo entrenado sin muestras artificiales y luego con ellas (SMOTE), y así comprobar si las predicciones son mejores en el caso de haber aplicado SMOTE."
   ]
  },
  {
   "cell_type": "code",
   "execution_count": 52,
   "metadata": {},
   "outputs": [],
   "source": [
    "from sklearn.model_selection import GridSearchCV\n",
    "from sklearn import metrics\n",
    "\n",
    "def cv(modelo, X_train, y_train):\n",
    "    cv = GridSearchCV(estimator=modelo, param_grid={}, cv=10, scoring='recall_macro', n_jobs=-1)\n",
    "    cv.fit(X_train, y_train)\n",
    "\n",
    "    y_pred = cv.predict(X_test)\n",
    "    \n",
    "    resultados = {'mejor recall_macro CV': cv.best_score_,\n",
    "                  'matriz confusion': metrics.confusion_matrix(y_test, y_pred),\n",
    "                  'recall_macro test': metrics.recall_score(y_test, y_pred, average='macro'),\n",
    "                  'accuracy test': metrics.accuracy_score(y_test, y_pred)}\n",
    "    \n",
    "    return resultados, y_pred"
   ]
  },
  {
   "cell_type": "markdown",
   "metadata": {},
   "source": [
    "- **REGRESIÓN LOGÍSTICA**"
   ]
  },
  {
   "cell_type": "code",
   "execution_count": 53,
   "metadata": {
    "scrolled": false
   },
   "outputs": [],
   "source": [
    "from sklearn.linear_model import LogisticRegression\n",
    "\n",
    "lr = LogisticRegression(class_weight='balanced', max_iter=10000) #solver='lbfgs' por defecto"
   ]
  },
  {
   "cell_type": "code",
   "execution_count": 76,
   "metadata": {
    "scrolled": false
   },
   "outputs": [
    {
     "data": {
      "text/plain": [
       "{'mejor recall_macro CV': 0.5531618731563422,\n",
       " 'matriz confusion': array([[  4,   6],\n",
       "        [231, 251]], dtype=int64),\n",
       " 'recall_macro test': 0.4603734439834025,\n",
       " 'accuracy test': 0.5182926829268293}"
      ]
     },
     "execution_count": 76,
     "metadata": {},
     "output_type": "execute_result"
    }
   ],
   "source": [
    "cv_lr = cv(lr, X_train, y_train)\n",
    "cv_lr[0]"
   ]
  },
  {
   "cell_type": "code",
   "execution_count": 77,
   "metadata": {},
   "outputs": [
    {
     "data": {
      "text/plain": [
       "{'mejor recall_macro CV': 0.5689933304375653,\n",
       " 'matriz confusion': array([[  5,   5],\n",
       "        [235, 247]], dtype=int64),\n",
       " 'recall_macro test': 0.5062240663900415,\n",
       " 'accuracy test': 0.5121951219512195}"
      ]
     },
     "execution_count": 77,
     "metadata": {},
     "output_type": "execute_result"
    }
   ],
   "source": [
    "cv_lr_os = cv(lr, X_train_os, y_train_os)\n",
    "cv_lr_os[0]"
   ]
  },
  {
   "cell_type": "markdown",
   "metadata": {},
   "source": [
    "Teniendo en cuenta que sólo hay 10 canciones 'no hit' en todo el conjunto test, el modelo que los detecta ligeramente mejor es el modelo con SMOTE implementado (5 de 10), aunque la precisión de la clase 'no hit' no es muy buena. Asimismo, el promedio de las `recall_macro` durante el cross-validation también es ligeramente mayor con SMOTE. Si bien es cierto que el `accuracy` en el test es menor, daremos más importancia en saber detectar las muestras minoritarias."
   ]
  },
  {
   "cell_type": "markdown",
   "metadata": {},
   "source": [
    "- **RANDOM FOREST**"
   ]
  },
  {
   "cell_type": "code",
   "execution_count": 56,
   "metadata": {},
   "outputs": [],
   "source": [
    "from sklearn.ensemble import RandomForestClassifier\n",
    "\n",
    "rfc = RandomForestClassifier(class_weight='balanced_subsample')"
   ]
  },
  {
   "cell_type": "code",
   "execution_count": 78,
   "metadata": {
    "scrolled": false
   },
   "outputs": [
    {
     "data": {
      "text/plain": [
       "{'mejor recall_macro CV': 0.49910714285714286,\n",
       " 'matriz confusion': array([[  0,  10],\n",
       "        [  0, 482]], dtype=int64),\n",
       " 'recall_macro test': 0.5,\n",
       " 'accuracy test': 0.9796747967479674}"
      ]
     },
     "execution_count": 78,
     "metadata": {},
     "output_type": "execute_result"
    }
   ],
   "source": [
    "cv_rfc = cv(rfc, X_train, y_train)\n",
    "cv_rfc[0]"
   ]
  },
  {
   "cell_type": "code",
   "execution_count": 79,
   "metadata": {
    "scrolled": true
   },
   "outputs": [
    {
     "data": {
      "text/plain": [
       "{'mejor recall_macro CV': 0.9735699961802903,\n",
       " 'matriz confusion': array([[  0,  10],\n",
       "        [  0, 482]], dtype=int64),\n",
       " 'recall_macro test': 0.5,\n",
       " 'accuracy test': 0.9796747967479674}"
      ]
     },
     "execution_count": 79,
     "metadata": {},
     "output_type": "execute_result"
    }
   ],
   "source": [
    "cv_rfc_os = cv(rfc, X_train_os, y_train_os)\n",
    "cv_rfc_os[0]"
   ]
  },
  {
   "cell_type": "markdown",
   "metadata": {},
   "source": [
    "Con random forest, ninguno de los dos modelos sabe predecir '0' a pesar de que presenten un accuracy tan alto y engañoso. Aunque en el caso de SMOTE el `recall_macro` alcanzado en train es muy alto, esto nos indica que el modelo tiende a hacer overfitting porque luego en el test no sabe predecir correctamente muestras nuevas."
   ]
  },
  {
   "cell_type": "markdown",
   "metadata": {},
   "source": [
    "- **KNN**"
   ]
  },
  {
   "cell_type": "code",
   "execution_count": 59,
   "metadata": {},
   "outputs": [],
   "source": [
    "from sklearn.neighbors import KNeighborsClassifier\n",
    "\n",
    "knn = KNeighborsClassifier()"
   ]
  },
  {
   "cell_type": "code",
   "execution_count": 80,
   "metadata": {},
   "outputs": [
    {
     "data": {
      "text/plain": [
       "{'mejor recall_macro CV': 0.5, 'matriz confusion': array([[  0,  10],\n",
       "        [  0, 482]], dtype=int64), 'recall_macro test': 0.5, 'accuracy test': 0.9796747967479674}"
      ]
     },
     "execution_count": 80,
     "metadata": {},
     "output_type": "execute_result"
    }
   ],
   "source": [
    "cv_knn = cv(knn, X_train, y_train)\n",
    "cv_knn[0]"
   ]
  },
  {
   "cell_type": "code",
   "execution_count": 81,
   "metadata": {
    "scrolled": false
   },
   "outputs": [
    {
     "data": {
      "text/plain": [
       "{'mejor recall_macro CV': 0.5834927202980951,\n",
       " 'matriz confusion': array([[  4,   6],\n",
       "        [ 37, 445]], dtype=int64),\n",
       " 'recall_macro test': 0.6616182572614109,\n",
       " 'accuracy test': 0.9126016260162602}"
      ]
     },
     "execution_count": 81,
     "metadata": {},
     "output_type": "execute_result"
    }
   ],
   "source": [
    "cv_knn_os = cv(knn, X_train_os, y_train_os)\n",
    "cv_knn_os[0]"
   ]
  },
  {
   "cell_type": "markdown",
   "metadata": {},
   "source": [
    "Con k-Vecinos, se puede ver claramente que el modelo mejora con SMOTE: consigue predecir 4 de 10 canciones 'no hit', mientras que en el modelo normal no predice ni una y es un modelo inútil que sólo predice 1's."
   ]
  },
  {
   "cell_type": "markdown",
   "metadata": {},
   "source": [
    "## 4.3. Robust Scaler"
   ]
  },
  {
   "cell_type": "markdown",
   "metadata": {},
   "source": [
    "Ahora que sabemos que con SMOTE se consiguen mejores predicciones, vamos a implementarlo directamente para el resto de modelados que se hagan. En esta sección, aplicaremos `RobustScaler()` para corregir la influencia de los outliers."
   ]
  },
  {
   "cell_type": "code",
   "execution_count": 62,
   "metadata": {},
   "outputs": [],
   "source": [
    "from sklearn.preprocessing import RobustScaler\n",
    "\n",
    "rb = RobustScaler()\n",
    "X_train_rb = rb.fit_transform(X_train_os)\n",
    "X_test_rb = rb.transform(X_test)"
   ]
  },
  {
   "cell_type": "markdown",
   "metadata": {},
   "source": [
    "- **REGRESIÓN LOGÍSTICA**"
   ]
  },
  {
   "cell_type": "code",
   "execution_count": 63,
   "metadata": {
    "scrolled": true
   },
   "outputs": [
    {
     "data": {
      "text/plain": [
       "0.8702583416713427"
      ]
     },
     "execution_count": 63,
     "metadata": {},
     "output_type": "execute_result"
    }
   ],
   "source": [
    "#lr = LogisticRegression(class_weight='balanced', max_iter=10000) #solver='lbfgs' por defecto\n",
    "\n",
    "cv_lr_rb = GridSearchCV(estimator=lr, param_grid={}, cv=10, scoring='recall_macro', n_jobs=-1)\n",
    "cv_lr_rb.fit(X_train_rb, y_train_os) \n",
    "\n",
    "rec_lr_rb = cv_lr_rb.best_score_\n",
    "rec_lr_rb "
   ]
  },
  {
   "cell_type": "code",
   "execution_count": 64,
   "metadata": {},
   "outputs": [
    {
     "data": {
      "text/plain": [
       "array([[  4,   6],\n",
       "       [ 90, 392]], dtype=int64)"
      ]
     },
     "execution_count": 64,
     "metadata": {},
     "output_type": "execute_result"
    }
   ],
   "source": [
    "y_pred_lr_rb = cv_lr_rb.predict(X_test_rb)\n",
    "\n",
    "conf_lr_rb = metrics.confusion_matrix(y_test, y_pred_lr_rb)\n",
    "conf_lr_rb"
   ]
  },
  {
   "cell_type": "code",
   "execution_count": 65,
   "metadata": {},
   "outputs": [
    {
     "name": "stdout",
     "output_type": "stream",
     "text": [
      "              precision    recall  f1-score   support\n",
      "\n",
      "           0       0.04      0.40      0.08        10\n",
      "           1       0.98      0.81      0.89       482\n",
      "\n",
      "    accuracy                           0.80       492\n",
      "   macro avg       0.51      0.61      0.48       492\n",
      "weighted avg       0.97      0.80      0.87       492\n",
      "\n"
     ]
    }
   ],
   "source": [
    "print(metrics.classification_report(y_test, y_pred_lr_rb))"
   ]
  },
  {
   "cell_type": "code",
   "execution_count": 66,
   "metadata": {},
   "outputs": [
    {
     "data": {
      "text/plain": [
       "(0.8048780487804879, 0.6066390041493777)"
      ]
     },
     "execution_count": 66,
     "metadata": {},
     "output_type": "execute_result"
    }
   ],
   "source": [
    "#Accuracy y recall_macro de las predicciones\n",
    "pred_lr_rb = metrics.accuracy_score(y_test, y_pred_lr_rb), metrics.recall_score(y_test, y_pred_lr_rb, average='macro')\n",
    "pred_lr_rb"
   ]
  },
  {
   "cell_type": "code",
   "execution_count": 67,
   "metadata": {
    "scrolled": true
   },
   "outputs": [
    {
     "data": {
      "text/plain": [
       "(array([2.40541445]),\n",
       " array([[-1.44554771e+00, -3.44991225e+00, -6.97820572e-01,\n",
       "          1.06663104e+00,  2.80252659e-01, -4.09725780e-01,\n",
       "          2.35346621e-01, -1.63020958e-04,  2.67116127e-01,\n",
       "          9.92687841e-01,  3.03421575e-01,  9.15757873e-02,\n",
       "          6.13848036e-01, -1.01381604e-02,  5.57623791e-02,\n",
       "          1.27853098e+00, -1.91421984e+00, -3.06999468e+00,\n",
       "          1.11024978e+00,  1.25055496e-01, -1.54234362e+00,\n",
       "          1.17839184e+00, -2.60041700e+00, -3.23226093e+00,\n",
       "          3.82570971e-02]]))"
      ]
     },
     "execution_count": 67,
     "metadata": {},
     "output_type": "execute_result"
    }
   ],
   "source": [
    "#Coeficientes del modelo\n",
    "cv_lr_rb.best_estimator_.intercept_, cv_lr_rb.best_estimator_.coef_"
   ]
  },
  {
   "cell_type": "markdown",
   "metadata": {},
   "source": [
    "Estudiemos la significatividad de los coeficientes utilizando otra librería `statsmodel`: https://www.statsmodels.org/stable/generated/statsmodels.discrete.discrete_model.Logit.fit.html"
   ]
  },
  {
   "cell_type": "code",
   "execution_count": 68,
   "metadata": {
    "scrolled": true
   },
   "outputs": [
    {
     "name": "stdout",
     "output_type": "stream",
     "text": [
      "Optimization terminated successfully.\n",
      "         Current function value: 0.460057\n",
      "         Iterations: 8597\n",
      "         Function evaluations: 10426\n",
      "                           Logit Regression Results                           \n",
      "==============================================================================\n",
      "Dep. Variable:                      y   No. Observations:                 1458\n",
      "Model:                          Logit   Df Residuals:                     1432\n",
      "Method:                           MLE   Df Model:                           25\n",
      "Date:                Sun, 05 Jul 2020   Pseudo R-squ.:                  0.1478\n",
      "Time:                        12:19:19   Log-Likelihood:                -670.76\n",
      "converged:                       True   LL-Null:                       -787.06\n",
      "Covariance Type:            nonrobust   LLR p-value:                 1.429e-35\n",
      "==============================================================================\n",
      "                 coef    std err          z      P>|z|      [0.025      0.975]\n",
      "------------------------------------------------------------------------------\n",
      "const          1.0981      0.199      5.513      0.000       0.708       1.488\n",
      "x1            -0.1851      0.131     -1.411      0.158      -0.442       0.072\n",
      "x2            -0.3173      0.185     -1.720      0.086      -0.679       0.044\n",
      "x3            -0.2166      0.123     -1.767      0.077      -0.457       0.024\n",
      "x4             0.0189      0.143      0.132      0.895      -0.261       0.298\n",
      "x5            -0.6012      0.170     -3.535      0.000      -0.935      -0.268\n",
      "x6            -0.4707      0.085     -5.541      0.000      -0.637      -0.304\n",
      "x7             0.6347      0.106      6.005      0.000       0.428       0.842\n",
      "x8            -0.0002   3.03e-05     -5.254      0.000      -0.000   -9.99e-05\n",
      "x9             0.0780      0.074      1.057      0.291      -0.067       0.223\n",
      "x10           -0.4241      0.120     -3.533      0.000      -0.659      -0.189\n",
      "x11            0.1427      0.107      1.335      0.182      -0.067       0.352\n",
      "x12           -0.0092      0.113     -0.081      0.935      -0.231       0.213\n",
      "x13            1.0892      0.425      2.561      0.010       0.256       1.923\n",
      "x14           -0.2516      0.082     -3.058      0.002      -0.413      -0.090\n",
      "x15            0.2620      0.144      1.814      0.070      -0.021       0.545\n",
      "x16           -0.0047      0.167     -0.028      0.978      -0.332       0.323\n",
      "x17           -1.7010      0.497     -3.421      0.001      -2.675      -0.727\n",
      "x18            0.0505      0.272      0.186      0.853      -0.483       0.584\n",
      "x19            0.5646      0.688      0.820      0.412      -0.785       1.914\n",
      "x20            1.9089      1.503      1.270      0.204      -1.036       4.854\n",
      "x21           -0.0310      0.271     -0.115      0.909      -0.561       0.499\n",
      "x22           -0.4171      0.408     -1.023      0.306      -1.216       0.382\n",
      "x23           -0.1414      0.358     -0.395      0.693      -0.843       0.560\n",
      "x24           -0.3624      0.257     -1.410      0.159      -0.866       0.141\n",
      "x25           -0.6941      0.287     -2.420      0.016      -1.256      -0.132\n",
      "==============================================================================\n"
     ]
    }
   ],
   "source": [
    "#Vamos a obtener los p-valores de los coeficientes\n",
    "\n",
    "import statsmodels.api as sm\n",
    "\n",
    "X_train_rb_lr = sm.add_constant(X_train_rb) #para añadir la constante al modelo\n",
    " \n",
    "model = sm.Logit(y_train_os, X_train_rb_lr)\n",
    "result = model.fit(method='nm', maxiter=100000) #'nm' for Nelder-Mead\n",
    "print(result.summary())"
   ]
  },
  {
   "cell_type": "markdown",
   "metadata": {},
   "source": [
    "Si se hubiera utilizado el solver por defecto `method='lbfgs'`, los coeficientes hubieran salido 0. Se ha cambiado por `method='nm'` para que no diera problemas de convergencia y para que además no saltara el error `LinAlgError: Singular matrix`.\n",
    "\n",
    "Nota: los coeficientes no coinciden con los de scikit-learn, a parte de porque no es el mismo solver, probablemente porque hemos añadido el parámetro `class_weight='balanced'` en el modelo de scikit-learn y con statsmodel no se tiene en cuenta."
   ]
  },
  {
   "cell_type": "code",
   "execution_count": 69,
   "metadata": {
    "scrolled": true
   },
   "outputs": [
    {
     "data": {
      "text/plain": [
       "{'speechiness': 3.0137013353836626e-08,\n",
       " 'Solo': 0.015530118898523921,\n",
       " 'instrumentalness': 1.4846857731236508e-07,\n",
       " 'mode': 0.00040815765054810283,\n",
       " 'valence': 0.0004104796983163923,\n",
       " 'Genres_electro/techno': 0.0006231794683849974,\n",
       " 'chorus_hit': 0.0022277070775079504,\n",
       " 'time_signature': 0.010446313196032285,\n",
       " 'sections': 0.06974241597574335,\n",
       " 'key': 0.07725329561145923,\n",
       " 'energy': 0.08550161030294591,\n",
       " 'danceability': 0.15812288656045959,\n",
       " 'Gender_M': 0.15860915348257865,\n",
       " 'tempo': 0.18193622062559767,\n",
       " 'Genres_other': 0.20391065768688965,\n",
       " 'liveness': 0.29059673862842206,\n",
       " 'Genres_r&b': 0.30618437417173816,\n",
       " 'Genres_latin': 0.41216873165040824,\n",
       " 'Genres_rock': 0.6927309696333834,\n",
       " 'Genres_hip hop': 0.8526372650348006,\n",
       " 'loudness': 0.8947835904639533,\n",
       " 'Genres_pop': 0.9087885730424918,\n",
       " 'duration_ms': 0.9352765593088321,\n",
       " 'featuring': 0.9776893062956398}"
      ]
     },
     "execution_count": 69,
     "metadata": {},
     "output_type": "execute_result"
    }
   ],
   "source": [
    "idx_pvalues = np.argsort(result.pvalues)[1:]-1 #no tenemos en cuenta el coeficiente de la constante\n",
    "pvalues = result.pvalues[1:][idx_pvalues]\n",
    "\n",
    "dicc_pvalues = dict(zip(var_names[idx_pvalues],pvalues))\n",
    "dicc_pvalues"
   ]
  },
  {
   "cell_type": "code",
   "execution_count": 70,
   "metadata": {
    "scrolled": true
   },
   "outputs": [
    {
     "name": "stdout",
     "output_type": "stream",
     "text": [
      "('speechiness', 3.0137013353836626e-08)\n",
      "('Solo', 0.015530118898523921)\n",
      "('instrumentalness', 1.4846857731236508e-07)\n",
      "('mode', 0.00040815765054810283)\n",
      "('valence', 0.0004104796983163923)\n",
      "('Genres_electro/techno', 0.0006231794683849974)\n",
      "('chorus_hit', 0.0022277070775079504)\n",
      "('time_signature', 0.010446313196032285)\n",
      "('sections', 0.06974241597574335)\n",
      "('key', 0.07725329561145923)\n",
      "('energy', 0.08550161030294591)\n"
     ]
    }
   ],
   "source": [
    "for i in dicc_pvalues:\n",
    "    if dicc_pvalues[i] < 0.1:\n",
    "        print((i,dicc_pvalues[i]))"
   ]
  },
  {
   "cell_type": "markdown",
   "metadata": {},
   "source": [
    "Resultado pobre, solo 11 variables del total de 25 son estadísticamente significativas: rechazan la hipótesis nula ($H_0: \\beta_i=0, H_1: \\beta_i\\neq 0$), al menos a un 10% de significancia"
   ]
  },
  {
   "cell_type": "markdown",
   "metadata": {},
   "source": [
    "- **RANDOM FOREST**"
   ]
  },
  {
   "cell_type": "markdown",
   "metadata": {},
   "source": [
    "Con random forest de hecho no haría falta calcular el efecto de `RobustScaler()` porque se mantiene invariante ante re-escalados (los árboles de decisión no tienen en cuenta 'distancias', sino que maneja conceptos como el coeficiente de Gini o la ganancia de información). Veamos que sale lo mismo que en el apartado anterior."
   ]
  },
  {
   "cell_type": "code",
   "execution_count": 71,
   "metadata": {},
   "outputs": [
    {
     "data": {
      "text/plain": [
       "0.9735699961802903"
      ]
     },
     "execution_count": 71,
     "metadata": {},
     "output_type": "execute_result"
    }
   ],
   "source": [
    "rfc = RandomForestClassifier(class_weight='balanced_subsample')\n",
    "\n",
    "cv_rfc_rb = GridSearchCV(estimator=rfc, param_grid={}, cv=10, scoring='recall_macro', n_jobs=-1)\n",
    "cv_rfc_rb.fit(X_train_rb, y_train_os)\n",
    "\n",
    "rec_rfc_rb = cv_rfc_rb.best_score_\n",
    "rec_rfc_rb"
   ]
  },
  {
   "cell_type": "code",
   "execution_count": 72,
   "metadata": {
    "scrolled": true
   },
   "outputs": [
    {
     "data": {
      "text/plain": [
       "array([[  0,  10],\n",
       "       [  0, 482]], dtype=int64)"
      ]
     },
     "execution_count": 72,
     "metadata": {},
     "output_type": "execute_result"
    }
   ],
   "source": [
    "y_pred_rfc_rb = cv_rfc_rb.predict(X_test_rb)\n",
    "\n",
    "conf_rfc_rb = metrics.confusion_matrix(y_test, y_pred_rfc_rb)\n",
    "conf_rfc_rb"
   ]
  },
  {
   "cell_type": "code",
   "execution_count": 73,
   "metadata": {},
   "outputs": [
    {
     "data": {
      "text/plain": [
       "(0.9796747967479674, 0.5)"
      ]
     },
     "execution_count": 73,
     "metadata": {},
     "output_type": "execute_result"
    }
   ],
   "source": [
    "#Accuracy y recall_macro de las predicciones\n",
    "pred_rfc_rb = metrics.accuracy_score(y_test, y_pred_rfc_rb), metrics.recall_score(y_test, y_pred_rfc_rb, average='macro')\n",
    "pred_rfc_rb"
   ]
  },
  {
   "cell_type": "markdown",
   "metadata": {},
   "source": [
    "Presencia de overfitting en el modelo, el modelo predicho sólo sabe predecir 1's."
   ]
  },
  {
   "cell_type": "code",
   "execution_count": 82,
   "metadata": {},
   "outputs": [
    {
     "data": {
      "text/plain": [
       "{'mejor recall_macro CV': 0.9735699961802903,\n",
       " 'matriz confusion': array([[  0,  10],\n",
       "        [  0, 482]], dtype=int64),\n",
       " 'recall_macro test': 0.5,\n",
       " 'accuracy test': 0.9796747967479674}"
      ]
     },
     "execution_count": 82,
     "metadata": {},
     "output_type": "execute_result"
    }
   ],
   "source": [
    "#Resultados anteriores\n",
    "cv_rfc_os[0]"
   ]
  },
  {
   "cell_type": "markdown",
   "metadata": {},
   "source": [
    "- **KNN**"
   ]
  },
  {
   "cell_type": "code",
   "execution_count": 83,
   "metadata": {},
   "outputs": [
    {
     "data": {
      "text/plain": [
       "0.8952962782055701"
      ]
     },
     "execution_count": 83,
     "metadata": {},
     "output_type": "execute_result"
    }
   ],
   "source": [
    "knn = KNeighborsClassifier()\n",
    "\n",
    "cv_knn_rb = GridSearchCV(estimator=knn, param_grid={}, cv=10, scoring='recall_macro', n_jobs=-1)\n",
    "cv_knn_rb.fit(X_train_rb, y_train_os)\n",
    "\n",
    "rec_knn_rb = cv_knn_rb.best_score_\n",
    "rec_knn_rb"
   ]
  },
  {
   "cell_type": "code",
   "execution_count": 84,
   "metadata": {},
   "outputs": [
    {
     "data": {
      "text/plain": [
       "array([[  2,   8],\n",
       "       [ 71, 411]], dtype=int64)"
      ]
     },
     "execution_count": 84,
     "metadata": {},
     "output_type": "execute_result"
    }
   ],
   "source": [
    "y_pred_knn_rb = cv_knn_rb.predict(X_test_rb)\n",
    "\n",
    "conf_knn_rb = metrics.confusion_matrix(y_test, y_pred_knn_rb)\n",
    "conf_knn_rb"
   ]
  },
  {
   "cell_type": "code",
   "execution_count": 86,
   "metadata": {},
   "outputs": [
    {
     "name": "stdout",
     "output_type": "stream",
     "text": [
      "              precision    recall  f1-score   support\n",
      "\n",
      "           0       0.03      0.20      0.05        10\n",
      "           1       0.98      0.85      0.91       482\n",
      "\n",
      "    accuracy                           0.84       492\n",
      "   macro avg       0.50      0.53      0.48       492\n",
      "weighted avg       0.96      0.84      0.89       492\n",
      "\n"
     ]
    }
   ],
   "source": [
    "print(metrics.classification_report(y_test, y_pred_knn_rb))"
   ]
  },
  {
   "cell_type": "code",
   "execution_count": 87,
   "metadata": {},
   "outputs": [
    {
     "data": {
      "text/plain": [
       "(0.8394308943089431, 0.5263485477178423)"
      ]
     },
     "execution_count": 87,
     "metadata": {},
     "output_type": "execute_result"
    }
   ],
   "source": [
    "#Accuracy y recall_macro de las predicciones\n",
    "pred_knn_rb = metrics.accuracy_score(y_test, y_pred_knn_rb), metrics.recall_score(y_test, y_pred_knn_rb, average='macro')\n",
    "pred_knn_rb"
   ]
  },
  {
   "cell_type": "markdown",
   "metadata": {},
   "source": [
    "## 4.4. RobustScaler y reducción dimensionalidad (PCA)"
   ]
  },
  {
   "cell_type": "code",
   "execution_count": 88,
   "metadata": {},
   "outputs": [],
   "source": [
    "from sklearn.pipeline import Pipeline\n",
    "from sklearn.decomposition import PCA"
   ]
  },
  {
   "cell_type": "markdown",
   "metadata": {},
   "source": [
    "Al haber tantas variables explicativas, lo más seguro es que haya correlación entre ellas. Aplicaremos PCA para reducir dimesiones, estableciendo 1 como mínimo número de componentes y 13 como número máximo (la mitad del número de variables independientes)."
   ]
  },
  {
   "cell_type": "markdown",
   "metadata": {},
   "source": [
    "- **REGRESIÓN LOGÍSTICA**"
   ]
  },
  {
   "cell_type": "code",
   "execution_count": 89,
   "metadata": {
    "scrolled": true
   },
   "outputs": [
    {
     "data": {
      "text/plain": [
       "GridSearchCV(cv=10,\n",
       "             estimator=Pipeline(steps=[('rb', RobustScaler()), ('pca', PCA()),\n",
       "                                       ('lr',\n",
       "                                        LogisticRegression(class_weight='balanced',\n",
       "                                                           max_iter=10000,\n",
       "                                                           n_jobs=-1))]),\n",
       "             n_jobs=-1,\n",
       "             param_grid={'pca__n_components': [1, 2, 3, 4, 5, 6, 7, 8, 9, 10,\n",
       "                                               11, 12, 13]},\n",
       "             scoring='recall_macro')"
      ]
     },
     "execution_count": 89,
     "metadata": {},
     "output_type": "execute_result"
    }
   ],
   "source": [
    "pipe = Pipeline([\n",
    "    ('rb', RobustScaler()), #re-escalar\n",
    "    ('pca', PCA()), #dimensionalizar\n",
    "    ('lr', LogisticRegression(class_weight='balanced', max_iter=10000, n_jobs=-1)), #clasificar y predecir\n",
    "])\n",
    "\n",
    "prof = list(range(1, 14))\n",
    "\n",
    "cv_pipe_lr = GridSearchCV(pipe, h_parameters, cv=10, n_jobs=-1, scoring='recall_macro') #le pasamos la tubería\n",
    "\n",
    "cv_pipe_lr.fit(X_train_os, y_train_os)"
   ]
  },
  {
   "cell_type": "code",
   "execution_count": 90,
   "metadata": {},
   "outputs": [
    {
     "data": {
      "text/plain": [
       "{'pca__n_components': 13}"
      ]
     },
     "execution_count": 90,
     "metadata": {},
     "output_type": "execute_result"
    }
   ],
   "source": [
    "cv_pipe_lr.best_params_"
   ]
  },
  {
   "cell_type": "code",
   "execution_count": 91,
   "metadata": {},
   "outputs": [
    {
     "data": {
      "image/png": "[encoded data removed]",
      "text/plain": [
       "<Figure size 432x288 with 1 Axes>"
      ]
     },
     "metadata": {},
     "output_type": "display_data"
    }
   ],
   "source": [
    "x = range(1,14)\n",
    "y = cv_pipe_lr.cv_results_['mean_test_score']\n",
    "\n",
    "plt.plot(x, y,'o-r')\n",
    "plt.grid(True)\n",
    "plt.xlabel('Número componentes PCA');\n",
    "plt.ylabel('recall_macro');"
   ]
  },
  {
   "cell_type": "markdown",
   "metadata": {},
   "source": [
    "El `recall_macro` presenta una tendencia positiva a medida que aumenta el número de componentes, pero el máximo se obtiene con 13 componentes, con el siguiente valor:"
   ]
  },
  {
   "cell_type": "code",
   "execution_count": 92,
   "metadata": {
    "scrolled": true
   },
   "outputs": [
    {
     "data": {
      "text/plain": [
       "0.7581813266336301"
      ]
     },
     "execution_count": 92,
     "metadata": {},
     "output_type": "execute_result"
    }
   ],
   "source": [
    "rec_pipe_lr = cv_pipe_lr.best_score_\n",
    "rec_pipe_lr"
   ]
  },
  {
   "cell_type": "code",
   "execution_count": 93,
   "metadata": {},
   "outputs": [
    {
     "data": {
      "text/plain": [
       "array([[  5,   5],\n",
       "       [131, 351]], dtype=int64)"
      ]
     },
     "execution_count": 93,
     "metadata": {},
     "output_type": "execute_result"
    }
   ],
   "source": [
    "conf_pipe_lr = metrics.confusion_matrix(y_test, cv_pipe_lr.predict(X_test))\n",
    "conf_pipe_lr"
   ]
  },
  {
   "cell_type": "code",
   "execution_count": 94,
   "metadata": {},
   "outputs": [
    {
     "data": {
      "text/plain": [
       "(0.7235772357723578, 0.6141078838174274)"
      ]
     },
     "execution_count": 94,
     "metadata": {},
     "output_type": "execute_result"
    }
   ],
   "source": [
    "#Accuracy y recall_macro de las predicciones\n",
    "pred_pipe_lr = metrics.accuracy_score(y_test, cv_pipe_lr.predict(X_test)), metrics.recall_score(y_test, cv_pipe_lr.predict(X_test), average='macro')\n",
    "pred_pipe_lr"
   ]
  },
  {
   "cell_type": "markdown",
   "metadata": {},
   "source": [
    "- **RANDOM FOREST**"
   ]
  },
  {
   "cell_type": "code",
   "execution_count": 95,
   "metadata": {
    "scrolled": true
   },
   "outputs": [
    {
     "data": {
      "text/plain": [
       "GridSearchCV(cv=5,\n",
       "             estimator=Pipeline(steps=[('pca', PCA()),\n",
       "                                       ('rfc',\n",
       "                                        RandomForestClassifier(class_weight='balanced_subsample'))]),\n",
       "             n_jobs=-1,\n",
       "             param_grid={'pca__n_components': [1, 2, 3, 4, 5, 6, 7, 8, 9, 10,\n",
       "                                               11, 12, 13],\n",
       "                         'rfc__n_estimators': [100, 300, 500]},\n",
       "             scoring='recall_macro')"
      ]
     },
     "execution_count": 95,
     "metadata": {},
     "output_type": "execute_result"
    }
   ],
   "source": [
    "pipe2 = Pipeline([\n",
    "    #('rb', RobustScaler()), #no se ve afectado\n",
    "    ('pca', PCA()), #dimensionalizar\n",
    "    ('rfc', RandomForestClassifier(class_weight='balanced_subsample')), #clasificar y predecir\n",
    "])\n",
    "\n",
    "comps = list(range(1,14))\n",
    "arboles = [100,300,500]\n",
    "h_parameters = {'pca__n_components':comps, 'rfc__n_estimators':arboles}\n",
    "\n",
    "cv_pipe_rfc = GridSearchCV(pipe2, h_parameters, cv=5, n_jobs=-1, scoring='recall_macro') \n",
    "#disminuímos el número de particiones para que nos sea tan pesado\n",
    "\n",
    "cv_pipe_rfc.fit(X_train_os, y_train_os)"
   ]
  },
  {
   "cell_type": "code",
   "execution_count": 96,
   "metadata": {
    "scrolled": true
   },
   "outputs": [
    {
     "data": {
      "text/plain": [
       "{'pca__n_components': 11, 'rfc__n_estimators': 300}"
      ]
     },
     "execution_count": 96,
     "metadata": {},
     "output_type": "execute_result"
    }
   ],
   "source": [
    "cv_pipe_rfc.best_params_"
   ]
  },
  {
   "cell_type": "code",
   "execution_count": 97,
   "metadata": {
    "scrolled": true
   },
   "outputs": [
    {
     "data": {
      "text/plain": [
       "[{'pca__n_components': 1, 'rfc__n_estimators': 100},\n",
       " {'pca__n_components': 1, 'rfc__n_estimators': 300},\n",
       " {'pca__n_components': 1, 'rfc__n_estimators': 500},\n",
       " {'pca__n_components': 2, 'rfc__n_estimators': 100},\n",
       " {'pca__n_components': 2, 'rfc__n_estimators': 300},\n",
       " {'pca__n_components': 2, 'rfc__n_estimators': 500},\n",
       " {'pca__n_components': 3, 'rfc__n_estimators': 100},\n",
       " {'pca__n_components': 3, 'rfc__n_estimators': 300},\n",
       " {'pca__n_components': 3, 'rfc__n_estimators': 500},\n",
       " {'pca__n_components': 4, 'rfc__n_estimators': 100},\n",
       " {'pca__n_components': 4, 'rfc__n_estimators': 300},\n",
       " {'pca__n_components': 4, 'rfc__n_estimators': 500},\n",
       " {'pca__n_components': 5, 'rfc__n_estimators': 100},\n",
       " {'pca__n_components': 5, 'rfc__n_estimators': 300},\n",
       " {'pca__n_components': 5, 'rfc__n_estimators': 500},\n",
       " {'pca__n_components': 6, 'rfc__n_estimators': 100},\n",
       " {'pca__n_components': 6, 'rfc__n_estimators': 300},\n",
       " {'pca__n_components': 6, 'rfc__n_estimators': 500},\n",
       " {'pca__n_components': 7, 'rfc__n_estimators': 100},\n",
       " {'pca__n_components': 7, 'rfc__n_estimators': 300},\n",
       " {'pca__n_components': 7, 'rfc__n_estimators': 500},\n",
       " {'pca__n_components': 8, 'rfc__n_estimators': 100},\n",
       " {'pca__n_components': 8, 'rfc__n_estimators': 300},\n",
       " {'pca__n_components': 8, 'rfc__n_estimators': 500},\n",
       " {'pca__n_components': 9, 'rfc__n_estimators': 100},\n",
       " {'pca__n_components': 9, 'rfc__n_estimators': 300},\n",
       " {'pca__n_components': 9, 'rfc__n_estimators': 500},\n",
       " {'pca__n_components': 10, 'rfc__n_estimators': 100},\n",
       " {'pca__n_components': 10, 'rfc__n_estimators': 300},\n",
       " {'pca__n_components': 10, 'rfc__n_estimators': 500},\n",
       " {'pca__n_components': 11, 'rfc__n_estimators': 100},\n",
       " {'pca__n_components': 11, 'rfc__n_estimators': 300},\n",
       " {'pca__n_components': 11, 'rfc__n_estimators': 500},\n",
       " {'pca__n_components': 12, 'rfc__n_estimators': 100},\n",
       " {'pca__n_components': 12, 'rfc__n_estimators': 300},\n",
       " {'pca__n_components': 12, 'rfc__n_estimators': 500},\n",
       " {'pca__n_components': 13, 'rfc__n_estimators': 100},\n",
       " {'pca__n_components': 13, 'rfc__n_estimators': 300},\n",
       " {'pca__n_components': 13, 'rfc__n_estimators': 500}]"
      ]
     },
     "execution_count": 97,
     "metadata": {},
     "output_type": "execute_result"
    }
   ],
   "source": [
    "cv_pipe_rfc.cv_results_['params']"
   ]
  },
  {
   "cell_type": "markdown",
   "metadata": {},
   "source": [
    "Hay 39 combinaciones posibles de parámetros (13*3). Para cada una de ellas, se hace cross-validation de 3 particiones y se calcula la media de los `recall_macro` obtenidos dentro de esa combinación. El valor más alto de esos 39 será el modelo con mejores parámetros, que es el modelo con el que se hace .predict() después"
   ]
  },
  {
   "cell_type": "code",
   "execution_count": 98,
   "metadata": {
    "scrolled": true
   },
   "outputs": [],
   "source": [
    "mean_cv_rfc = cv_pipe_rfc.cv_results_['mean_test_score']\n",
    "\n",
    "rec_100=[]\n",
    "rec_300=[]\n",
    "rec_500=[]\n",
    "divisor=list(range(13))\n",
    "\n",
    "for i in divisor:\n",
    "    rec_100.append(mean_cv_rfc[3*i])\n",
    "    rec_300.append(mean_cv_rfc[(3*i)+1])\n",
    "    rec_500.append(mean_cv_rfc[(3*i)+2])"
   ]
  },
  {
   "cell_type": "code",
   "execution_count": 99,
   "metadata": {},
   "outputs": [
    {
     "data": {
      "image/png": "[encoded data removed]",
      "text/plain": [
       "<Figure size 1080x360 with 1 Axes>"
      ]
     },
     "metadata": {},
     "output_type": "display_data"
    }
   ],
   "source": [
    "x = range(1,14)\n",
    "plt.figure(figsize=(15,5))\n",
    "plt.plot(x, rec_100, 'o-g', label='100 árboles')\n",
    "plt.plot(x, rec_300, 'o-b', label='300 árboles')\n",
    "plt.plot(x, rec_500, 'o-r', label='500 árboles')\n",
    "plt.xlabel('Número componentes PCA')\n",
    "plt.ylabel('recall_macro')\n",
    "plt.legend();"
   ]
  },
  {
   "cell_type": "markdown",
   "metadata": {},
   "source": [
    "Se observa que a mayor número de componentes, mayores valores de `recall_macro` se obtienen (sea cual sea el número de árboles establecido)"
   ]
  },
  {
   "cell_type": "code",
   "execution_count": 100,
   "metadata": {
    "scrolled": true
   },
   "outputs": [
    {
     "data": {
      "text/plain": [
       "0.9569807126830832"
      ]
     },
     "execution_count": 100,
     "metadata": {},
     "output_type": "execute_result"
    }
   ],
   "source": [
    "rec_pipe_rfc = cv_pipe_rfc.best_score_\n",
    "rec_pipe_rfc"
   ]
  },
  {
   "cell_type": "code",
   "execution_count": 101,
   "metadata": {
    "scrolled": true
   },
   "outputs": [
    {
     "data": {
      "text/plain": [
       "array([[  0,  10],\n",
       "       [  1, 481]], dtype=int64)"
      ]
     },
     "execution_count": 101,
     "metadata": {},
     "output_type": "execute_result"
    }
   ],
   "source": [
    "conf_pipe_rfc = metrics.confusion_matrix(y_test, cv_pipe_rfc.predict(X_test))\n",
    "conf_pipe_rfc"
   ]
  },
  {
   "cell_type": "code",
   "execution_count": 102,
   "metadata": {},
   "outputs": [
    {
     "data": {
      "text/plain": [
       "(0.9776422764227642, 0.49896265560165975)"
      ]
     },
     "execution_count": 102,
     "metadata": {},
     "output_type": "execute_result"
    }
   ],
   "source": [
    "#Accuracy y recall_macro de las predicciones\n",
    "pred_pipe_rfc = metrics.accuracy_score(y_test, cv_pipe_rfc.predict(X_test)), metrics.recall_score(y_test, cv_pipe_rfc.predict(X_test), average='macro')\n",
    "pred_pipe_rfc"
   ]
  },
  {
   "cell_type": "markdown",
   "metadata": {},
   "source": [
    "A pesar de alcanzar altos `recall_macro` durante el entrenamiento, luego en la predicción el valor es malo. Esto indica de nuevo overfitting del modelo."
   ]
  },
  {
   "cell_type": "markdown",
   "metadata": {},
   "source": [
    "- **KNN**"
   ]
  },
  {
   "cell_type": "code",
   "execution_count": 103,
   "metadata": {
    "scrolled": true
   },
   "outputs": [
    {
     "data": {
      "text/plain": [
       "GridSearchCV(cv=10,\n",
       "             estimator=Pipeline(steps=[('rb', RobustScaler()), ('pca', PCA()),\n",
       "                                       ('knn', KNeighborsClassifier())]),\n",
       "             n_jobs=-1,\n",
       "             param_grid={'knn__n_neighbors': [1, 3, 5, 7, 9],\n",
       "                         'knn__p': [1, 1.5, 2],\n",
       "                         'pca__n_components': [1, 2, 3, 4, 5, 6, 7, 8, 9, 10,\n",
       "                                               11, 12, 13]},\n",
       "             scoring='recall_macro')"
      ]
     },
     "execution_count": 103,
     "metadata": {},
     "output_type": "execute_result"
    }
   ],
   "source": [
    "pipe3 = Pipeline([\n",
    "    ('rb', RobustScaler()),\n",
    "    ('pca', PCA()), #dimensionalizar\n",
    "    ('knn', KNeighborsClassifier()), #clasificar y predecir\n",
    "])\n",
    "\n",
    "comps = list(range(1, 14))\n",
    "vecinos = [1, 3, 5, 7, 9] #tomamos vecinos impares para que haya desempate\n",
    "distancia = [1, 1.5, 2]\n",
    "h_parameters = {'pca__n_components':comps, 'knn__n_neighbors':vecinos, 'knn__p':distancia}\n",
    "\n",
    "cv_pipe_knn = GridSearchCV(pipe3, h_parameters, cv=10, n_jobs=-1, scoring='recall_macro') #le pasamos la tubería\n",
    "\n",
    "cv_pipe_knn.fit(X_train_os, y_train_os)"
   ]
  },
  {
   "cell_type": "code",
   "execution_count": 104,
   "metadata": {},
   "outputs": [
    {
     "data": {
      "text/plain": [
       "{'knn__n_neighbors': 3, 'knn__p': 1, 'pca__n_components': 12}"
      ]
     },
     "execution_count": 104,
     "metadata": {},
     "output_type": "execute_result"
    }
   ],
   "source": [
    "cv_pipe_knn.best_params_"
   ]
  },
  {
   "cell_type": "code",
   "execution_count": 105,
   "metadata": {},
   "outputs": [
    {
     "data": {
      "text/plain": [
       "0.9169136731522858"
      ]
     },
     "execution_count": 105,
     "metadata": {},
     "output_type": "execute_result"
    }
   ],
   "source": [
    "rec_pipe_knn = cv_pipe_knn.best_score_\n",
    "rec_pipe_knn"
   ]
  },
  {
   "cell_type": "code",
   "execution_count": 106,
   "metadata": {},
   "outputs": [
    {
     "data": {
      "text/plain": [
       "array([[  1,   9],\n",
       "       [ 50, 432]], dtype=int64)"
      ]
     },
     "execution_count": 106,
     "metadata": {},
     "output_type": "execute_result"
    }
   ],
   "source": [
    "conf_pipe_knn = metrics.confusion_matrix(y_test, cv_pipe_knn.predict(X_test))\n",
    "conf_pipe_knn"
   ]
  },
  {
   "cell_type": "code",
   "execution_count": 107,
   "metadata": {},
   "outputs": [
    {
     "data": {
      "text/plain": [
       "(0.8800813008130082, 0.49813278008298756)"
      ]
     },
     "execution_count": 107,
     "metadata": {},
     "output_type": "execute_result"
    }
   ],
   "source": [
    "#Accuracy y recall_macro predicciones\n",
    "pred_pipe_knn = metrics.accuracy_score(y_test, cv_pipe_knn.predict(X_test)), metrics.recall_score(y_test, cv_pipe_knn.predict(X_test), average='macro')\n",
    "pred_pipe_knn"
   ]
  },
  {
   "cell_type": "markdown",
   "metadata": {},
   "source": [
    "## 4.5. Selección del mejor modelo"
   ]
  },
  {
   "cell_type": "markdown",
   "metadata": {},
   "source": [
    "**RESUMEN del mejor `recall_macro` durante el SearchGridCV**"
   ]
  },
  {
   "cell_type": "code",
   "execution_count": 108,
   "metadata": {},
   "outputs": [],
   "source": [
    "pd.set_option('precision', 3) #saca 3 decimales\n",
    "pd.set_option('max_colwidth', 100) #para ampliar el número de caracteres dentro de una celda del dataframe"
   ]
  },
  {
   "cell_type": "code",
   "execution_count": 109,
   "metadata": {
    "scrolled": true
   },
   "outputs": [
    {
     "data": {
      "text/html": [
       "<div>\n",
       "<style scoped>\n",
       "    .dataframe tbody tr th:only-of-type {\n",
       "        vertical-align: middle;\n",
       "    }\n",
       "\n",
       "    .dataframe tbody tr th {\n",
       "        vertical-align: top;\n",
       "    }\n",
       "\n",
       "    .dataframe thead th {\n",
       "        text-align: right;\n",
       "    }\n",
       "</style>\n",
       "<table border=\"1\" class=\"dataframe\">\n",
       "  <thead>\n",
       "    <tr style=\"text-align: right;\">\n",
       "      <th></th>\n",
       "      <th>Log Regression</th>\n",
       "      <th>Random Forest</th>\n",
       "      <th>k-Vecinos</th>\n",
       "    </tr>\n",
       "  </thead>\n",
       "  <tbody>\n",
       "    <tr>\n",
       "      <td>parametro balanced</td>\n",
       "      <td>0.569</td>\n",
       "      <td>0.974</td>\n",
       "      <td>0.583</td>\n",
       "    </tr>\n",
       "    <tr>\n",
       "      <td>+ robust scaler</td>\n",
       "      <td>0.87</td>\n",
       "      <td>0.974</td>\n",
       "      <td>0.895</td>\n",
       "    </tr>\n",
       "    <tr>\n",
       "      <td>+ PCA</td>\n",
       "      <td>0.758</td>\n",
       "      <td>0.957</td>\n",
       "      <td>0.917</td>\n",
       "    </tr>\n",
       "    <tr>\n",
       "      <td>best params</td>\n",
       "      <td>{'pca__n_components': 13}</td>\n",
       "      <td>{'pca__n_components': 11, 'rfc__n_estimators': 300}</td>\n",
       "      <td>{'knn__n_neighbors': 3, 'knn__p': 1, 'pca__n_components': 12}</td>\n",
       "    </tr>\n",
       "  </tbody>\n",
       "</table>\n",
       "</div>"
      ],
      "text/plain": [
       "                               Log Regression  \\\n",
       "parametro balanced                      0.569   \n",
       "+ robust scaler                          0.87   \n",
       "+ PCA                                   0.758   \n",
       "best params         {'pca__n_components': 13}   \n",
       "\n",
       "                                                          Random Forest  \\\n",
       "parametro balanced                                                0.974   \n",
       "+ robust scaler                                                   0.974   \n",
       "+ PCA                                                             0.957   \n",
       "best params         {'pca__n_components': 11, 'rfc__n_estimators': 300}   \n",
       "\n",
       "                                                                        k-Vecinos  \n",
       "parametro balanced                                                          0.583  \n",
       "+ robust scaler                                                             0.895  \n",
       "+ PCA                                                                       0.917  \n",
       "best params         {'knn__n_neighbors': 3, 'knn__p': 1, 'pca__n_components': 12}  "
      ]
     },
     "execution_count": 109,
     "metadata": {},
     "output_type": "execute_result"
    }
   ],
   "source": [
    "pd.DataFrame(np.array([[cv_lr_os[0]['mejor recall_macro CV'], cv_rfc_os[0]['mejor recall_macro CV'], cv_knn_os[0]['mejor recall_macro CV']], \n",
    "                       [rec_lr_rb, rec_rfc_rb, rec_knn_rb],\n",
    "                       [rec_pipe_lr, rec_pipe_rfc, rec_pipe_knn],\n",
    "                       [cv_pipe_lr.best_params_, cv_pipe_rfc.best_params_, cv_pipe_knn.best_params_]]), \n",
    "             columns=['Log Regression', 'Random Forest', 'k-Vecinos'],\n",
    "             index=['parametro balanced','+ robust scaler','+ PCA','best params']\n",
    "            )"
   ]
  },
  {
   "cell_type": "markdown",
   "metadata": {},
   "source": [
    "**RESUMEN de `recall_macro` de las predicciones**"
   ]
  },
  {
   "cell_type": "code",
   "execution_count": 110,
   "metadata": {
    "scrolled": true
   },
   "outputs": [
    {
     "data": {
      "text/html": [
       "<div>\n",
       "<style scoped>\n",
       "    .dataframe tbody tr th:only-of-type {\n",
       "        vertical-align: middle;\n",
       "    }\n",
       "\n",
       "    .dataframe tbody tr th {\n",
       "        vertical-align: top;\n",
       "    }\n",
       "\n",
       "    .dataframe thead th {\n",
       "        text-align: right;\n",
       "    }\n",
       "</style>\n",
       "<table border=\"1\" class=\"dataframe\">\n",
       "  <thead>\n",
       "    <tr style=\"text-align: right;\">\n",
       "      <th></th>\n",
       "      <th>Regresion Log</th>\n",
       "      <th>Random Forest</th>\n",
       "      <th>k-Vecinos</th>\n",
       "    </tr>\n",
       "  </thead>\n",
       "  <tbody>\n",
       "    <tr>\n",
       "      <td>parametro balanced</td>\n",
       "      <td>0.506</td>\n",
       "      <td>0.500</td>\n",
       "      <td>0.662</td>\n",
       "    </tr>\n",
       "    <tr>\n",
       "      <td>+ robust scaler</td>\n",
       "      <td>0.607</td>\n",
       "      <td>0.500</td>\n",
       "      <td>0.526</td>\n",
       "    </tr>\n",
       "    <tr>\n",
       "      <td>+ PCA</td>\n",
       "      <td>0.614</td>\n",
       "      <td>0.499</td>\n",
       "      <td>0.498</td>\n",
       "    </tr>\n",
       "  </tbody>\n",
       "</table>\n",
       "</div>"
      ],
      "text/plain": [
       "                    Regresion Log  Random Forest  k-Vecinos\n",
       "parametro balanced          0.506          0.500      0.662\n",
       "+ robust scaler             0.607          0.500      0.526\n",
       "+ PCA                       0.614          0.499      0.498"
      ]
     },
     "execution_count": 110,
     "metadata": {},
     "output_type": "execute_result"
    }
   ],
   "source": [
    "pd.DataFrame(np.array([[cv_lr_os[0]['recall_macro test'], cv_rfc_os[0]['recall_macro test'], cv_knn_os[0]['recall_macro test']], \n",
    "                       [pred_lr_rb[1], pred_rfc_rb[1], pred_knn_rb[1]],\n",
    "                       [pred_pipe_lr[1], pred_pipe_rfc[1], pred_pipe_knn[1]]]), \n",
    "             columns=['Regresion Log', 'Random Forest', 'k-Vecinos'],\n",
    "             index=['parametro balanced','+ robust scaler','+ PCA']\n",
    "            )"
   ]
  },
  {
   "cell_type": "markdown",
   "metadata": {},
   "source": [
    "**RESUMEN de `accuracy` de las predicciones**"
   ]
  },
  {
   "cell_type": "code",
   "execution_count": 112,
   "metadata": {
    "scrolled": true
   },
   "outputs": [
    {
     "data": {
      "text/html": [
       "<div>\n",
       "<style scoped>\n",
       "    .dataframe tbody tr th:only-of-type {\n",
       "        vertical-align: middle;\n",
       "    }\n",
       "\n",
       "    .dataframe tbody tr th {\n",
       "        vertical-align: top;\n",
       "    }\n",
       "\n",
       "    .dataframe thead th {\n",
       "        text-align: right;\n",
       "    }\n",
       "</style>\n",
       "<table border=\"1\" class=\"dataframe\">\n",
       "  <thead>\n",
       "    <tr style=\"text-align: right;\">\n",
       "      <th></th>\n",
       "      <th>Regresion Log</th>\n",
       "      <th>Random Forest</th>\n",
       "      <th>k-Vecinos</th>\n",
       "    </tr>\n",
       "  </thead>\n",
       "  <tbody>\n",
       "    <tr>\n",
       "      <td>parametro balanced</td>\n",
       "      <td>0.512</td>\n",
       "      <td>0.980</td>\n",
       "      <td>0.913</td>\n",
       "    </tr>\n",
       "    <tr>\n",
       "      <td>+ robust scaler</td>\n",
       "      <td>0.805</td>\n",
       "      <td>0.980</td>\n",
       "      <td>0.839</td>\n",
       "    </tr>\n",
       "    <tr>\n",
       "      <td>+ PCA</td>\n",
       "      <td>0.724</td>\n",
       "      <td>0.978</td>\n",
       "      <td>0.880</td>\n",
       "    </tr>\n",
       "  </tbody>\n",
       "</table>\n",
       "</div>"
      ],
      "text/plain": [
       "                    Regresion Log  Random Forest  k-Vecinos\n",
       "parametro balanced          0.512          0.980      0.913\n",
       "+ robust scaler             0.805          0.980      0.839\n",
       "+ PCA                       0.724          0.978      0.880"
      ]
     },
     "execution_count": 112,
     "metadata": {},
     "output_type": "execute_result"
    }
   ],
   "source": [
    "pd.DataFrame(np.array([[cv_lr_os[0]['accuracy test'], cv_rfc_os[0]['accuracy test'], cv_knn_os[0]['accuracy test']], \n",
    "                       [pred_lr_rb[0], pred_rfc_rb[0], pred_knn_rb[0]],\n",
    "                       [pred_pipe_lr[0], pred_pipe_rfc[0], pred_pipe_knn[0]]]), \n",
    "             columns=['Regresion Log', 'Random Forest', 'k-Vecinos'],\n",
    "             index=['parametro balanced','+ robust scaler','+ PCA']\n",
    "            )"
   ]
  },
  {
   "cell_type": "markdown",
   "metadata": {},
   "source": [
    "Comparando los `recall_macro` del CV con los `recall_macro` de las predicciones, nos damos cuenta de que hay un problema de overfitting general: los primeros son muy altos, pero los segundos son muy bajos. En especial ocurre en los 3 modelos de random forest distintos: a la hora de predecir con el conjunto test, sólo saben predecir 1's, convirtiéndolo en un modelo inservible. \n",
    "\n",
    "Por lo tanto, la evidencia sugiere que el modelo \"ganador\" que mejor rendimiento y fiabilidad tiene es el modelo de **k-Vecinos con parámetro balanced**, con un `recall_macro` de 0.662 y un `accuracy` de 0.913 en predicción (de hecho, el `recall_macro` de CV no es exageradamente alto, lo cual descarta que haya overfitting)."
   ]
  },
  {
   "cell_type": "code",
   "execution_count": 113,
   "metadata": {
    "scrolled": true
   },
   "outputs": [
    {
     "data": {
      "text/plain": [
       "array([[  4,   6],\n",
       "       [ 37, 445]], dtype=int64)"
      ]
     },
     "execution_count": 113,
     "metadata": {},
     "output_type": "execute_result"
    }
   ],
   "source": [
    "cv_knn_os[0]['matriz confusion']"
   ]
  },
  {
   "cell_type": "markdown",
   "metadata": {},
   "source": [
    "De 492 canciones que conforman el conjunto test, 449 son predichas correctamente pero 43 no: hay 37 falsos negativos y 6 falsos positivos."
   ]
  },
  {
   "cell_type": "code",
   "execution_count": 114,
   "metadata": {
    "scrolled": true
   },
   "outputs": [],
   "source": [
    "idx_fallos_test = np.where(y_test != cv_knn_os[1])[0] #los índices en el conjunto test de los casos fallidos\n",
    "\n",
    "idx_fallos_df = []\n",
    "for i in idx_fallos_test:\n",
    "    idx_fallos_df.append(np.where((X_test[i] == X).sum(axis=1) == 25)[0][0])\n",
    "    #La idea es buscar la fila de X que coincida exactamente con X_test[i]. Esa fila cumplirá la condición de que está compuesta\n",
    "    #por 27 True, así que con np.where(la condición) obtenemos el index en X de los fallos y lo almacenamos en idx_fallos_df\n",
    "\n",
    "df_fallos = df_titulos.loc[idx_fallos_df,['track','artist','target']]"
   ]
  },
  {
   "cell_type": "code",
   "execution_count": 115,
   "metadata": {
    "scrolled": true
   },
   "outputs": [
    {
     "data": {
      "text/html": [
       "<div>\n",
       "<style scoped>\n",
       "    .dataframe tbody tr th:only-of-type {\n",
       "        vertical-align: middle;\n",
       "    }\n",
       "\n",
       "    .dataframe tbody tr th {\n",
       "        vertical-align: top;\n",
       "    }\n",
       "\n",
       "    .dataframe thead th {\n",
       "        text-align: right;\n",
       "    }\n",
       "</style>\n",
       "<table border=\"1\" class=\"dataframe\">\n",
       "  <thead>\n",
       "    <tr style=\"text-align: right;\">\n",
       "      <th></th>\n",
       "      <th>track</th>\n",
       "      <th>artist</th>\n",
       "      <th>target</th>\n",
       "    </tr>\n",
       "  </thead>\n",
       "  <tbody>\n",
       "    <tr>\n",
       "      <td>586</td>\n",
       "      <td>Cheers (Drink To That)</td>\n",
       "      <td>Rihanna</td>\n",
       "      <td>1</td>\n",
       "    </tr>\n",
       "    <tr>\n",
       "      <td>28</td>\n",
       "      <td>Life After You</td>\n",
       "      <td>Daughtry</td>\n",
       "      <td>1</td>\n",
       "    </tr>\n",
       "    <tr>\n",
       "      <td>849</td>\n",
       "      <td>Nothing Like Us</td>\n",
       "      <td>Justin Bieber</td>\n",
       "      <td>1</td>\n",
       "    </tr>\n",
       "    <tr>\n",
       "      <td>1455</td>\n",
       "      <td>Burn It Down</td>\n",
       "      <td>Linkin Park</td>\n",
       "      <td>1</td>\n",
       "    </tr>\n",
       "    <tr>\n",
       "      <td>964</td>\n",
       "      <td>What Lovers Do</td>\n",
       "      <td>Maroon 5 Featuring SZA</td>\n",
       "      <td>1</td>\n",
       "    </tr>\n",
       "    <tr>\n",
       "      <td>804</td>\n",
       "      <td>Tip Of My Tongue</td>\n",
       "      <td>Kenny Chesney</td>\n",
       "      <td>1</td>\n",
       "    </tr>\n",
       "    <tr>\n",
       "      <td>1021</td>\n",
       "      <td>Sing</td>\n",
       "      <td>My Chemical Romance</td>\n",
       "      <td>1</td>\n",
       "    </tr>\n",
       "    <tr>\n",
       "      <td>569</td>\n",
       "      <td>Heartbreak Warfare</td>\n",
       "      <td>John Mayer</td>\n",
       "      <td>1</td>\n",
       "    </tr>\n",
       "    <tr>\n",
       "      <td>147</td>\n",
       "      <td>No Love</td>\n",
       "      <td>Eminem Featuring Lil Wayne</td>\n",
       "      <td>1</td>\n",
       "    </tr>\n",
       "    <tr>\n",
       "      <td>357</td>\n",
       "      <td>Fast</td>\n",
       "      <td>Luke Bryan</td>\n",
       "      <td>1</td>\n",
       "    </tr>\n",
       "    <tr>\n",
       "      <td>952</td>\n",
       "      <td>Heartbeat Song</td>\n",
       "      <td>Kelly Clarkson</td>\n",
       "      <td>1</td>\n",
       "    </tr>\n",
       "    <tr>\n",
       "      <td>732</td>\n",
       "      <td>All Of The Lights</td>\n",
       "      <td>Kanye West</td>\n",
       "      <td>1</td>\n",
       "    </tr>\n",
       "    <tr>\n",
       "      <td>1560</td>\n",
       "      <td>Evacuate The Dancefloor</td>\n",
       "      <td>Cascada</td>\n",
       "      <td>1</td>\n",
       "    </tr>\n",
       "    <tr>\n",
       "      <td>1243</td>\n",
       "      <td>Farmer's Daughter</td>\n",
       "      <td>Rodney Atkins</td>\n",
       "      <td>1</td>\n",
       "    </tr>\n",
       "    <tr>\n",
       "      <td>878</td>\n",
       "      <td>About The Money</td>\n",
       "      <td>T.I. Featuring Young Thug</td>\n",
       "      <td>1</td>\n",
       "    </tr>\n",
       "    <tr>\n",
       "      <td>1265</td>\n",
       "      <td>Aston Martin Music</td>\n",
       "      <td>Rick Ross Featuring Drake &amp; Chrisette Michele</td>\n",
       "      <td>1</td>\n",
       "    </tr>\n",
       "    <tr>\n",
       "      <td>134</td>\n",
       "      <td>Grass Ain't Greener</td>\n",
       "      <td>Chris Brown</td>\n",
       "      <td>1</td>\n",
       "    </tr>\n",
       "    <tr>\n",
       "      <td>676</td>\n",
       "      <td>Turn Me On</td>\n",
       "      <td>David Guetta Featuring Nicki Minaj</td>\n",
       "      <td>1</td>\n",
       "    </tr>\n",
       "    <tr>\n",
       "      <td>861</td>\n",
       "      <td>Feel So Close</td>\n",
       "      <td>Calvin Harris</td>\n",
       "      <td>1</td>\n",
       "    </tr>\n",
       "    <tr>\n",
       "      <td>557</td>\n",
       "      <td>When We</td>\n",
       "      <td>Tank</td>\n",
       "      <td>1</td>\n",
       "    </tr>\n",
       "    <tr>\n",
       "      <td>1369</td>\n",
       "      <td>Beers Ago</td>\n",
       "      <td>Toby Keith</td>\n",
       "      <td>1</td>\n",
       "    </tr>\n",
       "    <tr>\n",
       "      <td>112</td>\n",
       "      <td>Wet The Bed</td>\n",
       "      <td>Chris Brown Featuring Ludacris</td>\n",
       "      <td>1</td>\n",
       "    </tr>\n",
       "    <tr>\n",
       "      <td>1357</td>\n",
       "      <td>Collard Greens</td>\n",
       "      <td>ScHoolboy Q Featuring Kendrick Lamar</td>\n",
       "      <td>1</td>\n",
       "    </tr>\n",
       "    <tr>\n",
       "      <td>791</td>\n",
       "      <td>Get Along</td>\n",
       "      <td>Kenny Chesney</td>\n",
       "      <td>1</td>\n",
       "    </tr>\n",
       "    <tr>\n",
       "      <td>745</td>\n",
       "      <td>Say Aah</td>\n",
       "      <td>Trey Songz Featuring Fabolous</td>\n",
       "      <td>1</td>\n",
       "    </tr>\n",
       "    <tr>\n",
       "      <td>1519</td>\n",
       "      <td>Shaky Shaky</td>\n",
       "      <td>Daddy Yankee</td>\n",
       "      <td>1</td>\n",
       "    </tr>\n",
       "    <tr>\n",
       "      <td>834</td>\n",
       "      <td>I'll Show You</td>\n",
       "      <td>Justin Bieber</td>\n",
       "      <td>1</td>\n",
       "    </tr>\n",
       "    <tr>\n",
       "      <td>256</td>\n",
       "      <td>The Story Of Us</td>\n",
       "      <td>Taylor Swift</td>\n",
       "      <td>1</td>\n",
       "    </tr>\n",
       "    <tr>\n",
       "      <td>1423</td>\n",
       "      <td>King Of Anything</td>\n",
       "      <td>Sara Bareilles</td>\n",
       "      <td>1</td>\n",
       "    </tr>\n",
       "    <tr>\n",
       "      <td>287</td>\n",
       "      <td>Mona Lisa</td>\n",
       "      <td>Lil Wayne Featuring Kendrick Lamar</td>\n",
       "      <td>1</td>\n",
       "    </tr>\n",
       "    <tr>\n",
       "      <td>1391</td>\n",
       "      <td>I Am</td>\n",
       "      <td>Mary J. Blige</td>\n",
       "      <td>1</td>\n",
       "    </tr>\n",
       "    <tr>\n",
       "      <td>1629</td>\n",
       "      <td>One Day</td>\n",
       "      <td>Matisyahu</td>\n",
       "      <td>1</td>\n",
       "    </tr>\n",
       "    <tr>\n",
       "      <td>464</td>\n",
       "      <td>Super Bass</td>\n",
       "      <td>Nicki Minaj</td>\n",
       "      <td>1</td>\n",
       "    </tr>\n",
       "    <tr>\n",
       "      <td>778</td>\n",
       "      <td>Take It To The Head</td>\n",
       "      <td>DJ Khaled Featuring Chris Brown, Rick Ross, Nicki Minaj &amp; Lil Wayne</td>\n",
       "      <td>1</td>\n",
       "    </tr>\n",
       "    <tr>\n",
       "      <td>126</td>\n",
       "      <td>Loyal</td>\n",
       "      <td>Chris Brown Featuring Lil Wayne &amp; French Montana Or Too $hort Or Tyga</td>\n",
       "      <td>1</td>\n",
       "    </tr>\n",
       "    <tr>\n",
       "      <td>345</td>\n",
       "      <td>Goodbye In Her Eyes</td>\n",
       "      <td>Zac Brown Band</td>\n",
       "      <td>1</td>\n",
       "    </tr>\n",
       "    <tr>\n",
       "      <td>780</td>\n",
       "      <td>I Got The Keys</td>\n",
       "      <td>DJ Khaled Featuring Jay Z &amp; Future</td>\n",
       "      <td>1</td>\n",
       "    </tr>\n",
       "  </tbody>\n",
       "</table>\n",
       "</div>"
      ],
      "text/plain": [
       "                        track  \\\n",
       "586    Cheers (Drink To That)   \n",
       "28             Life After You   \n",
       "849           Nothing Like Us   \n",
       "1455             Burn It Down   \n",
       "964            What Lovers Do   \n",
       "804          Tip Of My Tongue   \n",
       "1021                     Sing   \n",
       "569        Heartbreak Warfare   \n",
       "147                   No Love   \n",
       "357                      Fast   \n",
       "952            Heartbeat Song   \n",
       "732         All Of The Lights   \n",
       "1560  Evacuate The Dancefloor   \n",
       "1243        Farmer's Daughter   \n",
       "878           About The Money   \n",
       "1265       Aston Martin Music   \n",
       "134       Grass Ain't Greener   \n",
       "676                Turn Me On   \n",
       "861             Feel So Close   \n",
       "557                   When We   \n",
       "1369                Beers Ago   \n",
       "112               Wet The Bed   \n",
       "1357           Collard Greens   \n",
       "791                 Get Along   \n",
       "745                   Say Aah   \n",
       "1519              Shaky Shaky   \n",
       "834             I'll Show You   \n",
       "256           The Story Of Us   \n",
       "1423         King Of Anything   \n",
       "287                 Mona Lisa   \n",
       "1391                     I Am   \n",
       "1629                  One Day   \n",
       "464                Super Bass   \n",
       "778       Take It To The Head   \n",
       "126                     Loyal   \n",
       "345       Goodbye In Her Eyes   \n",
       "780            I Got The Keys   \n",
       "\n",
       "                                                                     artist  \\\n",
       "586                                                                 Rihanna   \n",
       "28                                                                 Daughtry   \n",
       "849                                                           Justin Bieber   \n",
       "1455                                                            Linkin Park   \n",
       "964                                                  Maroon 5 Featuring SZA   \n",
       "804                                                           Kenny Chesney   \n",
       "1021                                                    My Chemical Romance   \n",
       "569                                                              John Mayer   \n",
       "147                                              Eminem Featuring Lil Wayne   \n",
       "357                                                              Luke Bryan   \n",
       "952                                                          Kelly Clarkson   \n",
       "732                                                              Kanye West   \n",
       "1560                                                                Cascada   \n",
       "1243                                                          Rodney Atkins   \n",
       "878                                               T.I. Featuring Young Thug   \n",
       "1265                          Rick Ross Featuring Drake & Chrisette Michele   \n",
       "134                                                             Chris Brown   \n",
       "676                                      David Guetta Featuring Nicki Minaj   \n",
       "861                                                           Calvin Harris   \n",
       "557                                                                    Tank   \n",
       "1369                                                             Toby Keith   \n",
       "112                                          Chris Brown Featuring Ludacris   \n",
       "1357                                   ScHoolboy Q Featuring Kendrick Lamar   \n",
       "791                                                           Kenny Chesney   \n",
       "745                                           Trey Songz Featuring Fabolous   \n",
       "1519                                                           Daddy Yankee   \n",
       "834                                                           Justin Bieber   \n",
       "256                                                            Taylor Swift   \n",
       "1423                                                         Sara Bareilles   \n",
       "287                                      Lil Wayne Featuring Kendrick Lamar   \n",
       "1391                                                          Mary J. Blige   \n",
       "1629                                                              Matisyahu   \n",
       "464                                                             Nicki Minaj   \n",
       "778     DJ Khaled Featuring Chris Brown, Rick Ross, Nicki Minaj & Lil Wayne   \n",
       "126   Chris Brown Featuring Lil Wayne & French Montana Or Too $hort Or Tyga   \n",
       "345                                                          Zac Brown Band   \n",
       "780                                      DJ Khaled Featuring Jay Z & Future   \n",
       "\n",
       "      target  \n",
       "586        1  \n",
       "28         1  \n",
       "849        1  \n",
       "1455       1  \n",
       "964        1  \n",
       "804        1  \n",
       "1021       1  \n",
       "569        1  \n",
       "147        1  \n",
       "357        1  \n",
       "952        1  \n",
       "732        1  \n",
       "1560       1  \n",
       "1243       1  \n",
       "878        1  \n",
       "1265       1  \n",
       "134        1  \n",
       "676        1  \n",
       "861        1  \n",
       "557        1  \n",
       "1369       1  \n",
       "112        1  \n",
       "1357       1  \n",
       "791        1  \n",
       "745        1  \n",
       "1519       1  \n",
       "834        1  \n",
       "256        1  \n",
       "1423       1  \n",
       "287        1  \n",
       "1391       1  \n",
       "1629       1  \n",
       "464        1  \n",
       "778        1  \n",
       "126        1  \n",
       "345        1  \n",
       "780        1  "
      ]
     },
     "execution_count": 115,
     "metadata": {},
     "output_type": "execute_result"
    }
   ],
   "source": [
    "#Falsos negativos\n",
    "df_fallos[df_fallos['target']==1]"
   ]
  },
  {
   "cell_type": "markdown",
   "metadata": {},
   "source": [
    "Dicho de otra forma, si estas canciones fuesen lanzadas por artistas desconocidos con perfiles idénticos a los artistas famosos, el modelo los predice como 'no hits' cuando en realidad debería ser 'hits'. "
   ]
  },
  {
   "cell_type": "code",
   "execution_count": 116,
   "metadata": {},
   "outputs": [
    {
     "data": {
      "text/html": [
       "<div>\n",
       "<style scoped>\n",
       "    .dataframe tbody tr th:only-of-type {\n",
       "        vertical-align: middle;\n",
       "    }\n",
       "\n",
       "    .dataframe tbody tr th {\n",
       "        vertical-align: top;\n",
       "    }\n",
       "\n",
       "    .dataframe thead th {\n",
       "        text-align: right;\n",
       "    }\n",
       "</style>\n",
       "<table border=\"1\" class=\"dataframe\">\n",
       "  <thead>\n",
       "    <tr style=\"text-align: right;\">\n",
       "      <th></th>\n",
       "      <th>track</th>\n",
       "      <th>artist</th>\n",
       "      <th>target</th>\n",
       "    </tr>\n",
       "  </thead>\n",
       "  <tbody>\n",
       "    <tr>\n",
       "      <td>296</td>\n",
       "      <td>Cold Summer (feat. Tee Grizzley)</td>\n",
       "      <td>Jeezy</td>\n",
       "      <td>0</td>\n",
       "    </tr>\n",
       "    <tr>\n",
       "      <td>1394</td>\n",
       "      <td>Ms. Fat Booty</td>\n",
       "      <td>Mos Def</td>\n",
       "      <td>0</td>\n",
       "    </tr>\n",
       "    <tr>\n",
       "      <td>299</td>\n",
       "      <td>4Play (feat. Ty Dolla $ign)</td>\n",
       "      <td>Jeezy</td>\n",
       "      <td>0</td>\n",
       "    </tr>\n",
       "    <tr>\n",
       "      <td>506</td>\n",
       "      <td>Disarm You (feat. Ilsey)</td>\n",
       "      <td>Kaskade</td>\n",
       "      <td>0</td>\n",
       "    </tr>\n",
       "    <tr>\n",
       "      <td>300</td>\n",
       "      <td>the enTRAPreneur</td>\n",
       "      <td>Jeezy</td>\n",
       "      <td>0</td>\n",
       "    </tr>\n",
       "    <tr>\n",
       "      <td>1170</td>\n",
       "      <td>Neighbor (feat. Travis Scott)</td>\n",
       "      <td>Juicy J</td>\n",
       "      <td>0</td>\n",
       "    </tr>\n",
       "  </tbody>\n",
       "</table>\n",
       "</div>"
      ],
      "text/plain": [
       "                                 track   artist  target\n",
       "296   Cold Summer (feat. Tee Grizzley)    Jeezy       0\n",
       "1394                     Ms. Fat Booty  Mos Def       0\n",
       "299        4Play (feat. Ty Dolla $ign)    Jeezy       0\n",
       "506           Disarm You (feat. Ilsey)  Kaskade       0\n",
       "300                   the enTRAPreneur    Jeezy       0\n",
       "1170     Neighbor (feat. Travis Scott)  Juicy J       0"
      ]
     },
     "execution_count": 116,
     "metadata": {},
     "output_type": "execute_result"
    }
   ],
   "source": [
    "#Falsos positivos\n",
    "df_fallos[df_fallos['target']==0]"
   ]
  },
  {
   "cell_type": "markdown",
   "metadata": {},
   "source": [
    "# 5. CONCLUSIONES"
   ]
  },
  {
   "cell_type": "markdown",
   "metadata": {},
   "source": [
    "A la vista de los resultados obtenidos, los modelos propuestos no han demostrado ser tan buenos o eficaces a la hora de predecir, probablemente por el problema de desbalanceamiento que presentam los datos. En efecto, los resultados sin aplicar el algoritmo de oversampling SMOTE eran, por lo general, muchísimo peores comparado con los modelos que sí se implementaba SMOTE para corregir el desbalanceamiento. Aún así, los resultados no han sido tan satisfactorios. Si se hubiera conseguido un dataset \"perfecto\", con información balanceada tanto de canciones como de artistas 'hit' y 'no hit', las predicciones seguramente hubieran sido mejores. De hecho, sería información fácil de recabar en internet, pero al estar limitada a encontrar los datasets \"ya preparados\", se han escogido dos que fueran lo más fácil de cruzar y que fueran completos.\n",
    "\n",
    "Además, otra cosa a tener en cuenta es que la representación de 'no hit' como clase minoritaria y 'hit' como clase mayoritaria que había en el dataset tampoco es fiel reflejo de la realidad. Lo normal es que haya muchísimas más canciones 'no hit' en la industria musical que 'hits', y que el objetivo sea detectar estos últimos, que sería la clase minoritaria.\n",
    "\n",
    "A pesar de todo esto, el modelo ganador es un **k-vecinos** de 5 vecinos que predice con un 0.662 de recall promedio y un accuracy de 0.913."
   ]
  },
  {
   "cell_type": "code",
   "execution_count": null,
   "metadata": {},
   "outputs": [],
   "source": []
  }
 ],
 "metadata": {
  "kernelspec": {
   "display_name": "Python 3",
   "language": "python",
   "name": "python3"
  },
  "language_info": {
   "codemirror_mode": {
    "name": "ipython",
    "version": 3
   },
   "file_extension": ".py",
   "mimetype": "text/x-python",
   "name": "python",
   "nbconvert_exporter": "python",
   "pygments_lexer": "ipython3",
   "version": "3.7.4"
  }
 },
 "nbformat": 4,
 "nbformat_minor": 2
}
